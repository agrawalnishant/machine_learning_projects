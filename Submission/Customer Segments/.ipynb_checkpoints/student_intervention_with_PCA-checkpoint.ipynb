{
 "cells": [
  {
   "cell_type": "markdown",
   "metadata": {},
   "source": [
    "# Project 2: Supervised Learning\n",
    "### Building a Student Intervention System"
   ]
  },
  {
   "cell_type": "markdown",
   "metadata": {},
   "source": [
    "## 1. Classification vs Regression\n",
    "\n",
    "Your goal is to identify students who might need early intervention - which type of supervised machine learning problem is this, classification or regression? Why?"
   ]
  },
  {
   "cell_type": "markdown",
   "metadata": {},
   "source": [
    "## 2. Exploring the Data\n",
    "\n",
    "Let's go ahead and read in the student dataset first.\n",
    "\n",
    "_To execute a code cell, click inside it and press **Shift+Enter**._"
   ]
  },
  {
   "cell_type": "code",
   "execution_count": 1503,
   "metadata": {
    "collapsed": false
   },
   "outputs": [],
   "source": [
    "get_ipython().magic(u'matplotlib inline')\n",
    "# Import libraries\n",
    "import numpy as np\n",
    "import pandas as pd\n",
    "import matplotlib\n",
    "import matplotlib.pyplot as plt\n",
    "from time import time\n",
    "from __future__ import division\n",
    "from sklearn import cross_validation\n",
    "\n",
    "from sklearn.metrics import f1_score\n"
   ]
  },
  {
   "cell_type": "code",
   "execution_count": 1504,
   "metadata": {
    "collapsed": false
   },
   "outputs": [
    {
     "name": "stdout",
     "output_type": "stream",
     "text": [
      "Student data read successfully!\n"
     ]
    }
   ],
   "source": [
    "# Read student data\n",
    "student_data = pd.read_csv(\"student-data.csv\")\n",
    "print \"Student data read successfully!\"\n",
    "# Note: The last column 'passed' is the target/label, all other are feature columns"
   ]
  },
  {
   "cell_type": "markdown",
   "metadata": {},
   "source": [
    "Now, can you find out the following facts about the dataset?\n",
    "- Total number of students\n",
    "- Number of students who passed\n",
    "- Number of students who failed\n",
    "- Graduation rate of the class (%)\n",
    "- Number of features\n",
    "\n",
    "_Use the code block below to compute these values. Instructions/steps are marked using **TODO**s._"
   ]
  },
  {
   "cell_type": "code",
   "execution_count": 1505,
   "metadata": {
    "collapsed": false
   },
   "outputs": [
    {
     "name": "stdout",
     "output_type": "stream",
     "text": [
      "Total number of students: 395\n",
      "Number of students who passed: 265\n",
      "Number of students who failed: 130\n",
      "Number of features: 30\n",
      "Graduation rate of the class: 67.09%\n"
     ]
    }
   ],
   "source": [
    "# TODO: Compute desired values - replace each '?' with an appropriate expression/function call\n",
    "n_students = student_data.shape[0]\n",
    "n_features = student_data.shape[1]-1\n",
    "n_passed = student_data.loc[student_data['passed']=='yes'].shape[0]\n",
    "n_failed = n_students-n_passed\n",
    "grad_rate = 100*n_passed/n_students\n",
    "print \"Total number of students: {}\".format(n_students)\n",
    "print \"Number of students who passed: {}\".format(n_passed)\n",
    "print \"Number of students who failed: {}\".format(n_failed)\n",
    "print \"Number of features: {}\".format(n_features)\n",
    "print \"Graduation rate of the class: {:.2f}%\".format(grad_rate)"
   ]
  },
  {
   "cell_type": "markdown",
   "metadata": {},
   "source": [
    "## 3. Preparing the Data\n",
    "In this section, we will prepare the data for modeling, training and testing.\n",
    "\n",
    "### Identify feature and target columns\n",
    "It is often the case that the data you obtain contains non-numeric features. This can be a problem, as most machine learning algorithms expect numeric data to perform computations with.\n",
    "\n",
    "Let's first separate our data into feature and target columns, and see if any features are non-numeric.<br/>\n",
    "**Note**: For this dataset, the last column (`'passed'`) is the target or label we are trying to predict."
   ]
  },
  {
   "cell_type": "code",
   "execution_count": 1506,
   "metadata": {
    "collapsed": false
   },
   "outputs": [
    {
     "name": "stdout",
     "output_type": "stream",
     "text": [
      "Feature column(s):-\n",
      "['school', 'sex', 'age', 'address', 'famsize', 'Pstatus', 'Medu', 'Fedu', 'Mjob', 'Fjob', 'reason', 'guardian', 'traveltime', 'studytime', 'failures', 'schoolsup', 'famsup', 'paid', 'activities', 'nursery', 'higher', 'internet', 'romantic', 'famrel', 'freetime', 'goout', 'Dalc', 'Walc', 'health', 'absences']\n",
      "Target column: passed\n",
      "\n",
      "Feature values:-\n",
      "  school sex  age address famsize Pstatus  Medu  Fedu     Mjob      Fjob  \\\n",
      "0     GP   F   18       U     GT3       A     4     4  at_home   teacher   \n",
      "1     GP   F   17       U     GT3       T     1     1  at_home     other   \n",
      "2     GP   F   15       U     LE3       T     1     1  at_home     other   \n",
      "3     GP   F   15       U     GT3       T     4     2   health  services   \n",
      "4     GP   F   16       U     GT3       T     3     3    other     other   \n",
      "\n",
      "    ...    higher internet  romantic  famrel  freetime goout Dalc Walc health  \\\n",
      "0   ...       yes       no        no       4         3     4    1    1      3   \n",
      "1   ...       yes      yes        no       5         3     3    1    1      3   \n",
      "2   ...       yes      yes        no       4         3     2    2    3      3   \n",
      "3   ...       yes      yes       yes       3         2     2    1    1      5   \n",
      "4   ...       yes       no        no       4         3     2    1    2      5   \n",
      "\n",
      "  absences  \n",
      "0        6  \n",
      "1        4  \n",
      "2       10  \n",
      "3        2  \n",
      "4        4  \n",
      "\n",
      "[5 rows x 30 columns]\n"
     ]
    }
   ],
   "source": [
    "# Extract feature (X) and target (y) columns\n",
    "feature_cols = list(student_data.columns[:-1])  # all columns but last are features\n",
    "target_col = student_data.columns[-1]  # last column is the target/label\n",
    "print \"Feature column(s):-\\n{}\".format(feature_cols)\n",
    "print \"Target column: {}\".format(target_col)\n",
    "\n",
    "X_all = student_data[feature_cols]  # feature values for all students\n",
    "y_all = student_data[target_col]  # corresponding targets/labels\n",
    "print \"\\nFeature values:-\"\n",
    "print X_all.head()  # print the first 5 rows"
   ]
  },
  {
   "cell_type": "markdown",
   "metadata": {},
   "source": [
    "### Preprocess feature columns\n",
    "\n",
    "As you can see, there are several non-numeric columns that need to be converted! Many of them are simply `yes`/`no`, e.g. `internet`. These can be reasonably converted into `1`/`0` (binary) values.\n",
    "\n",
    "Other columns, like `Mjob` and `Fjob`, have more than two values, and are known as _categorical variables_. The recommended way to handle such a column is to create as many columns as possible values (e.g. `Fjob_teacher`, `Fjob_other`, `Fjob_services`, etc.), and assign a `1` to one of them and `0` to all others.\n",
    "\n",
    "These generated columns are sometimes called _dummy variables_, and we will use the [`pandas.get_dummies()`](http://pandas.pydata.org/pandas-docs/stable/generated/pandas.get_dummies.html?highlight=get_dummies#pandas.get_dummies) function to perform this transformation."
   ]
  },
  {
   "cell_type": "code",
   "execution_count": 1507,
   "metadata": {
    "collapsed": false
   },
   "outputs": [
    {
     "name": "stdout",
     "output_type": "stream",
     "text": [
      "Processed feature columns (48):-\n",
      "['school_GP', 'school_MS', 'sex_F', 'sex_M', 'age', 'address_R', 'address_U', 'famsize_GT3', 'famsize_LE3', 'Pstatus_A', 'Pstatus_T', 'Medu', 'Fedu', 'Mjob_at_home', 'Mjob_health', 'Mjob_other', 'Mjob_services', 'Mjob_teacher', 'Fjob_at_home', 'Fjob_health', 'Fjob_other', 'Fjob_services', 'Fjob_teacher', 'reason_course', 'reason_home', 'reason_other', 'reason_reputation', 'guardian_father', 'guardian_mother', 'guardian_other', 'traveltime', 'studytime', 'failures', 'schoolsup', 'famsup', 'paid', 'activities', 'nursery', 'higher', 'internet', 'romantic', 'famrel', 'freetime', 'goout', 'Dalc', 'Walc', 'health', 'absences']\n"
     ]
    }
   ],
   "source": [
    "# Preprocess feature columns\n",
    "def preprocess_features(X):\n",
    "    \n",
    "    outX = pd.DataFrame(index=X.index)  # output dataframe, initially empty\n",
    "    # Check each column\n",
    "    for col, col_data in X.iteritems():\n",
    "        # If data type is non-numeric, try to replace all yes/no values with 1/0\n",
    "        if col_data.dtype == object:\n",
    "            col_data = col_data.replace(['yes', 'no'], [1, 0])\n",
    "        # Note: This should change the data type for yes/no columns to int\n",
    "\n",
    "        # If still non-numeric, convert to one or more dummy variables\n",
    "        if col_data.dtype == object:\n",
    "            col_data = pd.get_dummies(col_data, prefix=col)  # e.g. 'school' => 'school_GP', 'school_MS'\n",
    "\n",
    "        outX = outX.join(col_data)  # collect column(s) in output dataframe\n",
    "\n",
    "    return outX\n",
    "\n",
    "X_all = preprocess_features(X_all)\n",
    "print \"Processed feature columns ({}):-\\n{}\".format(len(X_all.columns), list(X_all.columns))\n",
    "\n",
    "#plt.scatter(X_all[:,0],X_all[:,1],color='r')"
   ]
  },
  {
   "cell_type": "markdown",
   "metadata": {},
   "source": [
    "### Split data into training and test sets\n",
    "\n",
    "So far, we have converted all _categorical_ features into numeric values. In this next step, we split the data (both features and corresponding labels) into training and test sets."
   ]
  },
  {
   "cell_type": "code",
   "execution_count": 1508,
   "metadata": {
    "collapsed": false
   },
   "outputs": [],
   "source": [
    "# First, decide how many training vs test samples you want\n",
    "#num_all = student_data.shape[0]  # same as len(student_data)\n",
    "#num_train = 300  # about 75% of the data\n",
    "#num_test = num_all - num_train\n",
    "X_train, X_test, y_train, y_test = cross_validation.train_test_split(X_all, y_all, test_size=0.25, random_state=0)\n"
   ]
  },
  {
   "cell_type": "code",
   "execution_count": 1509,
   "metadata": {
    "collapsed": false
   },
   "outputs": [
    {
     "name": "stdout",
     "output_type": "stream",
     "text": [
      "Visualizing all features\n"
     ]
    },
    {
     "data": {
      "image/png": "[encoded data removed]",
      "text/plain": [
       "<matplotlib.figure.Figure at 0x10acbae90>"
      ]
     },
     "metadata": {},
     "output_type": "display_data"
    },
    {
     "name": "stdout",
     "output_type": "stream",
     "text": [
      "Since variance becomes negligible around 30, hence will use n_components=30 for pca\n",
      "done in 0.00082s\n",
      "Training set: (296, 25) samples\n",
      "Test set: (99, 25) samples\n"
     ]
    }
   ],
   "source": [
    "\n",
    "from sklearn.decomposition import RandomizedPCA\n",
    "\n",
    "# Reduce features\n",
    "pca = RandomizedPCA(whiten=True).fit(X_train)\n",
    "print \"Visualizing all features\"\n",
    "pc_df=pd.DataFrame({\"pca\":pca.explained_variance_ratio_})\n",
    "plt.plot(pc_df)\n",
    "plt.ylabel('pca (exp vari. ratios)')\n",
    "plt.xlabel('features')\n",
    "plt.show()\n",
    "\n",
    "print \"Since variance becomes negligible around 30, hence will use n_components=30 for pca\"\n",
    "\n",
    "# Reduce features\n",
    "pca = RandomizedPCA(n_components=25,whiten=True).fit(X_train)\n",
    "\n",
    "t0 = time()\n",
    "X_train_pca = pca.transform(X_train)\n",
    "X_test_pca = pca.transform(X_test)\n",
    "print \"done in %0.5fs\" % (time() - t0)\n",
    "# TODO: Then, select features (X) and corresponding labels (y) for the training and test sets\n",
    "# Note: Shuffle the data or randomly select samples to avoid any bias due to ordering in the dataset\n",
    "\n",
    "print \"Training set: {} samples\".format(X_train_pca.shape)\n",
    "print \"Test set: {} samples\".format(X_test_pca.shape)\n",
    "# Note: If you need a validation set, extract it from within training data\n",
    "\n",
    "test_f1score_matrix=pd.DataFrame(columns=['SVC','AB','RF'],index=['110','130','150','170','190','210','230','250','270','290'])"
   ]
  },
  {
   "cell_type": "markdown",
   "metadata": {},
   "source": [
    "## 4. Training and Evaluating Models\n",
    "Choose 3 supervised learning models that are available in scikit-learn, and appropriate for this problem. For each model:\n",
    "\n",
    "- What are the general applications of this model? What are its strengths and weaknesses?\n",
    "- Given what you know about the data so far, why did you choose this model to apply?\n",
    "- Fit this model to the training data, try to predict labels (for both training and test sets), and measure the F<sub>1</sub> score. Repeat this process with different training set sizes (100, 200, 300), keeping test set constant.\n",
    "\n",
    "Produce a table showing training time, prediction time, F<sub>1</sub> score on training set and F<sub>1</sub> score on test set, for each training set size.\n",
    "\n",
    "Note: You need to produce 3 such tables - one for each model."
   ]
  },
  {
   "cell_type": "code",
   "execution_count": 1510,
   "metadata": {
    "collapsed": false
   },
   "outputs": [
    {
     "name": "stdout",
     "output_type": "stream",
     "text": [
      "Training SVC...\n",
      "Done!\n",
      "Training time (secs): 0.00624\n",
      "SVC(C=10, cache_size=200, class_weight=None, coef0=0.0,\n",
      "  decision_function_shape=None, degree=3, gamma=0.001, kernel='rbf',\n",
      "  max_iter=-1, probability=False, random_state=None, shrinking=True,\n",
      "  tol=0.001, verbose=False)\n"
     ]
    }
   ],
   "source": [
    "# Train a model\n",
    "import time\n",
    "\n",
    "def train_classifier(clf, X_train, y_train):\n",
    "    print \"Training {}...\".format(clf.__class__.__name__)\n",
    "    start = time.time()\n",
    "    clf.fit(X_train, y_train)\n",
    "    end = time.time()\n",
    "    print \"Done!\\nTraining time (secs): {:.5f}\".format(end - start)\n",
    "\n",
    "# TODO: Choose a model, import it and instantiate an object\n",
    "from sklearn.svm import SVC\n",
    "clf = SVC(C=10,gamma=0.001)\n",
    "\n",
    "\n",
    "# Fit model to training data\n",
    "train_classifier(clf, X_train_pca, y_train)  # note: using entire training set here\n",
    "#print clf  # you can inspect the learned model by printing it\n",
    "\n",
    "print clf\n"
   ]
  },
  {
   "cell_type": "code",
   "execution_count": 1511,
   "metadata": {
    "collapsed": false
   },
   "outputs": [
    {
     "name": "stdout",
     "output_type": "stream",
     "text": [
      "Predicting labels using SVC...\n",
      "Done!\n",
      "Prediction time (secs): 0.00362\n",
      "F1 score for training set: 0.834745762712\n"
     ]
    }
   ],
   "source": [
    "# Predict on training set and compute F1 score\n",
    "from sklearn.metrics import f1_score\n",
    "\n",
    "def predict_labels(clf, features, target):\n",
    "    print \"Predicting labels using {}...\".format(clf.__class__.__name__)\n",
    "    start = time.time()\n",
    "    y_pred = clf.predict(features)\n",
    "    end = time.time()\n",
    "    print \"Done!\\nPrediction time (secs): {:.5f}\".format(end - start)\n",
    "    return f1_score(target.values, y_pred, pos_label='yes')\n",
    "\n",
    "train_f1_score = predict_labels(clf, X_train_pca, y_train)\n",
    "print \"F1 score for training set: {}\".format(train_f1_score)"
   ]
  },
  {
   "cell_type": "code",
   "execution_count": 1512,
   "metadata": {
    "collapsed": false
   },
   "outputs": [
    {
     "name": "stdout",
     "output_type": "stream",
     "text": [
      "Predicting labels using SVC...\n",
      "Done!\n",
      "Prediction time (secs): 0.00126\n",
      "F1 score for test set: 0.797385620915\n"
     ]
    }
   ],
   "source": [
    "# Predict on test data\n",
    "print \"F1 score for test set: {}\".format(predict_labels(clf, X_test_pca, y_test))"
   ]
  },
  {
   "cell_type": "code",
   "execution_count": 1513,
   "metadata": {
    "collapsed": false
   },
   "outputs": [
    {
     "name": "stdout",
     "output_type": "stream",
     "text": [
      "------------------------------------------\n",
      "Training set size: 110\n",
      "Training SVC...\n",
      "Done!\n",
      "Training time (secs): 0.00163\n",
      "Predicting labels using SVC...\n",
      "Done!\n",
      "Prediction time (secs): 0.00072\n",
      "F1 score for training set: 0.797619047619\n",
      "Predicting labels using SVC...\n",
      "Done!\n",
      "Prediction time (secs): 0.00061\n",
      "F1 score for test set: 0.794701986755\n",
      "------------------------------------------\n",
      "Training set size: 130\n",
      "Training SVC...\n",
      "Done!\n",
      "Training time (secs): 0.00132\n",
      "Predicting labels using SVC...\n",
      "Done!\n",
      "Prediction time (secs): 0.00105\n",
      "F1 score for training set: 0.814432989691\n",
      "Predicting labels using SVC...\n",
      "Done!\n",
      "Prediction time (secs): 0.00071\n",
      "F1 score for test set: 0.8\n",
      "------------------------------------------\n",
      "Training set size: 150\n",
      "Training SVC...\n",
      "Done!\n",
      "Training time (secs): 0.00195\n",
      "Predicting labels using SVC...\n",
      "Done!\n",
      "Prediction time (secs): 0.00103\n",
      "F1 score for training set: 0.798206278027\n",
      "Predicting labels using SVC...\n",
      "Done!\n",
      "Prediction time (secs): 0.00089\n",
      "F1 score for test set: 0.794701986755\n",
      "------------------------------------------\n",
      "Training set size: 170\n",
      "Training SVC...\n",
      "Done!\n",
      "Training time (secs): 0.00213\n",
      "Predicting labels using SVC...\n",
      "Done!\n",
      "Prediction time (secs): 0.00145\n",
      "F1 score for training set: 0.798479087452\n",
      "Predicting labels using SVC...\n",
      "Done!\n",
      "Prediction time (secs): 0.00077\n",
      "F1 score for test set: 0.789473684211\n",
      "------------------------------------------\n",
      "Training set size: 190\n",
      "Training SVC...\n",
      "Done!\n",
      "Training time (secs): 0.00323\n",
      "Predicting labels using SVC...\n",
      "Done!\n",
      "Prediction time (secs): 0.00178\n",
      "F1 score for training set: 0.814814814815\n",
      "Predicting labels using SVC...\n",
      "Done!\n",
      "Prediction time (secs): 0.00083\n",
      "F1 score for test set: 0.797385620915\n",
      "------------------------------------------\n",
      "Training set size: 210\n",
      "Training SVC...\n",
      "Done!\n",
      "Training time (secs): 0.00371\n",
      "Predicting labels using SVC...\n",
      "Done!\n",
      "Prediction time (secs): 0.00179\n",
      "F1 score for training set: 0.825301204819\n",
      "Predicting labels using SVC...\n",
      "Done!\n",
      "Prediction time (secs): 0.00080\n",
      "F1 score for test set: 0.797385620915\n",
      "------------------------------------------\n",
      "Training set size: 230\n",
      "Training SVC...\n",
      "Done!\n",
      "Training time (secs): 0.00403\n",
      "Predicting labels using SVC...\n",
      "Done!\n",
      "Prediction time (secs): 0.00237\n",
      "F1 score for training set: 0.821917808219\n",
      "Predicting labels using SVC...\n",
      "Done!\n",
      "Prediction time (secs): 0.00099\n",
      "F1 score for test set: 0.797385620915\n",
      "------------------------------------------\n",
      "Training set size: 250\n",
      "Training SVC...\n",
      "Done!\n",
      "Training time (secs): 0.00432\n",
      "Predicting labels using SVC...\n",
      "Done!\n",
      "Prediction time (secs): 0.00287\n",
      "F1 score for training set: 0.823232323232\n",
      "Predicting labels using SVC...\n",
      "Done!\n",
      "Prediction time (secs): 0.00117\n",
      "F1 score for test set: 0.797385620915\n",
      "------------------------------------------\n",
      "Training set size: 270\n",
      "Training SVC...\n",
      "Done!\n",
      "Training time (secs): 0.00514\n",
      "Predicting labels using SVC...\n",
      "Done!\n",
      "Prediction time (secs): 0.00311\n",
      "F1 score for training set: 0.835266821346\n",
      "Predicting labels using SVC...\n",
      "Done!\n",
      "Prediction time (secs): 0.00092\n",
      "F1 score for test set: 0.797385620915\n",
      "------------------------------------------\n",
      "Training set size: 290\n",
      "Training SVC...\n",
      "Done!\n",
      "Training time (secs): 0.00515\n",
      "Predicting labels using SVC...\n",
      "Done!\n",
      "Prediction time (secs): 0.00342\n",
      "F1 score for training set: 0.832971800434\n",
      "Predicting labels using SVC...\n",
      "Done!\n",
      "Prediction time (secs): 0.00124\n",
      "F1 score for test set: 0.797385620915\n"
     ]
    }
   ],
   "source": [
    "# Train and predict using different training set sizes\n",
    "def train_predict(clf, X_train, y_train, X_test, y_test):\n",
    "    print \"------------------------------------------\"\n",
    "    print \"Training set size: {}\".format(len(X_train))\n",
    "    train_classifier(clf, X_train, y_train)\n",
    "    print \"F1 score for training set: {}\".format(predict_labels(clf, X_train, y_train))\n",
    "    test_score=predict_labels(clf, X_test, y_test)\n",
    "    print \"F1 score for test set: {}\".format(test_score)\n",
    "    return test_score\n",
    "\n",
    "for i in range(1,11):\n",
    "    clf = SVC(C=10,gamma=0.001)\n",
    "    test_f1score_matrix['SVC'][i-1]=train_predict(clf, X_train_pca[0:90+(20*i)], y_train[0:90+(20*i)],X_test_pca, y_test)\n"
   ]
  },
  {
   "cell_type": "code",
   "execution_count": null,
   "metadata": {
    "collapsed": true
   },
   "outputs": [],
   "source": []
  },
  {
   "cell_type": "code",
   "execution_count": 1514,
   "metadata": {
    "collapsed": false
   },
   "outputs": [
    {
     "name": "stdout",
     "output_type": "stream",
     "text": [
      "------------------------------------------\n",
      "Training set size: 110\n",
      "Training AdaBoostClassifier...\n",
      "Done!\n",
      "Training time (secs): 0.17847\n",
      "Predicting labels using AdaBoostClassifier...\n",
      "Done!\n",
      "Prediction time (secs): 0.00755\n",
      "F1 score for training set: 1.0\n",
      "Predicting labels using AdaBoostClassifier...\n",
      "Done!\n",
      "Prediction time (secs): 0.00716\n",
      "F1 score for test set: 0.698412698413\n",
      "------------------------------------------\n",
      "Training set size: 130\n",
      "Training AdaBoostClassifier...\n",
      "Done!\n",
      "Training time (secs): 0.18465\n",
      "Predicting labels using AdaBoostClassifier...\n",
      "Done!\n",
      "Prediction time (secs): 0.00672\n",
      "F1 score for training set: 1.0\n",
      "Predicting labels using AdaBoostClassifier...\n",
      "Done!\n",
      "Prediction time (secs): 0.00611\n",
      "F1 score for test set: 0.723076923077\n",
      "------------------------------------------\n",
      "Training set size: 150\n",
      "Training AdaBoostClassifier...\n",
      "Done!\n",
      "Training time (secs): 0.19710\n",
      "Predicting labels using AdaBoostClassifier...\n",
      "Done!\n",
      "Prediction time (secs): 0.00683\n",
      "F1 score for training set: 0.994708994709\n",
      "Predicting labels using AdaBoostClassifier...\n",
      "Done!\n",
      "Prediction time (secs): 0.00733\n",
      "F1 score for test set: 0.75\n",
      "------------------------------------------\n",
      "Training set size: 170\n",
      "Training AdaBoostClassifier...\n",
      "Done!\n",
      "Training time (secs): 0.20076\n",
      "Predicting labels using AdaBoostClassifier...\n",
      "Done!\n",
      "Prediction time (secs): 0.00806\n",
      "F1 score for training set: 1.0\n",
      "Predicting labels using AdaBoostClassifier...\n",
      "Done!\n",
      "Prediction time (secs): 0.00792\n",
      "F1 score for test set: 0.744525547445\n",
      "------------------------------------------\n",
      "Training set size: 190\n",
      "Training AdaBoostClassifier...\n",
      "Done!\n",
      "Training time (secs): 0.22574\n",
      "Predicting labels using AdaBoostClassifier...\n",
      "Done!\n",
      "Prediction time (secs): 0.01378\n",
      "F1 score for training set: 0.969230769231\n",
      "Predicting labels using AdaBoostClassifier...\n",
      "Done!\n",
      "Prediction time (secs): 0.00888\n",
      "F1 score for test set: 0.769230769231\n",
      "------------------------------------------\n",
      "Training set size: 210\n",
      "Training AdaBoostClassifier...\n",
      "Done!\n",
      "Training time (secs): 0.22334\n",
      "Predicting labels using AdaBoostClassifier...\n",
      "Done!\n",
      "Prediction time (secs): 0.00740\n",
      "F1 score for training set: 0.965277777778\n",
      "Predicting labels using AdaBoostClassifier...\n",
      "Done!\n",
      "Prediction time (secs): 0.00625\n",
      "F1 score for test set: 0.786206896552\n",
      "------------------------------------------\n",
      "Training set size: 230\n",
      "Training AdaBoostClassifier...\n",
      "Done!\n",
      "Training time (secs): 0.22262\n",
      "Predicting labels using AdaBoostClassifier...\n",
      "Done!\n",
      "Prediction time (secs): 0.00866\n",
      "F1 score for training set: 0.946372239748\n",
      "Predicting labels using AdaBoostClassifier...\n",
      "Done!\n",
      "Prediction time (secs): 0.00653\n",
      "F1 score for test set: 0.765957446809\n",
      "------------------------------------------\n",
      "Training set size: 250\n",
      "Training AdaBoostClassifier...\n",
      "Done!\n",
      "Training time (secs): 0.22607\n",
      "Predicting labels using AdaBoostClassifier...\n",
      "Done!\n",
      "Prediction time (secs): 0.00872\n",
      "F1 score for training set: 0.957264957265\n",
      "Predicting labels using AdaBoostClassifier...\n",
      "Done!\n",
      "Prediction time (secs): 0.00773\n",
      "F1 score for test set: 0.767123287671\n",
      "------------------------------------------\n",
      "Training set size: 270\n",
      "Training AdaBoostClassifier...\n",
      "Done!\n",
      "Training time (secs): 0.23055\n",
      "Predicting labels using AdaBoostClassifier...\n",
      "Done!\n",
      "Prediction time (secs): 0.00918\n",
      "F1 score for training set: 0.947368421053\n",
      "Predicting labels using AdaBoostClassifier...\n",
      "Done!\n",
      "Prediction time (secs): 0.00673\n",
      "F1 score for test set: 0.772413793103\n",
      "------------------------------------------\n",
      "Training set size: 290\n",
      "Training AdaBoostClassifier...\n",
      "Done!\n",
      "Training time (secs): 0.23550\n",
      "Predicting labels using AdaBoostClassifier...\n",
      "Done!\n",
      "Prediction time (secs): 0.00942\n",
      "F1 score for training set: 0.915662650602\n",
      "Predicting labels using AdaBoostClassifier...\n",
      "Done!\n",
      "Prediction time (secs): 0.00766\n",
      "F1 score for test set: 0.827586206897\n"
     ]
    }
   ],
   "source": [
    "# TODO: Train and predict using two other models\n",
    "## Using AdaBoost\n",
    "from sklearn.ensemble import AdaBoostClassifier\n",
    "from sklearn.tree import DecisionTreeClassifier\n",
    "\n",
    "#dt_clf=DecisionTreeClassifier(presort=True, min_samples_leaf=2,max_depth=1,max_features=15)\n",
    "#clf = AdaBoostClassifier(dt_clf,n_estimators=10,learning_rate=0.1)\n",
    "# Fit model to training data\n",
    "#train_classifier(clf, X_train_pca, y_train)  # note: using entire training set here\n",
    "#print clf\n",
    "\n",
    "#train_f1_score = predict_labels(clf, X_train_pca, y_train)\n",
    "#print \"F1 score for training set: {}\".format(train_f1_score)\n",
    "\n",
    "# Predict on test data\n",
    "#print \"F1 score for test set: {}\".format(predict_labels(clf, X_test_pca, y_test))\n",
    "\n",
    "learning_rate=1.0\n",
    "for i in range(1,11):\n",
    "    dt_clf=DecisionTreeClassifier(presort=True, min_samples_leaf=1,max_depth=1,max_features=25)\n",
    "    if i > 6:\n",
    "        learning_rate=0.9\n",
    "    clf = AdaBoostClassifier(dt_clf,algorithm=\"SAMME\",n_estimators=80,learning_rate=learning_rate)\n",
    "    test_f1score_matrix['AB'][i-1]=train_predict(clf, X_train_pca[0:90+(20*i)], y_train[0:90+(20*i)],X_test_pca, y_test)\n",
    "#test_f1score_matrix['AB'][1]=train_predict(clf, X_train_pca[0:5], y_train[0:5],X_test_pca, y_test)\n",
    "#test_f1score_matrix['AB'][2]=train_predict(clf, X_train_pca[0:100], y_train[0:100],X_test_pca, y_test)\n",
    "#test_f1score_matrix['AB'][3]=train_predict(clf, X_train_pca[0:200], y_train[0:200],X_test_pca, y_test)\n",
    "#test_f1score_matrix['AB'][4]=train_predict(clf, X_train_pca[0:290], y_train[0:290],X_test_pca, y_test)"
   ]
  },
  {
   "cell_type": "code",
   "execution_count": 1515,
   "metadata": {
    "collapsed": false
   },
   "outputs": [
    {
     "name": "stdout",
     "output_type": "stream",
     "text": [
      "------------------------------------------\n",
      "Training set size: 110\n",
      "Training RandomForestClassifier...\n",
      "Done!\n",
      "Training time (secs): 0.27754\n",
      "Predicting labels using RandomForestClassifier...\n",
      "Done!\n",
      "Prediction time (secs): 0.00828\n",
      "F1 score for training set: 0.958333333333\n",
      "Predicting labels using RandomForestClassifier...\n",
      "Done!\n",
      "Prediction time (secs): 0.00824\n",
      "F1 score for test set: 0.753424657534\n",
      "------------------------------------------\n",
      "Training set size: 130\n",
      "Training RandomForestClassifier...\n",
      "Done!\n",
      "Training time (secs): 0.28029\n",
      "Predicting labels using RandomForestClassifier...\n",
      "Done!\n",
      "Prediction time (secs): 0.00900\n",
      "F1 score for training set: 0.936416184971\n",
      "Predicting labels using RandomForestClassifier...\n",
      "Done!\n",
      "Prediction time (secs): 0.00924\n",
      "F1 score for test set: 0.786666666667\n",
      "------------------------------------------\n",
      "Training set size: 150\n",
      "Training RandomForestClassifier...\n",
      "Done!\n",
      "Training time (secs): 0.31096\n",
      "Predicting labels using RandomForestClassifier...\n",
      "Done!\n",
      "Prediction time (secs): 0.00894\n",
      "F1 score for training set: 0.926108374384\n",
      "Predicting labels using RandomForestClassifier...\n",
      "Done!\n",
      "Prediction time (secs): 0.00810\n",
      "F1 score for test set: 0.776315789474\n",
      "------------------------------------------\n",
      "Training set size: 170\n",
      "Training RandomForestClassifier...\n",
      "Done!\n",
      "Training time (secs): 0.30520\n",
      "Predicting labels using RandomForestClassifier...\n",
      "Done!\n",
      "Prediction time (secs): 0.01018\n",
      "F1 score for training set: 0.928270042194\n",
      "Predicting labels using RandomForestClassifier...\n",
      "Done!\n",
      "Prediction time (secs): 0.00966\n",
      "F1 score for test set: 0.781456953642\n",
      "------------------------------------------\n",
      "Training set size: 190\n",
      "Training RandomForestClassifier...\n",
      "Done!\n",
      "Training time (secs): 0.30326\n",
      "Predicting labels using RandomForestClassifier...\n",
      "Done!\n",
      "Prediction time (secs): 0.00867\n",
      "F1 score for training set: 0.903225806452\n",
      "Predicting labels using RandomForestClassifier...\n",
      "Done!\n",
      "Prediction time (secs): 0.00773\n",
      "F1 score for test set: 0.781456953642\n",
      "------------------------------------------\n",
      "Training set size: 210\n",
      "Training RandomForestClassifier...\n",
      "Done!\n",
      "Training time (secs): 0.32867\n",
      "Predicting labels using RandomForestClassifier...\n",
      "Done!\n",
      "Prediction time (secs): 0.00845\n",
      "F1 score for training set: 0.906148867314\n",
      "Predicting labels using RandomForestClassifier...\n",
      "Done!\n",
      "Prediction time (secs): 0.00973\n",
      "F1 score for test set: 0.797385620915\n",
      "------------------------------------------\n",
      "Training set size: 230\n",
      "Training RandomForestClassifier...\n",
      "Done!\n",
      "Training time (secs): 0.32964\n",
      "Predicting labels using RandomForestClassifier...\n",
      "Done!\n",
      "Prediction time (secs): 0.01020\n",
      "F1 score for training set: 0.875706214689\n",
      "Predicting labels using RandomForestClassifier...\n",
      "Done!\n",
      "Prediction time (secs): 0.00876\n",
      "F1 score for test set: 0.779874213836\n",
      "------------------------------------------\n",
      "Training set size: 250\n",
      "Training RandomForestClassifier...\n",
      "Done!\n",
      "Training time (secs): 0.31986\n",
      "Predicting labels using RandomForestClassifier...\n",
      "Done!\n",
      "Prediction time (secs): 0.00875\n",
      "F1 score for training set: 0.876288659794\n",
      "Predicting labels using RandomForestClassifier...\n",
      "Done!\n",
      "Prediction time (secs): 0.00921\n",
      "F1 score for test set: 0.774193548387\n",
      "------------------------------------------\n",
      "Training set size: 270\n",
      "Training RandomForestClassifier...\n",
      "Done!\n",
      "Training time (secs): 0.36054\n",
      "Predicting labels using RandomForestClassifier...\n",
      "Done!\n",
      "Prediction time (secs): 0.01016\n",
      "F1 score for training set: 0.876777251185\n",
      "Predicting labels using RandomForestClassifier...\n",
      "Done!\n",
      "Prediction time (secs): 0.00819\n",
      "F1 score for test set: 0.771241830065\n",
      "------------------------------------------\n",
      "Training set size: 290\n",
      "Training RandomForestClassifier...\n",
      "Done!\n",
      "Training time (secs): 0.34927\n",
      "Predicting labels using RandomForestClassifier...\n",
      "Done!\n",
      "Prediction time (secs): 0.01046\n",
      "F1 score for training set: 0.860869565217\n",
      "Predicting labels using RandomForestClassifier...\n",
      "Done!\n",
      "Prediction time (secs): 0.00838\n",
      "F1 score for test set: 0.794871794872\n",
      "          SVC        AB        RF\n",
      "110  0.794702  0.698413  0.753425\n",
      "130       0.8  0.723077  0.786667\n",
      "150  0.794702      0.75  0.776316\n",
      "170  0.789474  0.744526  0.781457\n",
      "190  0.797386  0.769231  0.781457\n",
      "210  0.797386  0.786207  0.797386\n",
      "230  0.797386  0.765957  0.779874\n",
      "250  0.797386  0.767123  0.774194\n",
      "270  0.797386  0.772414  0.771242\n",
      "290  0.797386  0.827586  0.794872\n",
      "svc  [[0.79470198675496695 0.69841269841269837 0.75342465753424648 110]]\n",
      "values:  Index([u'110', u'130', u'150', u'170', u'190', u'210', u'230', u'250', u'270',\n",
      "       u'290'],\n",
      "      dtype='object')\n",
      "          SVC        AB        RF  count\n",
      "110  0.794702  0.698413  0.753425    110\n",
      "130       0.8  0.723077  0.786667    130\n",
      "150  0.794702      0.75  0.776316    150\n",
      "170  0.789474  0.744526  0.781457    170\n",
      "190  0.797386  0.769231  0.781457    190\n",
      "210  0.797386  0.786207  0.797386    210\n",
      "230  0.797386  0.765957  0.779874    230\n",
      "250  0.797386  0.767123  0.774194    250\n",
      "270  0.797386  0.772414  0.771242    270\n",
      "290  0.797386  0.827586  0.794872    290\n"
     ]
    },
    {
     "data": {
      "image/png": "[encoded data removed]",
      "text/plain": [
       "<matplotlib.figure.Figure at 0x10af3a550>"
      ]
     },
     "metadata": {},
     "output_type": "display_data"
    }
   ],
   "source": [
    "# TODO: Train and predict using two other models\n",
    "## Using RandomForest\n",
    "from sklearn.ensemble import RandomForestClassifier\n",
    "\n",
    "#clf = RandomForestClassifier(n_estimators=10, max_depth=2,min_samples_leaf=2,max_features=15)\n",
    "# Fit model to training data\n",
    "#train_classifier(clf, X_train_pca, y_train)  # note: using entire training set here\n",
    "#print clf\n",
    "\n",
    "#train_f1_score = predict_labels(clf, X_train_pca, y_train)\n",
    "#print \"F1 score for training set: {}\".format(train_f1_score)\n",
    "\n",
    "# Predict on test data\n",
    "#print \"F1 score for test set: {}\".format(predict_labels(clf, X_test_pca, y_test))\n",
    "\n",
    "\n",
    "for i in range(1,11):\n",
    "    clf = RandomForestClassifier(n_estimators=100, max_depth=3,min_samples_leaf=2,max_features=25)\n",
    "    test_f1score_matrix['RF'][i-1]=train_predict(clf, X_train_pca[0:90+(20*i)], y_train[0:90+(20*i)],X_test_pca, y_test)\n",
    "\n",
    "\n",
    "print test_f1score_matrix\n",
    "test_f1score_matrix['count']=[110,130,150,170,190,210,230,250,270,290]\n",
    "print \"svc \", test_f1score_matrix[0:1].values\n",
    "print \"values: \", test_f1score_matrix.index\n",
    "\n",
    "print test_f1score_matrix\n",
    "plt.plot(test_f1score_matrix['count'].values,test_f1score_matrix['SVC'].values,label='SVC')\n",
    "plt.plot(test_f1score_matrix['count'].values,test_f1score_matrix['AB'].values,label='AB')\n",
    "plt.plot(test_f1score_matrix['count'].values,test_f1score_matrix['RF'].values,label='RF')\n",
    "plt.legend(loc='upper left', shadow=True)\n",
    "plt.show()"
   ]
  },
  {
   "cell_type": "markdown",
   "metadata": {},
   "source": [
    "## 5. Choosing the Best Model\n",
    "\n",
    "- Based on the experiments you performed earlier, in 1-2 paragraphs explain to the board of supervisors what single model you chose as the best model. Which model is generally the most appropriate based on the available data, limited resources, cost, and performance?\n",
    "- In 1-2 paragraphs explain to the board of supervisors in layman's terms how the final model chosen is supposed to work (for example if you chose a Decision Tree or Support Vector Machine, how does it make a prediction).\n",
    "- Fine-tune the model. Use Gridsearch with at least one important parameter tuned and with at least 3 settings. Use the entire training set for this.\n",
    "- What is the model's final F<sub>1</sub> score?"
   ]
  },
  {
   "cell_type": "code",
   "execution_count": 1516,
   "metadata": {
    "collapsed": true
   },
   "outputs": [],
   "source": [
    "# TODO: Fine-tune your model and report the best F1 score"
   ]
  }
 ],
 "metadata": {
  "kernelspec": {
   "display_name": "Python 2",
   "language": "python",
   "name": "python2"
  },
  "language_info": {
   "codemirror_mode": {
    "name": "ipython",
    "version": 2
   },
   "file_extension": ".py",
   "mimetype": "text/x-python",
   "name": "python",
   "nbconvert_exporter": "python",
   "pygments_lexer": "ipython2",
   "version": "2.7.10"
  }
 },
 "nbformat": 4,
 "nbformat_minor": 0
}
