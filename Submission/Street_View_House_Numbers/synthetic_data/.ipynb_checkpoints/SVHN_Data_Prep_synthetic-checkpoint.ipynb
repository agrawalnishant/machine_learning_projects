{
 "cells": [
  {
   "cell_type": "markdown",
   "metadata": {},
   "source": [
    "# Get SVHN data"
   ]
  },
  {
   "cell_type": "code",
   "execution_count": 66,
   "metadata": {
    "collapsed": false
   },
   "outputs": [],
   "source": [
    "# These are all the modules we'll be using later. Make sure you can import them\n",
    "# before proceeding further.\n",
    "from __future__ import print_function\n",
    "import matplotlib.pyplot as plt\n",
    "import numpy as np\n",
    "import os\n",
    "import sys\n",
    "import tarfile\n",
    "from IPython.display import display, Image\n",
    "from PIL import Image\n",
    "from scipy import ndimage\n",
    "from sklearn.linear_model import LogisticRegression\n",
    "from six.moves.urllib.request import urlretrieve\n",
    "import cPickle as pickle\n",
    "import matplotlib.image as mpimg\n",
    "\n",
    "\n",
    "# Config the matlotlib backend as plotting inline in IPython\n",
    "%matplotlib inline"
   ]
  },
  {
   "cell_type": "code",
   "execution_count": 67,
   "metadata": {
    "collapsed": true
   },
   "outputs": [],
   "source": [
    "###Load SVHN Data files, including mat data, for train and test datasets."
   ]
  },
  {
   "cell_type": "code",
   "execution_count": 68,
   "metadata": {
    "collapsed": false
   },
   "outputs": [
    {
     "name": "stdout",
     "output_type": "stream",
     "text": [
      "nt.stat_result(st_mode=33206, st_ino=0L, st_dev=0L, st_nlink=0, st_uid=0, st_gid=0, st_size=404141560L, st_atime=1474310160L, st_mtime=1472399951L, st_ctime=1474310160L)\n",
      "Found and verified ../original_data_files/train.tar.gz\n",
      "nt.stat_result(st_mode=33206, st_ino=0L, st_dev=0L, st_nlink=0, st_uid=0, st_gid=0, st_size=276555967L, st_atime=1474310159L, st_mtime=1472399729L, st_ctime=1474310159L)\n",
      "Found and verified ../original_data_files/test.tar.gz\n"
     ]
    }
   ],
   "source": [
    "url = 'http://ufldl.stanford.edu/housenumbers/'\n",
    "local_path='../original_data_files/'\n",
    "last_percent_reported = None\n",
    "\n",
    "def download_progress_hook(count, blockSize, totalSize):\n",
    "  \"\"\"A hook to report the progress of a download. This is mostly intended for users with\n",
    "  slow internet connections. Reports every 1% change in download progress.\n",
    "  \"\"\"\n",
    "  global last_percent_reported\n",
    "  percent = int(count * blockSize * 100 / totalSize)\n",
    "\n",
    "  if last_percent_reported != percent:\n",
    "    if percent % 5 == 0:\n",
    "      sys.stdout.write(\"%s%%\" % percent)\n",
    "      sys.stdout.flush()\n",
    "    else:\n",
    "      sys.stdout.write(\".\")\n",
    "      sys.stdout.flush()\n",
    "      \n",
    "    last_percent_reported = percent\n",
    "        \n",
    "def maybe_download(filename, expected_bytes, force=False):\n",
    "  \"\"\"Download a file if not present, and make sure it's the right size.\"\"\"\n",
    "  if force or not os.path.exists(local_path + filename):\n",
    "    print('Attempting to download:', local_path+ filename) \n",
    "    filename, _ = urlretrieve(url + filename, local_path+filename, reporthook=download_progress_hook)\n",
    "    print('\\nDownload Complete!')\n",
    "  statinfo = os.stat(local_path+filename)\n",
    "  print(statinfo)\n",
    "  if statinfo.st_size == expected_bytes:\n",
    "    print('Found and verified', local_path+filename)\n",
    "  else:\n",
    "    raise Exception(\n",
    "      'Failed to verify ' + local_path+filename + '. Can you get to it with a browser?')\n",
    "  return local_path+ filename\n",
    "\n",
    "train_filename = maybe_download('train.tar.gz',404141560)\n",
    "test_filename = maybe_download('test.tar.gz',276555967)\n"
   ]
  },
  {
   "cell_type": "code",
   "execution_count": null,
   "metadata": {
    "collapsed": true
   },
   "outputs": [],
   "source": []
  },
  {
   "cell_type": "markdown",
   "metadata": {},
   "source": [
    "### Extract files"
   ]
  },
  {
   "cell_type": "code",
   "execution_count": 69,
   "metadata": {
    "collapsed": false
   },
   "outputs": [
    {
     "name": "stdout",
     "output_type": "stream",
     "text": [
      "../original_data_files/train already present - Skipping extraction of ../original_data_files/train.tar.gz.\n",
      "../original_data_files/train\n",
      "../original_data_files/test already present - Skipping extraction of ../original_data_files/test.tar.gz.\n",
      "../original_data_files/test\n"
     ]
    }
   ],
   "source": [
    "np.random.seed(133)\n",
    "\n",
    "def maybe_extract(filename, force=False):\n",
    "  root = os.path.splitext(os.path.splitext(filename)[0])[0]  # remove .tar.gz\n",
    "  if os.path.isdir(root) and not force:\n",
    "    # You may override by setting force=True.\n",
    "    print('%s already present - Skipping extraction of %s.' % (root, filename))\n",
    "  else:\n",
    "    print('Extracting data for %s. This may take a while. Please wait.' % root)\n",
    "    tar = tarfile.open(filename)\n",
    "    sys.stdout.flush()\n",
    "    tar.extractall()\n",
    "    tar.close()\n",
    "  data_folders = root\n",
    "  \n",
    "  print(data_folders)\n",
    "  return data_folders\n",
    "  \n",
    "train_folders = maybe_extract(train_filename)\n",
    "test_folders = maybe_extract(test_filename)\n",
    "\n"
   ]
  },
  {
   "cell_type": "markdown",
   "metadata": {
    "collapsed": true
   },
   "source": [
    "### Format .mat data"
   ]
  },
  {
   "cell_type": "code",
   "execution_count": 70,
   "metadata": {
    "collapsed": false
   },
   "outputs": [],
   "source": [
    "import h5py\n",
    "import time \n",
    "\n",
    "pixel_depth = 128.0  # Number of levels per pixel.\n",
    "\n",
    "class ImageData:\n",
    "    def __init__(self, data_folder, imageDataMatFilePath):\n",
    "        self.data_folder=data_folder\n",
    "        self.file = os.path.join(data_folder, 'digitStruct.mat')\n",
    "        self.file = h5py.File(self.file, 'r')\n",
    "        self.names = self.file['digitStruct/name']\n",
    "        self.boxes = self.file['digitStruct/bbox']\n",
    "    \n",
    "    def get_labels_and_dataset(self, generate_synthetic, should_rotate):\n",
    "        image_vertices_count=4\n",
    "        \n",
    "        ''' 5 places + 1 for length'''\n",
    "        digit_count=6\n",
    "        desired_image_size=32\n",
    "        if generate_synthetic == True:\n",
    "            cut_percentage=0.05\n",
    "        else:\n",
    "            cut_percentage=0.0\n",
    "        \n",
    "        if should_rotate == True:\n",
    "            rotate_angle=10\n",
    "        else:\n",
    "            rotate_angle=0\n",
    "\n",
    "        #Images to be processed\n",
    "        image_count = len(self.names)\n",
    "\n",
    "        #Array to hold labels of digits in an image\n",
    "        #Add one for length\n",
    "        print(\"generate_synthetic:\",generate_synthetic, \", should_rotate:\",should_rotate)\n",
    "        image_labels_array=np.zeros(image_count * (digit_count)).reshape(image_count,digit_count)\n",
    "        dataset_basic = np.ndarray(shape=(image_count, desired_image_size, desired_image_size),dtype=np.float32)\n",
    "\n",
    "        print(\"image_labels: \",image_labels_array.shape)\n",
    "        start_time = time.time()\n",
    "\n",
    "\n",
    "        ##Iterate over all images and get dims of images's bbox ( and not digit bbox), and digit labels.\n",
    "        for count in range(image_count):\n",
    "            left=0.\n",
    "            top=0.\n",
    "            bottom=0.\n",
    "            right=0.\n",
    "            img_label=self.file[self.boxes[count].item()][\"label\"]\n",
    "            img_left=self.file[self.boxes[count].item()][\"left\"]\n",
    "            img_top=self.file[self.boxes[count].item()][\"top\"]\n",
    "            img_height=self.file[self.boxes[count].item()][\"height\"]\n",
    "            img_width=self.file[self.boxes[count].item()][\"width\"]\n",
    "            num_digits=len(img_label)\n",
    "\n",
    "            \n",
    "            \n",
    "            image_labels_array[count,:]=float(0)\n",
    "            image_labels_array[count,0]=num_digits\n",
    "            ##Get bbox and digits for each image\n",
    "            for digit_counter in np.arange(num_digits):\n",
    "                if(num_digits == 1):\n",
    "                    tmp_label=img_label.value[0]\n",
    "                    image_labels_array[count,digit_count - num_digits + digit_counter]=tmp_label\n",
    "                    tmp_left=img_left.value[0]\n",
    "                    tmp_top=img_top.value[0]\n",
    "                    tmp_height=img_height.value[0]\n",
    "                    tmp_width=img_width.value[0]\n",
    "                else:\n",
    "                    tmp_label=self.file[img_label.value[digit_counter].item()].value[0]\n",
    "                    image_labels_array[count,digit_count - num_digits + digit_counter]=tmp_label\n",
    "                    tmp_left=self.file[img_left.value[digit_counter].item()].value[0]\n",
    "                    tmp_top=self.file[img_top.value[digit_counter].item()].value[0]\n",
    "                    tmp_height=self.file[img_height.value[digit_counter].item()].value[0]\n",
    "                    tmp_width=self.file[img_width.value[digit_counter].item()].value[0]\n",
    "                #print(\"tmp_label:\", tmp_label)\n",
    "\n",
    "                tmp_bottom=tmp_top+tmp_height\n",
    "                tmp_right=tmp_left+tmp_width\n",
    "\n",
    "                #Find the largest margins by taking min of top and left, and max of right and bottom\n",
    "                #Also reduce top and left margins, and increase right and bottom margings to avoid cutting digits\n",
    "                # cases handling x==0 are for initialization\n",
    "                if(left==0 or tmp_left < left):\n",
    "                    left=tmp_left * (1 - cut_percentage);\n",
    "                if(top==0 or tmp_top < top):\n",
    "                    top=tmp_top * (1 - cut_percentage)\n",
    "                if(bottom ==0 or tmp_bottom > bottom):\n",
    "                    bottom=tmp_bottom * (1 - cut_percentage)\n",
    "                if(right==0 or tmp_right > right):\n",
    "                    right=tmp_right * (1 - cut_percentage)\n",
    "            fullname = os.path.join(self.data_folder, str(count+1)+\".png\")\n",
    "            im = Image.open(fullname)\n",
    "            #plt.imshow(im)\n",
    "            #im.show()\n",
    "            if count % 2 == 0:\n",
    "                rotation = rotate_angle\n",
    "            else:\n",
    "                rotation=-1 * rotate_angle\n",
    "            \n",
    "            #print(\"rotation: \", rotation)\n",
    "            im_orig = im.rotate(rotation).crop((left, top, right, bottom)).resize([desired_image_size,desired_image_size]).convert('L')\n",
    "            \n",
    "            dataset_basic[count]=im_orig.rotate(rotate_angle)\n",
    "            #plt.imshow(im_orig, cmap='Greys_r')\n",
    "                       \n",
    "        #print(\"image_labels_array: \",image_labels_array.shape, \"\\n shape: \",image_labels_array[0:2,:],\\\n",
    "        #      \",\\n\",image_labels_array[image_count:image_count+2,:])\n",
    "      \n",
    "        #print(\"Time taken to find image bounding box:\\n- %4.4f seconds ---\" % (time.time() - start_time))\n",
    "        #print(\"\\nsample:\\n\",dataset_basic[0:1,:])\n",
    "        dataset_basic = (dataset_basic.astype(float) - pixel_depth / 2) / pixel_depth\n",
    "        #print(\"\\nsample:\\n\",dataset_basic[0:1,:])\n",
    "        print('Mean:', np.mean(dataset_basic),',  Standard deviation:', np.std(dataset_basic))\n",
    "        \n",
    "        \n",
    "        return image_labels_array, dataset_basic \n",
    "\n",
    "\n"
   ]
  },
  {
   "cell_type": "code",
   "execution_count": 71,
   "metadata": {
    "collapsed": true
   },
   "outputs": [],
   "source": [
    "def pickle_data_to_file(pickle_filename, pickle_key,pickle_data):\n",
    "    pickle_file = pickle_filename + '.pickle'\n",
    "\n",
    "    try:\n",
    "      f = open(pickle_file, 'wb')\n",
    "      save = {\n",
    "        pickle_key : pickle_data\n",
    "        }\n",
    "      pickle.dump(save, f, 1)\n",
    "      f.close()\n",
    "    except Exception as e:\n",
    "      print('Unable to save data to', pickle_file, ':', e)\n",
    "      raise"
   ]
  },
  {
   "cell_type": "code",
   "execution_count": null,
   "metadata": {
    "collapsed": false
   },
   "outputs": [
    {
     "name": "stdout",
     "output_type": "stream",
     "text": [
      "generate_synthetic: False , should_rotate: False\n",
      "image_labels:  (33402L, 6L)\n",
      "Mean: 0.381773043533 ,  Standard deviation: 0.393036510116\n",
      "generate_synthetic: True , should_rotate: False\n",
      "image_labels:  (33402L, 6L)\n",
      "Mean: 0.38367424516 ,  Standard deviation: 0.39394778251\n",
      "generate_synthetic: False , should_rotate: True\n",
      "image_labels:  (33402L, 6L)\n",
      "Mean: 0.314791382276 ,  Standard deviation: 0.445769861946\n",
      "generate_synthetic: True , should_rotate: True\n",
      "image_labels:  (33402L, 6L)\n",
      "Mean: 0.315672676704 ,  Standard deviation: 0.447853451258\n"
     ]
    }
   ],
   "source": [
    "train_image_data = ImageData(train_folders, 'digitStruct.mat')\n",
    "train_image_labels, train_dataset = train_image_data.get_labels_and_dataset(False, False)\n",
    "pickle_data_to_file('train_image_labels','train_image_labels', train_image_labels)\n",
    "pickle_data_to_file('train_dataset','train_dataset', train_dataset)\n",
    "\n",
    "\n",
    "train_image_labels_truncated, train_dataset_truncated = train_image_data.get_labels_and_dataset(True, False)\n",
    "pickle_data_to_file('train_dataset_truncated','train_dataset', train_dataset_truncated)\n",
    "\n",
    "train_image_labels_rotated, train_dataset_rotated = train_image_data.get_labels_and_dataset(False, True)\n",
    "pickle_data_to_file('train_dataset_rotated','train_dataset', train_dataset_rotated)\n",
    "\n",
    "\n",
    "train_image_labels_truncated_rotated, train_dataset_truncated_rotated = train_image_data.get_labels_and_dataset(True, True)\n",
    "pickle_data_to_file('train_dataset_truncated_rotated','train_dataset', train_dataset_truncated_rotated)\n",
    "\n"
   ]
  },
  {
   "cell_type": "code",
   "execution_count": null,
   "metadata": {
    "collapsed": false
   },
   "outputs": [
    {
     "name": "stdout",
     "output_type": "stream",
     "text": [
      "generate_synthetic: False , should_rotate: False\n",
      "image_labels:  (13068L, 6L)\n"
     ]
    }
   ],
   "source": [
    "test_image_data = ImageData(test_folders, 'digitStruct.mat')\n",
    "test_image_labels, test_dataset = test_image_data.get_labels_and_dataset(False,False)\n",
    "pickle_data_to_file('test_image_labels','test_image_labels',test_image_labels)\n",
    "pickle_data_to_file('test_dataset','test_dataset',test_dataset)\n"
   ]
  },
  {
   "cell_type": "code",
   "execution_count": null,
   "metadata": {
    "collapsed": true
   },
   "outputs": [],
   "source": []
  }
 ],
 "metadata": {
  "anaconda-cloud": {},
  "kernelspec": {
   "display_name": "Python [Root]",
   "language": "python",
   "name": "Python [Root]"
  },
  "language_info": {
   "codemirror_mode": {
    "name": "ipython",
    "version": 2
   },
   "file_extension": ".py",
   "mimetype": "text/x-python",
   "name": "python",
   "nbconvert_exporter": "python",
   "pygments_lexer": "ipython2",
   "version": "2.7.12"
  }
 },
 "nbformat": 4,
 "nbformat_minor": 0
}
