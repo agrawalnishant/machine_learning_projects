{
 "cells": [
  {
   "cell_type": "markdown",
   "metadata": {},
   "source": [
    "# Get SVHN data"
   ]
  },
  {
   "cell_type": "code",
   "execution_count": 16,
   "metadata": {
    "collapsed": false
   },
   "outputs": [],
   "source": [
    "# These are all the modules we'll be using later. Make sure you can import them\n",
    "# before proceeding further.\n",
    "from __future__ import print_function\n",
    "import matplotlib.pyplot as plt\n",
    "import numpy as np\n",
    "import os\n",
    "import sys\n",
    "import tarfile\n",
    "from IPython.display import display, Image\n",
    "from PIL import Image\n",
    "from scipy import ndimage\n",
    "from sklearn.linear_model import LogisticRegression\n",
    "from six.moves.urllib.request import urlretrieve\n",
    "import cPickle as pickle\n",
    "import matplotlib.image as mpimg\n",
    "\n",
    "\n",
    "# Config the matlotlib backend as plotting inline in IPython\n",
    "%matplotlib inline"
   ]
  },
  {
   "cell_type": "code",
   "execution_count": 17,
   "metadata": {
    "collapsed": true
   },
   "outputs": [],
   "source": [
    "###Load SVHN Data files, including mat data, for train and test datasets."
   ]
  },
  {
   "cell_type": "code",
   "execution_count": 18,
   "metadata": {
    "collapsed": false
   },
   "outputs": [
    {
     "name": "stdout",
     "output_type": "stream",
     "text": [
      "nt.stat_result(st_mode=33206, st_ino=0L, st_dev=0L, st_nlink=0, st_uid=0, st_gid=0, st_size=404141560L, st_atime=1474300928L, st_mtime=1472399951L, st_ctime=1474300928L)\n",
      "Found and verified ../original_data_files/train.tar.gz\n",
      "nt.stat_result(st_mode=33206, st_ino=0L, st_dev=0L, st_nlink=0, st_uid=0, st_gid=0, st_size=276555967L, st_atime=1474300928L, st_mtime=1472399729L, st_ctime=1474300928L)\n",
      "Found and verified ../original_data_files/test.tar.gz\n"
     ]
    }
   ],
   "source": [
    "url = 'http://ufldl.stanford.edu/housenumbers/'\n",
    "local_path='../original_data_files/'\n",
    "last_percent_reported = None\n",
    "\n",
    "def download_progress_hook(count, blockSize, totalSize):\n",
    "  \"\"\"A hook to report the progress of a download. This is mostly intended for users with\n",
    "  slow internet connections. Reports every 1% change in download progress.\n",
    "  \"\"\"\n",
    "  global last_percent_reported\n",
    "  percent = int(count * blockSize * 100 / totalSize)\n",
    "\n",
    "  if last_percent_reported != percent:\n",
    "    if percent % 5 == 0:\n",
    "      sys.stdout.write(\"%s%%\" % percent)\n",
    "      sys.stdout.flush()\n",
    "    else:\n",
    "      sys.stdout.write(\".\")\n",
    "      sys.stdout.flush()\n",
    "      \n",
    "    last_percent_reported = percent\n",
    "        \n",
    "def maybe_download(filename, expected_bytes, force=False):\n",
    "  \"\"\"Download a file if not present, and make sure it's the right size.\"\"\"\n",
    "  if force or not os.path.exists(local_path + filename):\n",
    "    print('Attempting to download:', local_path+ filename) \n",
    "    filename, _ = urlretrieve(url + filename, local_path+filename, reporthook=download_progress_hook)\n",
    "    print('\\nDownload Complete!')\n",
    "  statinfo = os.stat(local_path+filename)\n",
    "  print(statinfo)\n",
    "  if statinfo.st_size == expected_bytes:\n",
    "    print('Found and verified', local_path+filename)\n",
    "  else:\n",
    "    raise Exception(\n",
    "      'Failed to verify ' + local_path+filename + '. Can you get to it with a browser?')\n",
    "  return local_path+ filename\n",
    "\n",
    "train_filename = maybe_download('train.tar.gz',404141560)\n",
    "test_filename = maybe_download('test.tar.gz',276555967)\n"
   ]
  },
  {
   "cell_type": "code",
   "execution_count": null,
   "metadata": {
    "collapsed": true
   },
   "outputs": [],
   "source": []
  },
  {
   "cell_type": "markdown",
   "metadata": {},
   "source": [
    "### Extract files"
   ]
  },
  {
   "cell_type": "code",
   "execution_count": 19,
   "metadata": {
    "collapsed": false
   },
   "outputs": [
    {
     "name": "stdout",
     "output_type": "stream",
     "text": [
      "../original_data_files/train already present - Skipping extraction of ../original_data_files/train.tar.gz.\n",
      "../original_data_files/train\n",
      "../original_data_files/test already present - Skipping extraction of ../original_data_files/test.tar.gz.\n",
      "../original_data_files/test\n"
     ]
    }
   ],
   "source": [
    "np.random.seed(133)\n",
    "\n",
    "def maybe_extract(filename, force=False):\n",
    "  root = os.path.splitext(os.path.splitext(filename)[0])[0]  # remove .tar.gz\n",
    "  if os.path.isdir(root) and not force:\n",
    "    # You may override by setting force=True.\n",
    "    print('%s already present - Skipping extraction of %s.' % (root, filename))\n",
    "  else:\n",
    "    print('Extracting data for %s. This may take a while. Please wait.' % root)\n",
    "    tar = tarfile.open(filename)\n",
    "    sys.stdout.flush()\n",
    "    tar.extractall()\n",
    "    tar.close()\n",
    "  data_folders = root\n",
    "  \n",
    "  print(data_folders)\n",
    "  return data_folders\n",
    "  \n",
    "train_folders = maybe_extract(train_filename)\n",
    "test_folders = maybe_extract(test_filename)\n",
    "\n"
   ]
  },
  {
   "cell_type": "markdown",
   "metadata": {
    "collapsed": true
   },
   "source": [
    "### Format .mat data"
   ]
  },
  {
   "cell_type": "code",
   "execution_count": 20,
   "metadata": {
    "collapsed": false
   },
   "outputs": [],
   "source": [
    "import h5py\n",
    "import time \n",
    "\n",
    "pixel_depth = 128.0  # Number of levels per pixel.\n",
    "\n",
    "class ImageData:\n",
    "    def __init__(self, data_folder, imageDataMatFilePath):\n",
    "        self.data_folder=data_folder\n",
    "        self.file = os.path.join(data_folder, 'digitStruct.mat')\n",
    "        self.file = h5py.File(self.file, 'r')\n",
    "        self.names = self.file['digitStruct/name']\n",
    "        self.boxes = self.file['digitStruct/bbox']\n",
    "    \n",
    "    def get_labels_and_dataset(self, is_train):\n",
    "        image_vertices_count=4\n",
    "        \n",
    "        ''' 5 places + 1 for length'''\n",
    "        digit_count=6\n",
    "        desired_image_size=32\n",
    "\n",
    "        #Images to be processed\n",
    "        image_count = len(self.names)\n",
    "\n",
    "        #Array to hold labels of digits in an image\n",
    "        #Add one for length\n",
    "        print(\"is_train:\",is_train)\n",
    "        if (is_train == True) :\n",
    "            multiplier = 2\n",
    "        else:\n",
    "            multiplier = 1\n",
    "        image_labels_array=np.zeros(multiplier * image_count * (digit_count)).reshape(multiplier * image_count,digit_count)\n",
    "        dataset_basic = np.ndarray(shape=(multiplier * image_count, desired_image_size, desired_image_size),dtype=np.float32)\n",
    "\n",
    "        print(\"image_labels: \",image_labels_array.shape)\n",
    "        start_time = time.time()\n",
    "\n",
    "\n",
    "        ##Iterate over all images and get dims of images's bbox ( and not digit bbox), and digit labels.\n",
    "        for count in range(image_count):\n",
    "            left=0.\n",
    "            top=0.\n",
    "            bottom=0.\n",
    "            right=0.\n",
    "            img_label=self.file[self.boxes[count].item()][\"label\"]\n",
    "            img_left=self.file[self.boxes[count].item()][\"left\"]\n",
    "            img_top=self.file[self.boxes[count].item()][\"top\"]\n",
    "            img_height=self.file[self.boxes[count].item()][\"height\"]\n",
    "            img_width=self.file[self.boxes[count].item()][\"width\"]\n",
    "            num_digits=len(img_label)\n",
    "            #print(\"num_digits:\", num_digits)\n",
    "\n",
    "            \n",
    "            \n",
    "            image_labels_array[count,:]=float(0)\n",
    "            image_labels_array[count,0]=num_digits\n",
    "            ##Get bbox and digits for each image\n",
    "            for digit_counter in np.arange(num_digits):\n",
    "                if(num_digits == 1):\n",
    "                    tmp_label=img_label.value[0]\n",
    "                    image_labels_array[count,digit_count - num_digits + digit_counter]=tmp_label\n",
    "                    tmp_left=img_left.value[0]\n",
    "                    tmp_top=img_top.value[0]\n",
    "                    tmp_height=img_height.value[0]\n",
    "                    tmp_width=img_width.value[0]\n",
    "                else:\n",
    "                    tmp_label=self.file[img_label.value[digit_counter].item()].value[0]\n",
    "                    image_labels_array[count,digit_count - num_digits + digit_counter]=tmp_label\n",
    "                    tmp_left=self.file[img_left.value[digit_counter].item()].value[0]\n",
    "                    tmp_top=self.file[img_top.value[digit_counter].item()].value[0]\n",
    "                    tmp_height=self.file[img_height.value[digit_counter].item()].value[0]\n",
    "                    tmp_width=self.file[img_width.value[digit_counter].item()].value[0]\n",
    "                #print(\"tmp_label:\", tmp_label)\n",
    "\n",
    "                tmp_bottom=tmp_top+tmp_height\n",
    "                tmp_right=tmp_left+tmp_width\n",
    "\n",
    "                #Find the largest margins by taking min of top and left, and max of right and bottom\n",
    "                #Also reduce top and left margins, and increase right and bottom margings to avoid cutting digits\n",
    "                # cases handling x==0 are for initialization\n",
    "                if(left==0 or tmp_left < left):\n",
    "                    left=tmp_left*0.95;\n",
    "                if(top==0 or tmp_top < top):\n",
    "                    top=tmp_top*0.95\n",
    "                if(bottom ==0 or tmp_bottom > bottom):\n",
    "                    bottom=tmp_bottom*1.05\n",
    "                if(right==0 or tmp_right > right):\n",
    "                    right=tmp_right*1.05\n",
    "            fullname = os.path.join(self.data_folder, str(count+1)+\".png\")\n",
    "            im = Image.open(fullname)\n",
    "            #plt.imshow(im)\n",
    "            #im.show()\n",
    "            im_orig = im.crop((left, top, right, bottom)).resize([desired_image_size,desired_image_size]).convert('L')\n",
    "            dataset_basic[count]=im_orig\n",
    "            #plt.imshow(im_orig, cmap='Greys_r')\n",
    "                       \n",
    "        print(\"image_labels_array: \",image_labels_array.shape, \"\\n shape: \",image_labels_array[0:2,:],\\\n",
    "              \",\\n\",image_labels_array[image_count:image_count+2,:])\n",
    "      \n",
    "        print(\"Time taken to find image bounding box:\\n- %4.4f seconds ---\" % (time.time() - start_time))\n",
    "        print(\"\\nsample:\\n\",dataset_basic[0:1,:])\n",
    "        dataset_basic = (dataset_basic.astype(float) - pixel_depth / 2) / pixel_depth\n",
    "        print(\"\\nsample:\\n\",dataset_basic[0:1,:])\n",
    "        print('Mean:', np.mean(dataset_basic))\n",
    "        print('Standard deviation:', np.std(dataset_basic))\n",
    "        \n",
    "        \n",
    "        return image_labels_array, dataset_basic \n",
    "\n",
    "\n"
   ]
  },
  {
   "cell_type": "code",
   "execution_count": 25,
   "metadata": {
    "collapsed": false
   },
   "outputs": [
    {
     "name": "stdout",
     "output_type": "stream",
     "text": [
      "is_train: False\n",
      "image_labels:  (33402L, 6L)\n",
      "image_labels_array:  (33402L, 6L) \n",
      " shape:  [[ 2.  0.  0.  0.  1.  9.]\n",
      " [ 2.  0.  0.  0.  2.  3.]] ,\n",
      " []\n",
      "Time taken to find image bounding box:\n",
      "- 188.8250 seconds ---\n",
      "\n",
      "sample:\n",
      " [[[  77.   74.   72. ...,   76.   82.   80.]\n",
      "  [  74.   77.   75. ...,   80.   80.   80.]\n",
      "  [  75.   80.   77. ...,   82.   84.   82.]\n",
      "  ..., \n",
      "  [ 101.  103.  101. ...,  102.  100.  103.]\n",
      "  [ 101.  103.  104. ...,  101.  106.  101.]\n",
      "  [  98.  107.  105. ...,  101.  103.   99.]]]\n",
      "\n",
      "sample:\n",
      " [[[ 0.1015625  0.078125   0.0625    ...,  0.09375    0.140625   0.125    ]\n",
      "  [ 0.078125   0.1015625  0.0859375 ...,  0.125      0.125      0.125    ]\n",
      "  [ 0.0859375  0.125      0.1015625 ...,  0.140625   0.15625    0.140625 ]\n",
      "  ..., \n",
      "  [ 0.2890625  0.3046875  0.2890625 ...,  0.296875   0.28125    0.3046875]\n",
      "  [ 0.2890625  0.3046875  0.3125    ...,  0.2890625  0.328125   0.2890625]\n",
      "  [ 0.265625   0.3359375  0.3203125 ...,  0.2890625  0.3046875  0.2734375]]]\n",
      "Mean: 0.382095322981\n",
      "Standard deviation: 0.398013909751\n"
     ]
    }
   ],
   "source": [
    "train_image_data = ImageData(train_folders, 'digitStruct.mat')\n",
    "train_image_labels, train_dataset = train_image_data.get_labels_and_dataset(False)\n"
   ]
  },
  {
   "cell_type": "code",
   "execution_count": 26,
   "metadata": {
    "collapsed": true
   },
   "outputs": [],
   "source": [
    "def pickle_data_to_file(pickle_key, pickle_data):\n",
    "    pickle_file = pickle_key + '.pickle'\n",
    "\n",
    "    try:\n",
    "      f = open(pickle_file, 'wb')\n",
    "      save = {\n",
    "        'pickle_key': pickle_data\n",
    "        }\n",
    "      pickle.dump(save, f, 1)\n",
    "      f.close()\n",
    "    except Exception as e:\n",
    "      print('Unable to save data to', pickle_file, ':', e)\n",
    "      raise"
   ]
  },
  {
   "cell_type": "code",
   "execution_count": 27,
   "metadata": {
    "collapsed": false
   },
   "outputs": [],
   "source": [
    "pickle_data_to_file('train_image_labels',train_image_labels)\n",
    "pickle_data_to_file('train_dataset',train_dataset)"
   ]
  },
  {
   "cell_type": "code",
   "execution_count": 28,
   "metadata": {
    "collapsed": false
   },
   "outputs": [
    {
     "name": "stdout",
     "output_type": "stream",
     "text": [
      "is_train: False\n",
      "image_labels:  (13068L, 6L)\n",
      "image_labels_array:  (13068L, 6L) \n",
      " shape:  [[  1.   0.   0.   0.   0.   5.]\n",
      " [  3.   0.   0.   2.   1.  10.]] ,\n",
      " []\n",
      "Time taken to find image bounding box:\n",
      "- 82.2310 seconds ---\n",
      "\n",
      "sample:\n",
      " [[[ 80.  80.  80. ...,  79.  77.  78.]\n",
      "  [ 80.  80.  81. ...,  79.  79.  78.]\n",
      "  [ 80.  80.  81. ...,  79.  80.  78.]\n",
      "  ..., \n",
      "  [ 80.  80.  75. ...,  91.  90.  90.]\n",
      "  [ 79.  79.  74. ...,  90.  89.  88.]\n",
      "  [ 81.  81.  77. ...,  88.  88.  87.]]]\n",
      "\n",
      "sample:\n",
      " [[[ 0.125      0.125      0.125     ...,  0.1171875  0.1015625  0.109375 ]\n",
      "  [ 0.125      0.125      0.1328125 ...,  0.1171875  0.1171875  0.109375 ]\n",
      "  [ 0.125      0.125      0.1328125 ...,  0.1171875  0.125      0.109375 ]\n",
      "  ..., \n",
      "  [ 0.125      0.125      0.0859375 ...,  0.2109375  0.203125   0.203125 ]\n",
      "  [ 0.1171875  0.1171875  0.078125  ...,  0.203125   0.1953125  0.1875   ]\n",
      "  [ 0.1328125  0.1328125  0.1015625 ...,  0.1875     0.1875     0.1796875]]]\n",
      "Mean: 0.39389989425\n",
      "Standard deviation: 0.449869844899\n"
     ]
    }
   ],
   "source": [
    "test_image_data = ImageData(test_folders, 'digitStruct.mat')\n",
    "test_image_labels, test_dataset = test_image_data.get_labels_and_dataset(False)"
   ]
  },
  {
   "cell_type": "code",
   "execution_count": 29,
   "metadata": {
    "collapsed": true
   },
   "outputs": [],
   "source": [
    "pickle_data_to_file('test_image_labels',test_image_labels)\n",
    "pickle_data_to_file('test_dataset',test_dataset)"
   ]
  }
 ],
 "metadata": {
  "anaconda-cloud": {},
  "kernelspec": {
   "display_name": "Python [Root]",
   "language": "python",
   "name": "Python [Root]"
  },
  "language_info": {
   "codemirror_mode": {
    "name": "ipython",
    "version": 2
   },
   "file_extension": ".py",
   "mimetype": "text/x-python",
   "name": "python",
   "nbconvert_exporter": "python",
   "pygments_lexer": "ipython2",
   "version": "2.7.12"
  }
 },
 "nbformat": 4,
 "nbformat_minor": 0
}
