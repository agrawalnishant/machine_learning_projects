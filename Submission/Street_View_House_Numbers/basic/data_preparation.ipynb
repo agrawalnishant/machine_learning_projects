{
 "cells": [
  {
   "cell_type": "markdown",
   "metadata": {},
   "source": [
    "# Get SVHN data"
   ]
  },
  {
   "cell_type": "code",
   "execution_count": 33,
   "metadata": {
    "collapsed": true
   },
   "outputs": [],
   "source": [
    "# These are all the modules we'll be using later. Make sure you can import them\n",
    "# before proceeding further.\n",
    "from __future__ import print_function\n",
    "import matplotlib.pyplot as plt\n",
    "import numpy as np\n",
    "import os\n",
    "import sys\n",
    "import tarfile\n",
    "from IPython.display import display, Image\n",
    "from PIL import Image\n",
    "from scipy import ndimage\n",
    "from sklearn.linear_model import LogisticRegression\n",
    "from six.moves.urllib.request import urlretrieve\n",
    "import cPickle as pickle\n",
    "\n",
    "# Config the matlotlib backend as plotting inline in IPython\n",
    "%matplotlib inline"
   ]
  },
  {
   "cell_type": "code",
   "execution_count": 34,
   "metadata": {
    "collapsed": true
   },
   "outputs": [],
   "source": [
    "###Load SVHN Data files, including mat data, for train and test datasets."
   ]
  },
  {
   "cell_type": "code",
   "execution_count": 35,
   "metadata": {
    "collapsed": false
   },
   "outputs": [
    {
     "name": "stdout",
     "output_type": "stream",
     "text": [
      "Found and verified train.tar.gz\n",
      "Found and verified test.tar.gz\n"
     ]
    }
   ],
   "source": [
    "url = 'http://ufldl.stanford.edu/housenumbers/'\n",
    "last_percent_reported = None\n",
    "\n",
    "def download_progress_hook(count, blockSize, totalSize):\n",
    "  \"\"\"A hook to report the progress of a download. This is mostly intended for users with\n",
    "  slow internet connections. Reports every 1% change in download progress.\n",
    "  \"\"\"\n",
    "  global last_percent_reported\n",
    "  percent = int(count * blockSize * 100 / totalSize)\n",
    "\n",
    "  if last_percent_reported != percent:\n",
    "    if percent % 5 == 0:\n",
    "      sys.stdout.write(\"%s%%\" % percent)\n",
    "      sys.stdout.flush()\n",
    "    else:\n",
    "      sys.stdout.write(\".\")\n",
    "      sys.stdout.flush()\n",
    "      \n",
    "    last_percent_reported = percent\n",
    "        \n",
    "def maybe_download(filename, expected_bytes, force=False):\n",
    "  \"\"\"Download a file if not present, and make sure it's the right size.\"\"\"\n",
    "  if force or not os.path.exists(filename):\n",
    "    print('Attempting to download:', filename) \n",
    "    filename, _ = urlretrieve(url + filename, filename, reporthook=download_progress_hook)\n",
    "    print('\\nDownload Complete!')\n",
    "  statinfo = os.stat(filename)\n",
    "  if statinfo.st_size == expected_bytes:\n",
    "    print('Found and verified', filename)\n",
    "  else:\n",
    "    raise Exception(\n",
    "      'Failed to verify ' + filename + '. Can you get to it with a browser?')\n",
    "  return filename\n",
    "\n",
    "train_filename = maybe_download('train.tar.gz',404141560)\n",
    "test_filename = maybe_download('test.tar.gz',276555967)"
   ]
  },
  {
   "cell_type": "markdown",
   "metadata": {},
   "source": [
    "### Extract files"
   ]
  },
  {
   "cell_type": "code",
   "execution_count": 36,
   "metadata": {
    "collapsed": false
   },
   "outputs": [
    {
     "name": "stdout",
     "output_type": "stream",
     "text": [
      "train already present - Skipping extraction of train.tar.gz.\n",
      "train\n",
      "test already present - Skipping extraction of test.tar.gz.\n",
      "test\n"
     ]
    }
   ],
   "source": [
    "np.random.seed(133)\n",
    "\n",
    "def maybe_extract(filename, force=False):\n",
    "  root = os.path.splitext(os.path.splitext(filename)[0])[0]  # remove .tar.gz\n",
    "  if os.path.isdir(root) and not force:\n",
    "    # You may override by setting force=True.\n",
    "    print('%s already present - Skipping extraction of %s.' % (root, filename))\n",
    "  else:\n",
    "    print('Extracting data for %s. This may take a while. Please wait.' % root)\n",
    "    tar = tarfile.open(filename)\n",
    "    sys.stdout.flush()\n",
    "    tar.extractall()\n",
    "    tar.close()\n",
    "  data_folders = root\n",
    "  \n",
    "  print(data_folders)\n",
    "  return data_folders\n",
    "  \n",
    "train_folders = maybe_extract(train_filename)\n",
    "test_folders = maybe_extract(test_filename)"
   ]
  },
  {
   "cell_type": "code",
   "execution_count": 37,
   "metadata": {
    "collapsed": true
   },
   "outputs": [],
   "source": [
    "### Format .mat data"
   ]
  },
  {
   "cell_type": "code",
   "execution_count": 38,
   "metadata": {
    "collapsed": false
   },
   "outputs": [],
   "source": [
    "import h5py\n",
    "import time \n",
    "\n",
    "class ImageData:\n",
    "    def __init__(self, data_folder, imageDataMatFilePath):\n",
    "        self.data_folder=data_folder\n",
    "        self.file = os.path.join(data_folder, 'digitStruct.mat')\n",
    "        self.file = h5py.File(self.file, 'r')\n",
    "        self.names = self.file['digitStruct/name']\n",
    "        self.boxes = self.file['digitStruct/bbox']\n",
    "    \n",
    "    def get_labels_and_dataset(self):\n",
    "        image_vertices_count=4\n",
    "        \n",
    "        ''' 5 places + 1 for length'''\n",
    "        digit_count=6\n",
    "        desired_image_size=64\n",
    "\n",
    "        #Images to be processed\n",
    "        image_count = len(self.names)-5000\n",
    "\n",
    "        #Array to hold labels of digits in an image\n",
    "        #Add one for index\n",
    "        image_labels_array=np.zeros(image_count*(digit_count+1)).reshape(image_count,digit_count+1)\n",
    "        image_vertices_array=np.zeros(image_count*(image_vertices_count+1)).reshape(image_count,image_vertices_count+1)\n",
    "        dataset = np.ndarray(shape=(image_count, desired_image_size, desired_image_size),dtype=np.float32)\n",
    "        print(\"image_labels: \",image_labels_array.shape, \"image_dimentions: \",image_vertices_array.shape)\n",
    "        start_time = time.time()\n",
    "\n",
    "\n",
    "        ##Iterate over all images and get dims of images's bbox ( and not digit bbox), and digit labels.\n",
    "        for count in range(image_count):\n",
    "            left=0.\n",
    "            top=0.\n",
    "            bottom=0.\n",
    "            right=0.\n",
    "            img_label=self.file[self.boxes[count].item()][\"label\"]\n",
    "            img_left=self.file[self.boxes[count].item()][\"left\"]\n",
    "            img_top=self.file[self.boxes[count].item()][\"top\"]\n",
    "            img_height=self.file[self.boxes[count].item()][\"height\"]\n",
    "            img_width=self.file[self.boxes[count].item()][\"width\"]\n",
    "            num_digits=len(img_label)\n",
    "            \n",
    "            \n",
    "            image_labels_array[count,:]=float('NaN')\n",
    "            image_labels_array[count,0]=count\n",
    "            ##Get bbox and digits for each image\n",
    "            for digit_counter in np.arange(num_digits):\n",
    "                if(num_digits == 1):\n",
    "                    tmp_label=img_label.value[0]\n",
    "                    image_labels_array[count,digit_count - num_digits + digit_counter +1]=tmp_label\n",
    "                    tmp_left=img_left.value[0]\n",
    "                    tmp_top=img_top.value[0]\n",
    "                    tmp_height=img_height.value[0]\n",
    "                    tmp_width=img_width.value[0]\n",
    "                else:\n",
    "                    tmp_label=self.file[img_label.value[digit_counter].item()].value[0]\n",
    "                    image_labels_array[count,digit_count - num_digits + digit_counter+1]=tmp_label\n",
    "                    tmp_left=self.file[img_left.value[digit_counter].item()].value[0]\n",
    "                    tmp_top=self.file[img_top.value[digit_counter].item()].value[0]\n",
    "                    tmp_height=self.file[img_height.value[digit_counter].item()].value[0]\n",
    "                    tmp_width=self.file[img_width.value[digit_counter].item()].value[0]\n",
    "                tmp_bottom=tmp_top+tmp_height\n",
    "                tmp_right=tmp_left+tmp_width\n",
    "\n",
    "                #Find the largest margins by taking min of top and left, and max of right and bottom\n",
    "                #Also reduce top and left margins, and increase right and bottom margings to avoid cutting digits\n",
    "                if(left==0 or tmp_left < left):\n",
    "                    left=tmp_left*0.95;\n",
    "                if(top==0 or tmp_top < top):\n",
    "                    top=tmp_top*0.95\n",
    "                if(bottom ==0 or tmp_bottom > bottom):\n",
    "                    bottom=tmp_bottom*1.02\n",
    "                if(right==0 or tmp_right > right):\n",
    "                    right=tmp_right*1.02\n",
    "            image_vertices_array[count]=[count,left,top,right,bottom]\n",
    "            fullname = os.path.join(self.data_folder, str(count+1)+\".png\")\n",
    "            im = Image.open(fullname)\n",
    "            im = im.crop((left, top, right, bottom)).resize([desired_image_size,desired_image_size], Image.ANTIALIAS).convert('L')\n",
    "            dataset[count]=im\n",
    "        print(\"image_labels_array: \",image_labels_array.shape, \"\\n shape: \",image_labels_array[0:2,:])\n",
    "        print(\"dataset: \",dataset.shape)\n",
    "        print(\"Time taken to find image bounding box:\\n- %4.4f seconds ---\" % (time.time() - start_time))\n",
    "        print(\"\\nsample:\\n\",dataset[0:1,:])\n",
    "        return image_labels_array, dataset\n",
    "\n",
    "\n"
   ]
  },
  {
   "cell_type": "code",
   "execution_count": 39,
   "metadata": {
    "collapsed": false
   },
   "outputs": [
    {
     "name": "stdout",
     "output_type": "stream",
     "text": [
      "image_labels:  (28402, 7) image_dimentions:  (28402, 5)\n",
      "image_labels_array:  (28402, 7) \n",
      " shape:  [[  0.  nan  nan  nan  nan   1.   9.]\n",
      " [  1.  nan  nan  nan  nan   2.   3.]]\n",
      "dataset:  (28402, 64, 64)\n",
      "Time taken to find image bounding box:\n",
      "- 339.1290 seconds ---\n",
      "\n",
      "sample:\n",
      " [[[  77.   74.   77. ...,   79.   80.   82.]\n",
      "  [  75.   74.   76. ...,   79.   80.   81.]\n",
      "  [  74.   75.   78. ...,   78.   79.   80.]\n",
      "  ..., \n",
      "  [ 100.  104.  107. ...,  101.  102.  102.]\n",
      "  [ 101.  102.  103. ...,  102.  103.  105.]\n",
      "  [ 100.  102.  103. ...,  104.  101.  101.]]]\n"
     ]
    }
   ],
   "source": [
    "train_image_data = ImageData(train_folders, 'digitStruct.mat')\n",
    "train_image_labels, train_dataset=train_image_data.get_labels_and_dataset()\n"
   ]
  },
  {
   "cell_type": "code",
   "execution_count": 40,
   "metadata": {
    "collapsed": false
   },
   "outputs": [
    {
     "name": "stdout",
     "output_type": "stream",
     "text": [
      "image_labels:  (8068, 7) image_dimentions:  (8068, 5)\n",
      "image_labels_array:  (8068, 7) \n",
      " shape:  [[  0.  nan  nan  nan  nan  nan   5.]\n",
      " [  1.  nan  nan  nan   2.   1.  10.]]\n",
      "dataset:  (8068, 64, 64)\n",
      "Time taken to find image bounding box:\n",
      "- 77.0977 seconds ---\n",
      "\n",
      "sample:\n",
      " [[[ 79.  79.  79. ...,  79.  79.  79.]\n",
      "  [ 79.  79.  79. ...,  79.  79.  79.]\n",
      "  [ 80.  80.  80. ...,  79.  79.  79.]\n",
      "  ..., \n",
      "  [ 90.  89.  87. ...,  90.  90.  90.]\n",
      "  [ 88.  87.  85. ...,  91.  91.  91.]\n",
      "  [ 88.  87.  85. ...,  91.  91.  91.]]]\n"
     ]
    }
   ],
   "source": [
    "test_image_data = ImageData(test_folders, 'digitStruct.mat')\n",
    "test_image_labels, test_dataset=test_image_data.get_labels_and_dataset()"
   ]
  },
  {
   "cell_type": "code",
   "execution_count": 41,
   "metadata": {
    "collapsed": false
   },
   "outputs": [],
   "source": [
    "##Pickle Train and Test Sets\n",
    "train_pickle_file = 'SVHN_basic_train.pickle'\n",
    "\n",
    "try:\n",
    "  f = open(train_pickle_file, 'wb')\n",
    "  save = {\n",
    "    'train_image_labels': train_image_labels,\n",
    "    'train_dataset': train_dataset\n",
    "    }\n",
    "  pickle.dump(save, f, 1)\n",
    "  f.close()\n",
    "except Exception as e:\n",
    "  print('Unable to save data to', train_pickle_file, ':', e)\n",
    "  raise"
   ]
  },
  {
   "cell_type": "code",
   "execution_count": 42,
   "metadata": {
    "collapsed": false
   },
   "outputs": [
    {
     "name": "stdout",
     "output_type": "stream",
     "text": [
      "Compressed train pickle size: 466929141\n"
     ]
    }
   ],
   "source": [
    "statinfo = os.stat(train_pickle_file)\n",
    "print('Compressed train pickle size:', statinfo.st_size)"
   ]
  },
  {
   "cell_type": "code",
   "execution_count": 43,
   "metadata": {
    "collapsed": false
   },
   "outputs": [],
   "source": [
    "##Pickle Train and Test Sets\n",
    "test_pickle_file = 'SVHN_basic_test.pickle'\n",
    "\n",
    "try:\n",
    "  f = open(test_pickle_file, 'wb')\n",
    "  save = {\n",
    "    'test_image_labels': test_image_labels,\n",
    "    'test_dataset': test_dataset\n",
    "    }\n",
    "  pickle.dump(save, f, -1)\n",
    "  f.close()\n",
    "except Exception as e:\n",
    "  print('Unable to save data to', test_pickle_file, ':', e)\n",
    "  raise"
   ]
  },
  {
   "cell_type": "code",
   "execution_count": 44,
   "metadata": {
    "collapsed": false
   },
   "outputs": [
    {
     "name": "stdout",
     "output_type": "stream",
     "text": [
      "Compressed test pickle size: 132638167\n"
     ]
    }
   ],
   "source": [
    "statinfo = os.stat(test_pickle_file)\n",
    "print('Compressed test pickle size:', statinfo.st_size)"
   ]
  },
  {
   "cell_type": "code",
   "execution_count": 45,
   "metadata": {
    "collapsed": false
   },
   "outputs": [
    {
     "name": "stdout",
     "output_type": "stream",
     "text": [
      "Training set (28402, 7) (28402, 64, 64)\n"
     ]
    }
   ],
   "source": [
    "##Unpickle\n",
    "train_pickle_file = 'SVHN_basic_train.pickle'\n",
    "\n",
    "with open(train_pickle_file, 'rb') as f:\n",
    "  save = pickle.load(f)\n",
    "  train_image_labels = save['train_image_labels']\n",
    "  train_dataset = save['train_dataset']\n",
    "  del save  # hint to help gc free up memory\n",
    "  print('Training set', train_image_labels.shape, train_dataset.shape)\n"
   ]
  },
  {
   "cell_type": "code",
   "execution_count": 46,
   "metadata": {
    "collapsed": false
   },
   "outputs": [
    {
     "name": "stdout",
     "output_type": "stream",
     "text": [
      "Test set (8068, 7) (8068, 64, 64)\n"
     ]
    }
   ],
   "source": [
    "test_pickle_file = 'SVHN_basic_test.pickle'\n",
    "\n",
    "with open(test_pickle_file, 'rb') as f:\n",
    "  save = pickle.load(f)\n",
    "  test_image_labels = save['test_image_labels']\n",
    "  test_dataset = save['test_dataset']\n",
    "  del save  # hint to help gc free up memory\n",
    "  print('Test set', test_image_labels.shape, test_dataset.shape)"
   ]
  },
  {
   "cell_type": "code",
   "execution_count": null,
   "metadata": {
    "collapsed": true
   },
   "outputs": [],
   "source": []
  }
 ],
 "metadata": {
  "kernelspec": {
   "display_name": "Python 2",
   "language": "python",
   "name": "python2"
  },
  "language_info": {
   "codemirror_mode": {
    "name": "ipython",
    "version": 2
   },
   "file_extension": ".py",
   "mimetype": "text/x-python",
   "name": "python",
   "nbconvert_exporter": "python",
   "pygments_lexer": "ipython2",
   "version": "2.7.12"
  }
 },
 "nbformat": 4,
 "nbformat_minor": 0
}
