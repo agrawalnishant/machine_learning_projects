{
 "cells": [
  {
   "cell_type": "markdown",
   "metadata": {},
   "source": [
    "# Get SVHN data"
   ]
  },
  {
   "cell_type": "code",
   "execution_count": 157,
   "metadata": {
    "collapsed": true
   },
   "outputs": [],
   "source": [
    "# These are all the modules we'll be using later. Make sure you can import them\n",
    "# before proceeding further.\n",
    "from __future__ import print_function\n",
    "import matplotlib.pyplot as plt\n",
    "import numpy as np\n",
    "import os\n",
    "import sys\n",
    "import tarfile\n",
    "from IPython.display import display, Image\n",
    "from PIL import Image\n",
    "from scipy import ndimage\n",
    "from sklearn.linear_model import LogisticRegression\n",
    "from six.moves.urllib.request import urlretrieve\n",
    "from six.moves import cPickle as pickle\n",
    "\n",
    "# Config the matlotlib backend as plotting inline in IPython\n",
    "%matplotlib inline"
   ]
  },
  {
   "cell_type": "code",
   "execution_count": 158,
   "metadata": {
    "collapsed": true
   },
   "outputs": [],
   "source": [
    "###Load SVHN Data files, including mat data, for train and test datasets."
   ]
  },
  {
   "cell_type": "code",
   "execution_count": 159,
   "metadata": {
    "collapsed": false
   },
   "outputs": [
    {
     "name": "stdout",
     "output_type": "stream",
     "text": [
      "Found and verified train.tar.gz\n",
      "Found and verified test.tar.gz\n"
     ]
    }
   ],
   "source": [
    "url = 'http://ufldl.stanford.edu/housenumbers/'\n",
    "last_percent_reported = None\n",
    "\n",
    "def download_progress_hook(count, blockSize, totalSize):\n",
    "  \"\"\"A hook to report the progress of a download. This is mostly intended for users with\n",
    "  slow internet connections. Reports every 1% change in download progress.\n",
    "  \"\"\"\n",
    "  global last_percent_reported\n",
    "  percent = int(count * blockSize * 100 / totalSize)\n",
    "\n",
    "  if last_percent_reported != percent:\n",
    "    if percent % 5 == 0:\n",
    "      sys.stdout.write(\"%s%%\" % percent)\n",
    "      sys.stdout.flush()\n",
    "    else:\n",
    "      sys.stdout.write(\".\")\n",
    "      sys.stdout.flush()\n",
    "      \n",
    "    last_percent_reported = percent\n",
    "        \n",
    "def maybe_download(filename, expected_bytes, force=False):\n",
    "  \"\"\"Download a file if not present, and make sure it's the right size.\"\"\"\n",
    "  if force or not os.path.exists(filename):\n",
    "    print('Attempting to download:', filename) \n",
    "    filename, _ = urlretrieve(url + filename, filename, reporthook=download_progress_hook)\n",
    "    print('\\nDownload Complete!')\n",
    "  statinfo = os.stat(filename)\n",
    "  if statinfo.st_size == expected_bytes:\n",
    "    print('Found and verified', filename)\n",
    "  else:\n",
    "    raise Exception(\n",
    "      'Failed to verify ' + filename + '. Can you get to it with a browser?')\n",
    "  return filename\n",
    "\n",
    "train_filename = maybe_download('train.tar.gz',404141560)\n",
    "test_filename = maybe_download('test.tar.gz',276555967)"
   ]
  },
  {
   "cell_type": "markdown",
   "metadata": {},
   "source": [
    "### Extract files"
   ]
  },
  {
   "cell_type": "code",
   "execution_count": 160,
   "metadata": {
    "collapsed": false
   },
   "outputs": [
    {
     "name": "stdout",
     "output_type": "stream",
     "text": [
      "train already present - Skipping extraction of train.tar.gz.\n",
      "train\n",
      "test already present - Skipping extraction of test.tar.gz.\n",
      "test\n"
     ]
    }
   ],
   "source": [
    "np.random.seed(133)\n",
    "\n",
    "def maybe_extract(filename, force=False):\n",
    "  root = os.path.splitext(os.path.splitext(filename)[0])[0]  # remove .tar.gz\n",
    "  if os.path.isdir(root) and not force:\n",
    "    # You may override by setting force=True.\n",
    "    print('%s already present - Skipping extraction of %s.' % (root, filename))\n",
    "  else:\n",
    "    print('Extracting data for %s. This may take a while. Please wait.' % root)\n",
    "    tar = tarfile.open(filename)\n",
    "    sys.stdout.flush()\n",
    "    tar.extractall()\n",
    "    tar.close()\n",
    "  data_folders = root\n",
    "  \n",
    "  print(data_folders)\n",
    "  return data_folders\n",
    "  \n",
    "train_folders = maybe_extract(train_filename)\n",
    "test_folders = maybe_extract(test_filename)"
   ]
  },
  {
   "cell_type": "code",
   "execution_count": 161,
   "metadata": {
    "collapsed": true
   },
   "outputs": [],
   "source": [
    "### Format .mat data"
   ]
  },
  {
   "cell_type": "code",
   "execution_count": 176,
   "metadata": {
    "collapsed": false
   },
   "outputs": [],
   "source": [
    "import h5py\n",
    "import time \n",
    "\n",
    "class ImageData:\n",
    "    def __init__(self, data_folder, imageDataMatFilePath):\n",
    "        self.data_folder=data_folder\n",
    "        self.file = os.path.join(data_folder, 'digitStruct.mat')\n",
    "        self.file = h5py.File(self.file, 'r')\n",
    "        self.names = self.file['digitStruct/name']\n",
    "        self.boxes = self.file['digitStruct/bbox']\n",
    "    \n",
    "    def get_labels_and_dataset(self):\n",
    "        image_vertices_count=4\n",
    "        \n",
    "        ''' 5 places + 1 for length'''\n",
    "        digit_count=6\n",
    "        desired_image_size=128\n",
    "\n",
    "        #Images to be processed\n",
    "        image_count = len(self.names) - 33400\n",
    "\n",
    "        #Array to hold labels of digits in an image\n",
    "        #Add one for index\n",
    "        image_labels_array=np.zeros(image_count*(digit_count+1)).reshape(image_count,digit_count+1)\n",
    "        image_vertices_array=np.zeros(image_count*(image_vertices_count+1)).reshape(image_count,image_vertices_count+1)\n",
    "        dataset = np.ndarray(shape=(image_count, desired_image_size, desired_image_size),dtype=np.float32)\n",
    "        print(\"image_labels: \",image_labels_array.shape, \"image_dimentions: \",image_vertices_array.shape)\n",
    "        start_time = time.time()\n",
    "\n",
    "\n",
    "        ##Iterate over all images and get dims of images's bbox ( and not digit bbox), and digit labels.\n",
    "        for count in range(image_count):\n",
    "            left=0.\n",
    "            top=0.\n",
    "            bottom=0.\n",
    "            right=0.\n",
    "            img_label=self.file[self.boxes[count].item()][\"label\"]\n",
    "            img_left=self.file[self.boxes[count].item()][\"left\"]\n",
    "            img_top=self.file[self.boxes[count].item()][\"top\"]\n",
    "            img_height=self.file[self.boxes[count].item()][\"height\"]\n",
    "            img_width=self.file[self.boxes[count].item()][\"width\"]\n",
    "            num_digits=len(img_label)\n",
    "            #print(\"label len:\",len(img_label))\n",
    "            \n",
    "            \n",
    "            image_labels_array[count,:]=float('NaN')\n",
    "            image_labels_array[count,0]=count\n",
    "            ##Get bbox and digits for each image\n",
    "            for digit_counter in np.arange(num_digits):\n",
    "                if(num_digits == 1):\n",
    "                    tmp_label=img_label.value[0]\n",
    "                    image_labels_array[count,digit_count - num_digits + digit_counter +1]=tmp_label\n",
    "                    tmp_left=img_left.value[0]\n",
    "                    tmp_top=img_top.value[0]\n",
    "                    tmp_height=img_height.value[0]\n",
    "                    tmp_width=img_width.value[0]\n",
    "                else:\n",
    "                    tmp_label=self.file[img_label.value[digit_counter].item()].value[0]\n",
    "                    image_labels_array[count,digit_count - num_digits + digit_counter+1]=tmp_label\n",
    "                    tmp_left=self.file[img_left.value[digit_counter].item()].value[0]\n",
    "                    tmp_top=self.file[img_top.value[digit_counter].item()].value[0]\n",
    "                    tmp_height=self.file[img_height.value[digit_counter].item()].value[0]\n",
    "                    tmp_width=self.file[img_width.value[digit_counter].item()].value[0]\n",
    "                tmp_bottom=tmp_top+tmp_height\n",
    "                tmp_right=tmp_left+tmp_width\n",
    "                #print(\"tmp_label: \",tmp_label,\", tmp_left:\",tmp_left,\", tmp_top:\",tmp_top,\", tmp_height:\",tmp_height,\", tmp_width:\",tmp_width)\n",
    "\n",
    "                #Find the largest margins by taking min of top and left, and max of right and bottom\n",
    "                #Also reduce top and left margins, and increase right and bottom margings to avoid cutting digits\n",
    "                if(left==0 or tmp_left < left):\n",
    "                    left=tmp_left*0.95;\n",
    "                if(top==0 or tmp_top < top):\n",
    "                    top=tmp_top*0.95\n",
    "                if(bottom ==0 or tmp_bottom > bottom):\n",
    "                    bottom=tmp_bottom*1.02\n",
    "                if(right==0 or tmp_right > right):\n",
    "                    right=tmp_right*1.02\n",
    "            image_vertices_array[count]=[count,left,top,right,bottom]\n",
    "            #print(image_vertices_array[count])\n",
    "            #print(\"left: \", left, \", top: \", top,\", right: \", right,\", bottom: \", bottom)\n",
    "            #print(\"left: \", left, \", top: \", top,\", right: \", right,\", bottom: \", bottom)\n",
    "            fullname = os.path.join(self.data_folder, str(count+1)+\".png\")\n",
    "            #print(fullname)\n",
    "            im = Image.open(fullname)\n",
    "            im = im.crop((left, top, right, bottom)).resize([desired_image_size,desired_image_size], Image.ANTIALIAS).convert('L')\n",
    "            #im.show()\n",
    "            dataset[count]=im\n",
    "            #print('-'*80)\n",
    "            #plt_axes_arr[count,count].imshow(im)\n",
    "            #plt_axes_arr[count,count].axis('off')\n",
    "        print(\"image_labels_array: \",image_labels_array.shape, image_labels_array[0:2,:])\n",
    "        print(\"dataset: \",dataset.shape)\n",
    "        print(\"Time taken to find image bounding box:\\n- %4.4f seconds ---\" % (time.time() - start_time))\n",
    "        print(\"\\nsample:\\n\",dataset[0:2,:])\n",
    "        return image_labels_array, dataset\n",
    "\n",
    "\n"
   ]
  },
  {
   "cell_type": "code",
   "execution_count": 177,
   "metadata": {
    "collapsed": false
   },
   "outputs": [
    {
     "name": "stdout",
     "output_type": "stream",
     "text": [
      "image_labels:  (2, 7) image_dimentions:  (2, 5)\n",
      "image_labels_array:  (2, 7) [[  0.  nan  nan  nan  nan   1.   9.]\n",
      " [  1.  nan  nan  nan  nan   2.   3.]]\n",
      "dataset:  (2, 128, 128)\n",
      "Time taken to find image bounding box:\n",
      "- 0.0339 seconds ---\n",
      "\n",
      "sample:\n",
      " [[[  76.   78.   74. ...,   80.   79.   83.]\n",
      "  [  79.   77.   75. ...,   80.   79.   83.]\n",
      "  [  77.   74.   73. ...,   80.   82.   83.]\n",
      "  ..., \n",
      "  [ 100.  102.  101. ...,  105.  105.  105.]\n",
      "  [ 100.   99.  101. ...,  102.  100.  102.]\n",
      "  [  99.  101.  105. ...,  101.   99.  101.]]\n",
      "\n",
      " [[  47.   47.   49. ...,  135.  133.  133.]\n",
      "  [  48.   48.   50. ...,  134.  132.  132.]\n",
      "  [  49.   49.   51. ...,  132.  131.  131.]\n",
      "  ..., \n",
      "  [ 144.  141.  138. ...,  124.  125.  125.]\n",
      "  [ 144.  141.  137. ...,  124.  124.  124.]\n",
      "  [ 144.  140.  136. ...,  123.  123.  123.]]]\n"
     ]
    }
   ],
   "source": [
    "train_image_data = ImageData(train_folders, 'digitStruct.mat')\n",
    "train_image_labels, train_dataset=train_image_data.get_labels_and_dataset()\n"
   ]
  },
  {
   "cell_type": "code",
   "execution_count": 164,
   "metadata": {
    "collapsed": false
   },
   "outputs": [
    {
     "name": "stdout",
     "output_type": "stream",
     "text": [
      "image_labels:  (13068, 7) image_dimentions:  (13068, 5)\n",
      "image_labels_array:  (13068, 7)\n",
      "dataset:  (13068, 128, 128)\n",
      "Time taken to find image bounding box:\n",
      "- 172.8639 seconds ---\n",
      "\n",
      "sample:\n",
      " [[[  80.   79.   79. ...,   79.   79.   79.]\n",
      "  [  79.   79.   79. ...,   79.   79.   79.]\n",
      "  [  79.   79.   79. ...,   79.   79.   79.]\n",
      "  ..., \n",
      "  [  88.   88.   87. ...,   91.   91.   91.]\n",
      "  [  88.   88.   87. ...,   91.   91.   91.]\n",
      "  [  88.   88.   87. ...,   91.   91.   91.]]\n",
      "\n",
      " [[ 132.  132.  132. ...,  109.  111.  112.]\n",
      "  [ 133.  133.  133. ...,  111.  113.  114.]\n",
      "  [ 133.  133.  133. ...,  112.  114.  115.]\n",
      "  ..., \n",
      "  [ 175.  174.  173. ...,  142.  138.  135.]\n",
      "  [ 175.  174.  173. ...,  144.  139.  136.]\n",
      "  [ 175.  174.  173. ...,  145.  141.  138.]]]\n"
     ]
    }
   ],
   "source": [
    "test_image_data = ImageData(test_folders, 'digitStruct.mat')\n",
    "test_image_labels, test_dataset=test_image_data.get_labels_and_dataset()"
   ]
  },
  {
   "cell_type": "code",
   "execution_count": null,
   "metadata": {
    "collapsed": true
   },
   "outputs": [],
   "source": []
  },
  {
   "cell_type": "code",
   "execution_count": null,
   "metadata": {
    "collapsed": false
   },
   "outputs": [],
   "source": []
  },
  {
   "cell_type": "code",
   "execution_count": null,
   "metadata": {
    "collapsed": true
   },
   "outputs": [],
   "source": []
  }
 ],
 "metadata": {
  "kernelspec": {
   "display_name": "Python 2",
   "language": "python",
   "name": "python2"
  },
  "language_info": {
   "codemirror_mode": {
    "name": "ipython",
    "version": 2
   },
   "file_extension": ".py",
   "mimetype": "text/x-python",
   "name": "python",
   "nbconvert_exporter": "python",
   "pygments_lexer": "ipython2",
   "version": "2.7.12"
  }
 },
 "nbformat": 4,
 "nbformat_minor": 0
}
