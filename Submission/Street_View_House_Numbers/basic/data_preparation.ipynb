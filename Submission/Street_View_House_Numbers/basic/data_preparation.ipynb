{
 "cells": [
  {
   "cell_type": "markdown",
   "metadata": {},
   "source": [
    "# Get SVHN data"
   ]
  },
  {
   "cell_type": "code",
   "execution_count": 18,
   "metadata": {
    "collapsed": false
   },
   "outputs": [],
   "source": [
    "# These are all the modules we'll be using later. Make sure you can import them\n",
    "# before proceeding further.\n",
    "from __future__ import print_function\n",
    "import matplotlib.pyplot as plt\n",
    "import numpy as np\n",
    "import os\n",
    "import sys\n",
    "import tarfile\n",
    "from IPython.display import display, Image\n",
    "from PIL import Image\n",
    "from scipy import ndimage\n",
    "from sklearn.linear_model import LogisticRegression\n",
    "from six.moves.urllib.request import urlretrieve\n",
    "import cPickle as pickle\n",
    "\n",
    "# Config the matlotlib backend as plotting inline in IPython\n",
    "%matplotlib inline"
   ]
  },
  {
   "cell_type": "code",
   "execution_count": 19,
   "metadata": {
    "collapsed": true
   },
   "outputs": [],
   "source": [
    "###Load SVHN Data files, including mat data, for train and test datasets."
   ]
  },
  {
   "cell_type": "code",
   "execution_count": 20,
   "metadata": {
    "collapsed": false
   },
   "outputs": [
    {
     "name": "stdout",
     "output_type": "stream",
     "text": [
      "Found and verified train.tar.gz\n",
      "Found and verified test.tar.gz\n"
     ]
    }
   ],
   "source": [
    "url = 'http://ufldl.stanford.edu/housenumbers/'\n",
    "last_percent_reported = None\n",
    "\n",
    "def download_progress_hook(count, blockSize, totalSize):\n",
    "  \"\"\"A hook to report the progress of a download. This is mostly intended for users with\n",
    "  slow internet connections. Reports every 1% change in download progress.\n",
    "  \"\"\"\n",
    "  global last_percent_reported\n",
    "  percent = int(count * blockSize * 100 / totalSize)\n",
    "\n",
    "  if last_percent_reported != percent:\n",
    "    if percent % 5 == 0:\n",
    "      sys.stdout.write(\"%s%%\" % percent)\n",
    "      sys.stdout.flush()\n",
    "    else:\n",
    "      sys.stdout.write(\".\")\n",
    "      sys.stdout.flush()\n",
    "      \n",
    "    last_percent_reported = percent\n",
    "        \n",
    "def maybe_download(filename, expected_bytes, force=False):\n",
    "  \"\"\"Download a file if not present, and make sure it's the right size.\"\"\"\n",
    "  if force or not os.path.exists(filename):\n",
    "    print('Attempting to download:', filename) \n",
    "    filename, _ = urlretrieve(url + filename, filename, reporthook=download_progress_hook)\n",
    "    print('\\nDownload Complete!')\n",
    "  statinfo = os.stat(filename)\n",
    "  if statinfo.st_size == expected_bytes:\n",
    "    print('Found and verified', filename)\n",
    "  else:\n",
    "    raise Exception(\n",
    "      'Failed to verify ' + filename + '. Can you get to it with a browser?')\n",
    "  return filename\n",
    "\n",
    "train_filename = maybe_download('train.tar.gz',404141560)\n",
    "test_filename = maybe_download('test.tar.gz',276555967)"
   ]
  },
  {
   "cell_type": "markdown",
   "metadata": {},
   "source": [
    "### Extract files"
   ]
  },
  {
   "cell_type": "code",
   "execution_count": 21,
   "metadata": {
    "collapsed": false
   },
   "outputs": [
    {
     "name": "stdout",
     "output_type": "stream",
     "text": [
      "train already present - Skipping extraction of train.tar.gz.\n",
      "train\n",
      "test already present - Skipping extraction of test.tar.gz.\n",
      "test\n"
     ]
    }
   ],
   "source": [
    "np.random.seed(133)\n",
    "\n",
    "def maybe_extract(filename, force=False):\n",
    "  root = os.path.splitext(os.path.splitext(filename)[0])[0]  # remove .tar.gz\n",
    "  if os.path.isdir(root) and not force:\n",
    "    # You may override by setting force=True.\n",
    "    print('%s already present - Skipping extraction of %s.' % (root, filename))\n",
    "  else:\n",
    "    print('Extracting data for %s. This may take a while. Please wait.' % root)\n",
    "    tar = tarfile.open(filename)\n",
    "    sys.stdout.flush()\n",
    "    tar.extractall()\n",
    "    tar.close()\n",
    "  data_folders = root\n",
    "  \n",
    "  print(data_folders)\n",
    "  return data_folders\n",
    "  \n",
    "train_folders = maybe_extract(train_filename)\n",
    "test_folders = maybe_extract(test_filename)"
   ]
  },
  {
   "cell_type": "markdown",
   "metadata": {
    "collapsed": true
   },
   "source": [
    "### Format .mat data"
   ]
  },
  {
   "cell_type": "code",
   "execution_count": 32,
   "metadata": {
    "collapsed": false
   },
   "outputs": [],
   "source": [
    "import h5py\n",
    "import time \n",
    "\n",
    "pixel_depth = 255.0  # Number of levels per pixel.\n",
    "\n",
    "class ImageData:\n",
    "    def __init__(self, data_folder, imageDataMatFilePath):\n",
    "        self.data_folder=data_folder\n",
    "        self.file = os.path.join(data_folder, 'digitStruct.mat')\n",
    "        self.file = h5py.File(self.file, 'r')\n",
    "        self.names = self.file['digitStruct/name']\n",
    "        self.boxes = self.file['digitStruct/bbox']\n",
    "    \n",
    "    def get_labels_and_dataset(self):\n",
    "        image_vertices_count=4\n",
    "        \n",
    "        ''' 5 places + 1 for length'''\n",
    "        digit_count=6\n",
    "        desired_image_size=64\n",
    "\n",
    "        #Images to be processed\n",
    "        image_count = len(self.names)\n",
    "\n",
    "        #Array to hold labels of digits in an image\n",
    "        #Add one for length\n",
    "        image_labels_array=np.zeros(image_count*(digit_count)).reshape(image_count,digit_count)\n",
    "        image_vertices_array=np.zeros(image_count*(image_vertices_count+1)).reshape(image_count,image_vertices_count+1)\n",
    "        dataset = np.ndarray(shape=(6 * image_count, desired_image_size, desired_image_size),dtype=np.float32)\n",
    "        print(\"image_labels: \",image_labels_array.shape, \"image_dimentions: \",image_vertices_array.shape)\n",
    "        start_time = time.time()\n",
    "\n",
    "\n",
    "        ##Iterate over all images and get dims of images's bbox ( and not digit bbox), and digit labels.\n",
    "        for count in range(image_count):\n",
    "            left=0.\n",
    "            top=0.\n",
    "            bottom=0.\n",
    "            right=0.\n",
    "            img_label=self.file[self.boxes[count].item()][\"label\"]\n",
    "            img_left=self.file[self.boxes[count].item()][\"left\"]\n",
    "            img_top=self.file[self.boxes[count].item()][\"top\"]\n",
    "            img_height=self.file[self.boxes[count].item()][\"height\"]\n",
    "            img_width=self.file[self.boxes[count].item()][\"width\"]\n",
    "            num_digits=len(img_label)\n",
    "            \n",
    "            \n",
    "            image_labels_array[count,:]=float(0)\n",
    "            image_labels_array[count,0]=num_digits\n",
    "            ##Get bbox and digits for each image\n",
    "            for digit_counter in np.arange(num_digits):\n",
    "                if(num_digits == 1):\n",
    "                    tmp_label=img_label.value[0]\n",
    "                    image_labels_array[count,digit_count - num_digits + digit_counter]=tmp_label\n",
    "                    tmp_left=img_left.value[0]\n",
    "                    tmp_top=img_top.value[0]\n",
    "                    tmp_height=img_height.value[0]\n",
    "                    tmp_width=img_width.value[0]\n",
    "                else:\n",
    "                    tmp_label=self.file[img_label.value[digit_counter].item()].value[0]\n",
    "                    image_labels_array[count,digit_count - num_digits + digit_counter]=tmp_label\n",
    "                    tmp_left=self.file[img_left.value[digit_counter].item()].value[0]\n",
    "                    tmp_top=self.file[img_top.value[digit_counter].item()].value[0]\n",
    "                    tmp_height=self.file[img_height.value[digit_counter].item()].value[0]\n",
    "                    tmp_width=self.file[img_width.value[digit_counter].item()].value[0]\n",
    "                tmp_bottom=tmp_top+tmp_height\n",
    "                tmp_right=tmp_left+tmp_width\n",
    "\n",
    "                #Find the largest margins by taking min of top and left, and max of right and bottom\n",
    "                #Also reduce top and left margins, and increase right and bottom margings to avoid cutting digits\n",
    "                # cases handling x==0 are for initialization\n",
    "                if(left==0 or tmp_left < left):\n",
    "                    left=tmp_left*0.80;\n",
    "                if(top==0 or tmp_top < top):\n",
    "                    top=tmp_top*0.80\n",
    "                if(bottom ==0 or tmp_bottom > bottom):\n",
    "                    bottom=tmp_bottom*1.20\n",
    "                if(right==0 or tmp_right > right):\n",
    "                    right=tmp_right*1.20\n",
    "            image_vertices_array[count]=[count,left,top,right,bottom]\n",
    "            fullname = os.path.join(self.data_folder, str(count+1)+\".png\")\n",
    "            im = Image.open(fullname)\n",
    "            #print(im)\n",
    "            im_orig = im.crop((left, top, right, bottom)).resize([desired_image_size,desired_image_size], Image.ANTIALIAS).convert('L')\n",
    "            im_left = im.crop((left*1.15, top, right, bottom)).resize([desired_image_size,desired_image_size], Image.ANTIALIAS).convert('L')\n",
    "            im_right = im.crop((left, top, right*0.85, bottom)).resize([desired_image_size,desired_image_size], Image.ANTIALIAS).convert('L')\n",
    "            im_bottom = im.crop((left, top, right, bottom*0.85)).resize([desired_image_size,desired_image_size], Image.ANTIALIAS).convert('L')\n",
    "            im_clock = im.rotate(-20).crop((left, top, right*0.85, bottom)).resize([desired_image_size,desired_image_size], Image.ANTIALIAS).convert('L')\n",
    "            im_anticlock = im.rotate(20).crop((left, top, right, bottom*0.85)).resize([desired_image_size,desired_image_size], Image.ANTIALIAS).convert('L')\n",
    "            \n",
    "            im_orig.show()\n",
    "            im_left.show()\n",
    "            im_right.show()\n",
    "            im_bottom.show()\n",
    "            im_clock.show()\n",
    "            im_anticlock.show()\n",
    "            dataset[count]=im_orig\n",
    "            dataset[2*count]=im_left\n",
    "            dataset[3*count]=im_right\n",
    "            dataset[4*count]=im_bottom\n",
    "            dataset[5*count]=im_clock\n",
    "            dataset[6*count]=im_anticlock\n",
    "        print(\"image_labels_array: \",image_labels_array.shape, \"\\n shape: \",image_labels_array[0:5,:])\n",
    "        print(\"dataset: \",dataset.shape)\n",
    "        print('Mean:', np.mean(dataset))\n",
    "        print('Standard deviation:', np.std(dataset))\n",
    "        print(\"Time taken to find image bounding box:\\n- %4.4f seconds ---\" % (time.time() - start_time))\n",
    "        print(\"\\nsample:\\n\",dataset[0:1,:])\n",
    "        dataset = (dataset.astype(float) - pixel_depth / 2) / pixel_depth\n",
    "        print(\"\\nsample:\\n\",dataset[0:1,:])\n",
    "        print('Mean:', np.mean(dataset))\n",
    "        print('Standard deviation:', np.std(dataset))\n",
    "        \n",
    "        return image_labels_array, dataset\n",
    "\n",
    "\n"
   ]
  },
  {
   "cell_type": "code",
   "execution_count": 33,
   "metadata": {
    "collapsed": false
   },
   "outputs": [
    {
     "name": "stdout",
     "output_type": "stream",
     "text": [
      "image_labels:  (2L, 6L) image_dimentions:  (2L, 5L)\n",
      "image_labels_array:  (2L, 6L) \n",
      " shape:  [[ 2.  0.  0.  0.  1.  9.]\n",
      " [ 2.  0.  0.  0.  2.  3.]]\n",
      "dataset:  (12L, 64L, 64L)\n",
      "Mean: nan\n",
      "Standard deviation: nan\n",
      "Time taken to find image bounding box:\n",
      "- 13.6480 seconds ---\n",
      "\n",
      "sample:\n",
      " [[[  63.   62.   61. ...,   59.  103.  102.]\n",
      "  [  64.   65.   64. ...,   44.   98.  103.]\n",
      "  [  60.   62.   63. ...,   30.   85.  104.]\n",
      "  ..., \n",
      "  [  86.   86.   83. ...,   99.   97.  104.]\n",
      "  [  85.   83.   81. ...,  101.   96.  103.]\n",
      "  [  85.   84.   82. ...,  105.   93.   96.]]]\n",
      "\n",
      "sample:\n",
      " [[[-0.25294118 -0.25686275 -0.26078431 ..., -0.26862745 -0.09607843 -0.1       ]\n",
      "  [-0.24901961 -0.24509804 -0.24901961 ..., -0.32745098 -0.11568627\n",
      "   -0.09607843]\n",
      "  [-0.26470588 -0.25686275 -0.25294118 ..., -0.38235294 -0.16666667\n",
      "   -0.09215686]\n",
      "  ..., \n",
      "  [-0.1627451  -0.1627451  -0.1745098  ..., -0.11176471 -0.11960784\n",
      "   -0.09215686]\n",
      "  [-0.16666667 -0.1745098  -0.18235294 ..., -0.10392157 -0.12352941\n",
      "   -0.09607843]\n",
      "  [-0.16666667 -0.17058824 -0.17843137 ..., -0.08823529 -0.13529412\n",
      "   -0.12352941]]]\n",
      "Mean: nan\n",
      "Standard deviation: nan\n"
     ]
    }
   ],
   "source": [
    "train_image_data = ImageData(train_folders, 'digitStruct.mat')\n",
    "train_image_labels, train_dataset=train_image_data.get_labels_and_dataset()\n"
   ]
  },
  {
   "cell_type": "code",
   "execution_count": null,
   "metadata": {
    "collapsed": false
   },
   "outputs": [],
   "source": [
    "test_image_data = ImageData(test_folders, 'digitStruct.mat')\n",
    "test_image_labels, test_dataset=test_image_data.get_labels_and_dataset()"
   ]
  },
  {
   "cell_type": "code",
   "execution_count": null,
   "metadata": {
    "collapsed": false
   },
   "outputs": [],
   "source": [
    "##Pickle Train and Test Sets\n",
    "train_pickle_file = 'SVHN_basic_train.pickle'\n",
    "\n",
    "try:\n",
    "  f = open(train_pickle_file, 'wb')\n",
    "  save = {\n",
    "    'train_image_labels': train_image_labels,\n",
    "    'train_dataset': train_dataset\n",
    "    }\n",
    "  pickle.dump(save, f, 1)\n",
    "  f.close()\n",
    "except Exception as e:\n",
    "  print('Unable to save data to', train_pickle_file, ':', e)\n",
    "  raise"
   ]
  },
  {
   "cell_type": "code",
   "execution_count": null,
   "metadata": {
    "collapsed": false
   },
   "outputs": [],
   "source": [
    "statinfo = os.stat(train_pickle_file)\n",
    "print('Compressed train pickle size:', statinfo.st_size)"
   ]
  },
  {
   "cell_type": "code",
   "execution_count": null,
   "metadata": {
    "collapsed": false
   },
   "outputs": [],
   "source": [
    "##Pickle Train and Test Sets\n",
    "test_pickle_file = 'SVHN_basic_test.pickle'\n",
    "\n",
    "try:\n",
    "  f = open(test_pickle_file, 'wb')\n",
    "  save = {\n",
    "    'test_image_labels': test_image_labels,\n",
    "    'test_dataset': test_dataset\n",
    "    }\n",
    "  pickle.dump(save, f, -1)\n",
    "  f.close()\n",
    "except Exception as e:\n",
    "  print('Unable to save data to', test_pickle_file, ':', e)\n",
    "  raise"
   ]
  },
  {
   "cell_type": "code",
   "execution_count": null,
   "metadata": {
    "collapsed": false
   },
   "outputs": [],
   "source": [
    "statinfo = os.stat(test_pickle_file)\n",
    "print('Compressed test pickle size:', statinfo.st_size)"
   ]
  },
  {
   "cell_type": "markdown",
   "metadata": {
    "collapsed": false
   },
   "source": [
    "#### Unpickle\n",
    "train_pickle_file = 'SVHN_basic_train.pickle'\n",
    "\n",
    "with open(train_pickle_file, 'rb') as f:\n",
    "  save = pickle.load(f)\n",
    "  train_image_labels = save['train_image_labels']\n",
    "  train_dataset = save['train_dataset']\n",
    "  del save  # hint to help gc free up memory\n",
    "  print('Training set', train_image_labels.shape, train_dataset.shape)\n"
   ]
  },
  {
   "cell_type": "code",
   "execution_count": null,
   "metadata": {
    "collapsed": false
   },
   "outputs": [],
   "source": [
    "with open(test_pickle_file, 'rb') as f:\n",
    "  save = pickle.load(f)\n",
    "  test_image_labels = save['test_image_labels']\n",
    "  test_dataset = save['test_dataset']\n",
    "  del save  # hint to help gc free up memory\n",
    "  print('Test set', test_image_labels.shape, test_dataset.shape)"
   ]
  },
  {
   "cell_type": "code",
   "execution_count": null,
   "metadata": {
    "collapsed": true
   },
   "outputs": [],
   "source": []
  }
 ],
 "metadata": {
  "kernelspec": {
   "display_name": "Python [Root]",
   "language": "python",
   "name": "Python [Root]"
  },
  "language_info": {
   "codemirror_mode": {
    "name": "ipython",
    "version": 2
   },
   "file_extension": ".py",
   "mimetype": "text/x-python",
   "name": "python",
   "nbconvert_exporter": "python",
   "pygments_lexer": "ipython2",
   "version": "2.7.12"
  }
 },
 "nbformat": 4,
 "nbformat_minor": 0
}
