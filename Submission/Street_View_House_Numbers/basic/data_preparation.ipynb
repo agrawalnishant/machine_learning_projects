{
 "cells": [
  {
   "cell_type": "markdown",
   "metadata": {},
   "source": [
    "# Get SVHN data"
   ]
  },
  {
   "cell_type": "code",
   "execution_count": 422,
   "metadata": {
    "collapsed": true
   },
   "outputs": [],
   "source": [
    "# These are all the modules we'll be using later. Make sure you can import them\n",
    "# before proceeding further.\n",
    "from __future__ import print_function\n",
    "import matplotlib.pyplot as plt\n",
    "import numpy as np\n",
    "import os\n",
    "import sys\n",
    "import tarfile\n",
    "from IPython.display import display, Image\n",
    "from scipy import ndimage\n",
    "from sklearn.linear_model import LogisticRegression\n",
    "from six.moves.urllib.request import urlretrieve\n",
    "from six.moves import cPickle as pickle\n",
    "\n",
    "# Config the matlotlib backend as plotting inline in IPython\n",
    "%matplotlib inline"
   ]
  },
  {
   "cell_type": "code",
   "execution_count": null,
   "metadata": {
    "collapsed": true
   },
   "outputs": [],
   "source": [
    "###Load SVHN Data files, including mat data, for train and test datasets."
   ]
  },
  {
   "cell_type": "code",
   "execution_count": 423,
   "metadata": {
    "collapsed": false
   },
   "outputs": [
    {
     "name": "stdout",
     "output_type": "stream",
     "text": [
      "Found and verified train.tar.gz\n",
      "Found and verified test.tar.gz\n"
     ]
    }
   ],
   "source": [
    "url = 'http://ufldl.stanford.edu/housenumbers/'\n",
    "last_percent_reported = None\n",
    "\n",
    "def download_progress_hook(count, blockSize, totalSize):\n",
    "  \"\"\"A hook to report the progress of a download. This is mostly intended for users with\n",
    "  slow internet connections. Reports every 1% change in download progress.\n",
    "  \"\"\"\n",
    "  global last_percent_reported\n",
    "  percent = int(count * blockSize * 100 / totalSize)\n",
    "\n",
    "  if last_percent_reported != percent:\n",
    "    if percent % 5 == 0:\n",
    "      sys.stdout.write(\"%s%%\" % percent)\n",
    "      sys.stdout.flush()\n",
    "    else:\n",
    "      sys.stdout.write(\".\")\n",
    "      sys.stdout.flush()\n",
    "      \n",
    "    last_percent_reported = percent\n",
    "        \n",
    "def maybe_download(filename, expected_bytes, force=False):\n",
    "  \"\"\"Download a file if not present, and make sure it's the right size.\"\"\"\n",
    "  if force or not os.path.exists(filename):\n",
    "    print('Attempting to download:', filename) \n",
    "    filename, _ = urlretrieve(url + filename, filename, reporthook=download_progress_hook)\n",
    "    print('\\nDownload Complete!')\n",
    "  statinfo = os.stat(filename)\n",
    "  if statinfo.st_size == expected_bytes:\n",
    "    print('Found and verified', filename)\n",
    "  else:\n",
    "    raise Exception(\n",
    "      'Failed to verify ' + filename + '. Can you get to it with a browser?')\n",
    "  return filename\n",
    "\n",
    "train_filename = maybe_download('train.tar.gz',404141560)\n",
    "test_filename = maybe_download('test.tar.gz',276555967)"
   ]
  },
  {
   "cell_type": "markdown",
   "metadata": {},
   "source": [
    "### Extract files"
   ]
  },
  {
   "cell_type": "code",
   "execution_count": 424,
   "metadata": {
    "collapsed": false
   },
   "outputs": [
    {
     "name": "stdout",
     "output_type": "stream",
     "text": [
      "train already present - Skipping extraction of train.tar.gz.\n",
      "train\n",
      "test already present - Skipping extraction of test.tar.gz.\n",
      "test\n"
     ]
    }
   ],
   "source": [
    "np.random.seed(133)\n",
    "\n",
    "def maybe_extract(filename, force=False):\n",
    "  root = os.path.splitext(os.path.splitext(filename)[0])[0]  # remove .tar.gz\n",
    "  if os.path.isdir(root) and not force:\n",
    "    # You may override by setting force=True.\n",
    "    print('%s already present - Skipping extraction of %s.' % (root, filename))\n",
    "  else:\n",
    "    print('Extracting data for %s. This may take a while. Please wait.' % root)\n",
    "    tar = tarfile.open(filename)\n",
    "    sys.stdout.flush()\n",
    "    tar.extractall()\n",
    "    tar.close()\n",
    "  data_folders = root\n",
    "  \n",
    "  print(data_folders)\n",
    "  return data_folders\n",
    "  \n",
    "train_folders = maybe_extract(train_filename)\n",
    "test_folders = maybe_extract(test_filename)"
   ]
  },
  {
   "cell_type": "code",
   "execution_count": null,
   "metadata": {
    "collapsed": true
   },
   "outputs": [],
   "source": [
    "### Format .mat data"
   ]
  },
  {
   "cell_type": "code",
   "execution_count": 425,
   "metadata": {
    "collapsed": false
   },
   "outputs": [],
   "source": [
    "import h5py\n",
    "\n",
    "\n",
    "class ImageData:\n",
    "    def __init__(self, imageDataMatFilePath):\n",
    "        self.file = h5py.File(imageDataMatFilePath, 'r')\n",
    "        self.names = self.file['digitStruct/name']\n",
    "        self.boxes = self.file['digitStruct/bbox']\n",
    "\n",
    "train_file = os.path.join(train_folders, 'digitStruct.mat')\n",
    "image_data = ImageData(train_file)\n"
   ]
  },
  {
   "cell_type": "code",
   "execution_count": 450,
   "metadata": {
    "collapsed": false
   },
   "outputs": [
    {
     "name": "stdout",
     "output_type": "stream",
     "text": [
      "22\n",
      "image_labels.shape (22, 7) image_dimention_array.shape: (22, 5)\n",
      "label len: 2\n",
      "tmp_label:  [ 1.] , tmp_left: [ 246.] , tmp_top: [ 77.] , tmp_height: [ 219.] , tmp_width: [ 81.]\n",
      "tmp_label:  [ 9.] , tmp_left: [ 323.] , tmp_top: [ 81.] , tmp_height: [ 219.] , tmp_width: [ 96.]\n",
      "left:  [ 233.7] , top:  [ 73.15] , right:  [ 427.38] , bottom:  [ 301.92]\n",
      "train/1.png\n",
      "--------------------------------------------------------------------------------\n",
      "label len: 2\n",
      "tmp_label:  [ 2.] , tmp_left: [ 77.] , tmp_top: [ 29.] , tmp_height: [ 32.] , tmp_width: [ 23.]\n",
      "tmp_label:  [ 3.] , tmp_left: [ 98.] , tmp_top: [ 25.] , tmp_height: [ 32.] , tmp_width: [ 26.]\n",
      "left:  [ 73.15] , top:  [ 23.75] , right:  [ 126.48] , bottom:  [ 62.22]\n",
      "train/2.png\n",
      "--------------------------------------------------------------------------------\n",
      "label len: 2\n",
      "tmp_label:  [ 2.] , tmp_left: [ 17.] , tmp_top: [ 5.] , tmp_height: [ 15.] , tmp_width: [ 8.]\n",
      "tmp_label:  [ 5.] , tmp_left: [ 25.] , tmp_top: [ 5.] , tmp_height: [ 15.] , tmp_width: [ 9.]\n",
      "left:  [ 16.15] , top:  [ 4.75] , right:  [ 34.68] , bottom:  [ 20.4]\n",
      "train/3.png\n",
      "--------------------------------------------------------------------------------\n",
      "label len: 2\n",
      "tmp_label:  [ 9.] , tmp_left: [ 57.] , tmp_top: [ 13.] , tmp_height: [ 34.] , tmp_width: [ 15.]\n",
      "tmp_label:  [ 3.] , tmp_left: [ 72.] , tmp_top: [ 13.] , tmp_height: [ 34.] , tmp_width: [ 13.]\n",
      "left:  [ 54.15] , top:  [ 12.35] , right:  [ 86.7] , bottom:  [ 47.94]\n",
      "train/4.png\n",
      "--------------------------------------------------------------------------------\n",
      "label len: 2\n",
      "tmp_label:  [ 3.] , tmp_left: [ 52.] , tmp_top: [ 7.] , tmp_height: [ 46.] , tmp_width: [ 21.]\n",
      "tmp_label:  [ 1.] , tmp_left: [ 74.] , tmp_top: [ 10.] , tmp_height: [ 46.] , tmp_width: [ 15.]\n",
      "left:  [ 49.4] , top:  [ 6.65] , right:  [ 90.78] , bottom:  [ 57.12]\n",
      "train/5.png\n",
      "--------------------------------------------------------------------------------\n",
      "label len: 2\n",
      "tmp_label:  [ 3.] , tmp_left: [ 28.] , tmp_top: [ 6.] , tmp_height: [ 21.] , tmp_width: [ 10.]\n",
      "tmp_label:  [ 3.] , tmp_left: [ 38.] , tmp_top: [ 8.] , tmp_height: [ 21.] , tmp_width: [ 11.]\n",
      "left:  [ 26.6] , top:  [ 5.7] , right:  [ 49.98] , bottom:  [ 29.58]\n",
      "train/6.png\n",
      "--------------------------------------------------------------------------------\n",
      "label len: 2\n",
      "tmp_label:  [ 2.] , tmp_left: [ 35.] , tmp_top: [ 10.] , tmp_height: [ 32.] , tmp_width: [ 13.]\n",
      "tmp_label:  [ 8.] , tmp_left: [ 47.] , tmp_top: [ 11.] , tmp_height: [ 32.] , tmp_width: [ 13.]\n",
      "left:  [ 33.25] , top:  [ 9.5] , right:  [ 61.2] , bottom:  [ 43.86]\n",
      "train/7.png\n",
      "--------------------------------------------------------------------------------\n",
      "label len: 3\n",
      "tmp_label:  [ 7.] , tmp_left: [ 17.] , tmp_top: [ 4.] , tmp_height: [ 15.] , tmp_width: [ 7.]\n",
      "tmp_label:  [ 4.] , tmp_left: [ 25.] , tmp_top: [ 4.] , tmp_height: [ 15.] , tmp_width: [ 6.]\n",
      "tmp_label:  [ 4.] , tmp_left: [ 31.] , tmp_top: [ 3.] , tmp_height: [ 15.] , tmp_width: [ 7.]\n",
      "left:  [ 16.15] , top:  [ 2.85] , right:  [ 38.76] , bottom:  [ 19.38]\n",
      "train/8.png\n",
      "--------------------------------------------------------------------------------\n",
      "label len: 3\n",
      "tmp_label:  [ 1.] , tmp_left: [ 19.] , tmp_top: [ 4.] , tmp_height: [ 24.] , tmp_width: [ 14.]\n",
      "tmp_label:  [ 2.] , tmp_left: [ 29.] , tmp_top: [ 4.] , tmp_height: [ 24.] , tmp_width: [ 13.]\n",
      "tmp_label:  [ 8.] , tmp_left: [ 38.] , tmp_top: [ 5.] , tmp_height: [ 24.] , tmp_width: [ 17.]\n",
      "left:  [ 18.05] , top:  [ 3.8] , right:  [ 56.1] , bottom:  [ 29.58]\n",
      "train/9.png\n",
      "--------------------------------------------------------------------------------\n",
      "label len: 2\n",
      "tmp_label:  [ 1.] , tmp_left: [ 25.] , tmp_top: [ 6.] , tmp_height: [ 27.] , tmp_width: [ 9.]\n",
      "tmp_label:  [ 6.] , tmp_left: [ 34.] , tmp_top: [ 4.] , tmp_height: [ 27.] , tmp_width: [ 14.]\n",
      "left:  [ 23.75] , top:  [ 3.8] , right:  [ 48.96] , bottom:  [ 33.66]\n",
      "train/10.png\n",
      "--------------------------------------------------------------------------------\n",
      "label len: 2\n",
      "tmp_label:  [ 2.] , tmp_left: [ 22.] , tmp_top: [ 5.] , tmp_height: [ 26.] , tmp_width: [ 12.]\n",
      "tmp_label:  [ 3.] , tmp_left: [ 33.] , tmp_top: [ 4.] , tmp_height: [ 26.] , tmp_width: [ 9.]\n",
      "left:  [ 20.9] , top:  [ 3.8] , right:  [ 42.84] , bottom:  [ 31.62]\n",
      "train/11.png\n",
      "--------------------------------------------------------------------------------\n",
      "label len: 2\n",
      "tmp_label:  [ 6.] , tmp_left: [ 67.] , tmp_top: [ 16.] , tmp_height: [ 55.] , tmp_width: [ 23.]\n",
      "tmp_label:  [ 3.] , tmp_left: [ 90.] , tmp_top: [ 17.] , tmp_height: [ 55.] , tmp_width: [ 20.]\n",
      "left:  [ 63.65] , top:  [ 15.2] , right:  [ 112.2] , bottom:  [ 72.42]\n",
      "train/12.png\n",
      "--------------------------------------------------------------------------------\n",
      "label len: 2\n",
      "tmp_label:  [ 4.] , tmp_left: [ 44.] , tmp_top: [ 12.] , tmp_height: [ 33.] , tmp_width: [ 17.]\n",
      "tmp_label:  [ 2.] , tmp_left: [ 63.] , tmp_top: [ 13.] , tmp_height: [ 33.] , tmp_width: [ 18.]\n",
      "left:  [ 41.8] , top:  [ 11.4] , right:  [ 82.62] , bottom:  [ 46.92]\n",
      "train/13.png\n",
      "--------------------------------------------------------------------------------\n",
      "label len: 2\n",
      "tmp_label:  [ 5.] , tmp_left: [ 35.] , tmp_top: [ 2.] , tmp_height: [ 42.] , tmp_width: [ 21.]\n",
      "tmp_label:  [ 8.] , tmp_left: [ 55.] , tmp_top: [ 2.] , tmp_height: [ 42.] , tmp_width: [ 23.]\n",
      "left:  [ 33.25] , top:  [ 1.9] , right:  [ 79.56] , bottom:  [ 44.88]\n",
      "train/14.png\n",
      "--------------------------------------------------------------------------------\n",
      "label len: 2\n",
      "tmp_label:  [ 1.] , tmp_left: [ 22.] , tmp_top: [ 8.] , tmp_height: [ 20.] , tmp_width: [ 14.]\n",
      "tmp_label:  [ 6.] , tmp_left: [ 33.] , tmp_top: [ 7.] , tmp_height: [ 20.] , tmp_width: [ 10.]\n",
      "left:  [ 20.9] , top:  [ 6.65] , right:  [ 43.86] , bottom:  [ 28.56]\n",
      "train/15.png\n",
      "--------------------------------------------------------------------------------\n",
      "label len: 2\n",
      "tmp_label:  [ 2.] , tmp_left: [ 20.] , tmp_top: [ 3.] , tmp_height: [ 19.] , tmp_width: [ 7.]\n",
      "tmp_label:  [ 3.] , tmp_left: [ 26.] , tmp_top: [ 1.] , tmp_height: [ 19.] , tmp_width: [ 7.]\n",
      "left:  [ 19.] , top:  [ 0.95] , right:  [ 33.66] , bottom:  [ 22.44]\n",
      "train/16.png\n",
      "--------------------------------------------------------------------------------\n",
      "label len: 2\n",
      "tmp_label:  [ 7.] , tmp_left: [ 23.] , tmp_top: [ 4.] , tmp_height: [ 22.] , tmp_width: [ 14.]\n",
      "tmp_label:  [ 9.] , tmp_left: [ 35.] , tmp_top: [ 4.] , tmp_height: [ 22.] , tmp_width: [ 12.]\n",
      "left:  [ 21.85] , top:  [ 3.8] , right:  [ 47.94] , bottom:  [ 26.52]\n",
      "train/17.png\n",
      "--------------------------------------------------------------------------------\n",
      "label len: 2\n",
      "tmp_label:  [ 5.] , tmp_left: [ 52.] , tmp_top: [ 12.] , tmp_height: [ 41.] , tmp_width: [ 28.]\n",
      "tmp_label:  [ 3.] , tmp_left: [ 80.] , tmp_top: [ 17.] , tmp_height: [ 41.] , tmp_width: [ 21.]\n",
      "left:  [ 49.4] , top:  [ 11.4] , right:  [ 103.02] , bottom:  [ 59.16]\n",
      "train/18.png\n",
      "--------------------------------------------------------------------------------\n",
      "label len: 3\n",
      "tmp_label:  [ 2.] , tmp_left: [ 19.] , tmp_top: [ 1.] , tmp_height: [ 19.] , tmp_width: [ 7.]\n",
      "tmp_label:  [ 2.] , tmp_left: [ 28.] , tmp_top: [ 1.] , tmp_height: [ 19.] , tmp_width: [ 7.]\n",
      "tmp_label:  [ 2.] , tmp_left: [ 36.] , tmp_top: [ 1.] , tmp_height: [ 19.] , tmp_width: [ 7.]\n",
      "left:  [ 18.05] , top:  [ 0.95] , right:  [ 43.86] , bottom:  [ 20.4]\n",
      "train/19.png\n",
      "--------------------------------------------------------------------------------\n",
      "label len: 2\n",
      "tmp_label:  [ 6.] , tmp_left: [ 20.] , tmp_top: [ 2.] , tmp_height: [ 24.] , tmp_width: [ 11.]\n",
      "tmp_label:  [ 2.] , tmp_left: [ 32.] , tmp_top: [ 1.] , tmp_height: [ 24.] , tmp_width: [ 11.]\n",
      "left:  [ 19.] , top:  [ 0.95] , right:  [ 43.86] , bottom:  [ 26.52]\n",
      "train/20.png\n",
      "--------------------------------------------------------------------------------\n",
      "label len: 1\n",
      "tmp_label:  [ 2.] , tmp_left: [ 72.] , tmp_top: [ 6.] , tmp_height: [ 85.] , tmp_width: [ 52.]\n",
      "left:  [ 68.4] , top:  [ 5.7] , right:  [ 126.48] , bottom:  [ 92.82]\n",
      "train/21.png\n",
      "--------------------------------------------------------------------------------\n",
      "label len: 3\n",
      "tmp_label:  [ 5.] , tmp_left: [ 24.] , tmp_top: [ 4.] , tmp_height: [ 16.] , tmp_width: [ 10.]\n",
      "tmp_label:  [ 1.] , tmp_left: [ 34.] , tmp_top: [ 5.] , tmp_height: [ 16.] , tmp_width: [ 7.]\n",
      "tmp_label:  [ 5.] , tmp_left: [ 40.] , tmp_top: [ 5.] , tmp_height: [ 16.] , tmp_width: [ 11.]\n",
      "left:  [ 22.8] , top:  [ 3.8] , right:  [ 52.02] , bottom:  [ 21.42]\n",
      "train/22.png\n",
      "--------------------------------------------------------------------------------\n"
     ]
    }
   ],
   "source": [
    "from PIL import Image\n",
    "\n",
    "image_vertices_count=4\n",
    "\n",
    "''' 5 places + 1 for length'''\n",
    "digit_count=6 \n",
    "\n",
    "#Images to be processed\n",
    "train_image_count = len(image_data.names)-33380\n",
    "print(train_image_count)\n",
    "\n",
    "#Array to hold labels of digits in an image\n",
    "#Add one for index\n",
    "image_labels_array=np.zeros(train_image_count*(digit_count+1)).reshape(train_image_count,digit_count+1)\n",
    "image_dimention_array=np.zeros(train_image_count*(image_vertices_count+1)).reshape(train_image_count,image_vertices_count+1)\n",
    "print(\"image_labels.shape\",image_labels_array.shape, \"image_dimention_array.shape:\",image_dimention_array.shape)\n",
    "\n",
    "##Iterate over all images and get dims of images's bbox ( and not digit bbox), and digit labels.\n",
    "for count in range(train_image_count):\n",
    "    left=0.\n",
    "    top=0.\n",
    "    bottom=0.\n",
    "    right=0.\n",
    "    img_label=image_data.file[image_data.boxes[count].item()][\"label\"]\n",
    "    img_left=image_data.file[image_data.boxes[count].item()][\"left\"]\n",
    "    img_top=image_data.file[image_data.boxes[count].item()][\"top\"]\n",
    "    img_height=image_data.file[image_data.boxes[count].item()][\"height\"]\n",
    "    img_width=image_data.file[image_data.boxes[count].item()][\"width\"]\n",
    "    num_digits=len(img_label)\n",
    "    print(\"label len:\",len(img_label))\n",
    "    \n",
    "    ##Get bbox and digits for each image\n",
    "    for digit_counter in np.arange(num_digits):\n",
    "        if(num_digits == 1):\n",
    "            tmp_label=img_label.value[0]\n",
    "            image_labels_array[count,digit_counter]=tmp_label\n",
    "            tmp_left=img_left.value[0]\n",
    "            tmp_top=img_top.value[0]\n",
    "            tmp_height=img_height.value[0]\n",
    "            tmp_width=img_width.value[0]\n",
    "        else:\n",
    "            tmp_label=image_data.file[img_label.value[digit_counter].item()].value[0]\n",
    "            image_labels_array[count,digit_counter]=tmp_label\n",
    "            tmp_left=image_data.file[img_left.value[digit_counter].item()].value[0]\n",
    "            tmp_top=image_data.file[img_top.value[digit_counter].item()].value[0]\n",
    "            tmp_height=image_data.file[img_height.value[digit_counter].item()].value[0]\n",
    "            tmp_width=image_data.file[img_width.value[digit_counter].item()].value[0]\n",
    "        tmp_bottom=tmp_top+tmp_height\n",
    "        tmp_right=tmp_left+tmp_width\n",
    "        print(\"tmp_label: \",tmp_label,\", tmp_left:\",tmp_left,\", tmp_top:\",tmp_top,\", tmp_height:\",tmp_height,\", tmp_width:\",tmp_width)\n",
    "        \n",
    "        #Find the largest margins by taking min of top and left, and max of right and bottom\n",
    "        #Also reduce top and left margins, and increase right and bottom margings to avoid cutting digits\n",
    "        if(left==0 or tmp_left < left):\n",
    "            left=tmp_left*0.95;\n",
    "        if(top==0 or tmp_top < top):\n",
    "            top=tmp_top*0.95\n",
    "        if(bottom ==0 or tmp_bottom > bottom):\n",
    "            bottom=tmp_bottom*1.02\n",
    "        if(right==0 or tmp_right > right):\n",
    "            right=tmp_right*1.02\n",
    "        #print(\"left: \", left, \", top: \", top,\", right: \", right,\", bottom: \", bottom)\n",
    "    print(\"left: \", left, \", top: \", top,\", right: \", right,\", bottom: \", bottom)\n",
    "    fullname = os.path.join(train_folders, str(count+1)+\".png\")\n",
    "    print(fullname)\n",
    "    im = Image.open(fullname)\n",
    "    im = im.crop((left, top, right, bottom)).resize([128,128], Image.ANTIALIAS)\n",
    "    im.show()\n",
    "    print('-'*80)"
   ]
  },
  {
   "cell_type": "code",
   "execution_count": null,
   "metadata": {
    "collapsed": false
   },
   "outputs": [],
   "source": [
    "import h5py\n",
    "\n",
    "# The DigitStructFile is just a wrapper around the h5py data.  It basically references \n",
    "#    inf:              The input h5 matlab file\n",
    "#    digitStructName   The h5 ref to all the file names\n",
    "#    digitStructBbox   The h5 ref to all struc data\n",
    "class DigitStructFile:\n",
    "    def __init__(self, inf):\n",
    "        self.inf = h5py.File(inf, 'r')\n",
    "        self.digitStructName = self.inf['digitStruct']['name']\n",
    "        self.digitStructBbox = self.inf['digitStruct']['bbox']\n",
    "\n",
    "# getName returns the 'name' string for for the n(th) digitStruct. \n",
    "    def getName(self,n):\n",
    "        return ''.join([chr(c[0]) for c in self.inf[self.digitStructName[n][0]].value])\n",
    "\n",
    "# bboxHelper handles the coding difference when there is exactly one bbox or an array of bbox. \n",
    "    def bboxHelper(self,attr):\n",
    "        if (len(attr) > 1):\n",
    "            attr = [self.inf[attr.value[j].item()].value[0][0] for j in range(len(attr))]\n",
    "        else:\n",
    "            attr = [attr.value[0][0]]\n",
    "        return attr\n",
    "\n",
    "# getBbox returns a dict of data for the n(th) bbox. \n",
    "    def getBbox(self,n):\n",
    "        bbox = {}\n",
    "        bb = self.digitStructBbox[n].item()\n",
    "        bbox['height'] = self.bboxHelper(self.inf[bb][\"height\"])\n",
    "        bbox['label'] = self.bboxHelper(self.inf[bb][\"label\"])\n",
    "        bbox['left'] = self.bboxHelper(self.inf[bb][\"left\"])\n",
    "        bbox['top'] = self.bboxHelper(self.inf[bb][\"top\"])\n",
    "        bbox['width'] = self.bboxHelper(self.inf[bb][\"width\"])\n",
    "        return bbox\n",
    "\n",
    "    def getDigitStructure(self,n):\n",
    "        s = self.getBbox(n)\n",
    "        s['name']=self.getName(n)\n",
    "        return s\n",
    "\n",
    "# getAllDigitStructure returns all the digitStruct from the input file.     \n",
    "    def getAllDigitStructure(self):\n",
    "        return [self.getDigitStructure(i) for i in range(len(self.digitStructName))]\n",
    "\n",
    "# Return a restructured version of the dataset (one structure by boxed digit).\n",
    "#\n",
    "#   Return a list of such dicts :\n",
    "#      'filename' : filename of the samples\n",
    "#      'boxes' : list of such dicts (one by digit) :\n",
    "#          'label' : 1 to 9 corresponding digits. 10 for digit '0' in image.\n",
    "#          'left', 'top' : position of bounding box\n",
    "#          'width', 'height' : dimension of bounding box\n",
    "#\n",
    "# Note: We may turn this to a generator, if memory issues arise.\n",
    "    def getAllDigitStructure_ByDigit(self):\n",
    "        pictDat = self.getAllDigitStructure()\n",
    "        result = []\n",
    "        structCnt = 1\n",
    "        for i in range(len(pictDat)):\n",
    "            item = { 'filename' : pictDat[i][\"name\"] }\n",
    "            figures = []\n",
    "            for j in range(len(pictDat[i]['height'])):\n",
    "               figure = {}\n",
    "               figure['height'] = pictDat[i]['height'][j]\n",
    "               figure['label']  = pictDat[i]['label'][j]\n",
    "               figure['left']   = pictDat[i]['left'][j]\n",
    "               figure['top']    = pictDat[i]['top'][j]\n",
    "               figure['width']  = pictDat[i]['width'][j]\n",
    "               figures.append(figure)\n",
    "            structCnt = structCnt + 1\n",
    "            item['boxes'] = figures\n",
    "            result.append(item)\n",
    "        return result"
   ]
  },
  {
   "cell_type": "code",
   "execution_count": null,
   "metadata": {
    "collapsed": true
   },
   "outputs": [],
   "source": []
  },
  {
   "cell_type": "code",
   "execution_count": null,
   "metadata": {
    "collapsed": false
   },
   "outputs": [],
   "source": [
    "train_folders = 'train'\n",
    "test_folders = 'test'\n",
    "\n",
    "train_fin = os.path.join(train_folders, 'digitStruct.mat')\n",
    "train_dsf = DigitStructFile(train_fin)\n",
    "train_data = train_dsf.getAllDigitStructure_ByDigit()"
   ]
  },
  {
   "cell_type": "code",
   "execution_count": null,
   "metadata": {
    "collapsed": true
   },
   "outputs": [],
   "source": [
    "test_fin = os.path.join(test_folders, 'digitStruct.mat')\n",
    "test_dsf = DigitStructFile(test_fin)\n",
    "test_data = test_dsf.getAllDigitStructure_ByDigit()"
   ]
  },
  {
   "cell_type": "code",
   "execution_count": null,
   "metadata": {
    "collapsed": false
   },
   "outputs": [],
   "source": [
    "\n",
    "from PIL import Image\n",
    "train_imsize = np.ndarray([len(train_data),2])\n",
    "for i in np.arange(len(train_data)):\n",
    "    filename = train_data[i]['filename']\n",
    "    fullname = os.path.join(train_folders, filename)\n",
    "    im = Image.open(fullname)\n",
    "    train_imsize[i, :] = im.size[:]\n",
    "\n",
    "\n",
    "print(np.amax(train_imsize[:,0]), np.amax(train_imsize[:,1]))\n",
    "print(np.amin(train_imsize[:,0]), np.amin(train_imsize[:,1]))"
   ]
  },
  {
   "cell_type": "code",
   "execution_count": null,
   "metadata": {
    "collapsed": false
   },
   "outputs": [],
   "source": [
    "\n",
    "\n",
    "test_imsize = np.ndarray([len(test_data),2])\n",
    "for i in np.arange(len(test_data)):\n",
    "    filename = test_data[i]['filename']\n",
    "    fullname = os.path.join(test_folders, filename)\n",
    "    im = Image.open(fullname)\n",
    "    test_imsize[i, :] = im.size[:]\n",
    "\n",
    "print(np.amax(test_imsize[:,0]), np.amax(test_imsize[:,1]))\n",
    "print(np.amin(test_imsize[:,0]), np.amin(test_imsize[:,1]))\n",
    "\n"
   ]
  },
  {
   "cell_type": "code",
   "execution_count": null,
   "metadata": {
    "collapsed": false
   },
   "outputs": [],
   "source": [
    "import PIL.Image as Image\n",
    "\n",
    "def generate_dataset(data, folder):\n",
    "\n",
    "    dataset = np.ndarray([len(data),32,32,1], dtype='float32')\n",
    "    labels = np.ones([len(data),6], dtype=int) * 10\n",
    "    for i in np.arange(len(data)):\n",
    "        filename = data[i]['filename']\n",
    "        fullname = os.path.join(folder, filename)\n",
    "        im = Image.open(fullname)\n",
    "        boxes = data[i]['boxes']\n",
    "        num_digit = len(boxes)\n",
    "        labels[i,0] = num_digit\n",
    "        top = np.ndarray([num_digit], dtype='float32')\n",
    "        left = np.ndarray([num_digit], dtype='float32')\n",
    "        height = np.ndarray([num_digit], dtype='float32')\n",
    "        width = np.ndarray([num_digit], dtype='float32')\n",
    "        for j in np.arange(num_digit):\n",
    "            if j < 5: \n",
    "                labels[i,j+1] = boxes[j]['label']\n",
    "                if boxes[j]['label'] == 10: labels[i,j+1] = 0\n",
    "            else: print('#',i,'image has more than 5 digits.')\n",
    "            top[j] = boxes[j]['top']\n",
    "            left[j] = boxes[j]['left']\n",
    "            height[j] = boxes[j]['height']\n",
    "            width[j] = boxes[j]['width']\n",
    "        \n",
    "        im_top = np.amin(top)\n",
    "        im_left = np.amin(left)\n",
    "        im_height = np.amax(top) + height[np.argmax(top)] - im_top\n",
    "        im_width = np.amax(left) + width[np.argmax(left)] - im_left\n",
    "        \n",
    "        im_top = np.floor(im_top - 0.1 * im_height).astype(int)\n",
    "        im_left = np.floor(im_left - 0.1 * im_width).astype(int)\n",
    "        im_bottom = np.amin([np.ceil(im_top + 1.2 * im_height), im.size[1]]).astype(int)\n",
    "        im_right = np.amin([np.ceil(im_left + 1.2 * im_width), im.size[0]]).astype(int)\n",
    "\n",
    "        im = im.crop((im_left, im_top, im_right, im_bottom)).resize([32,32], Image.ANTIALIAS)\n",
    "        im = np.dot(np.array(im, dtype='float32'), [[0.2989],[0.5870],[0.1140]])\n",
    "        mean = np.mean(im, dtype='float32')\n",
    "        std = np.std(im, dtype='float32', ddof=1)\n",
    "        if std < 1e-4: std = 1.\n",
    "        im = (im - mean) / std\n",
    "        dataset[i,:,:,:] = im[:,:,:]\n",
    "\n",
    "    return dataset, labels\n",
    "\n",
    "train_dataset, train_labels = generate_dataset(train_data, train_folders)\n",
    "print(train_dataset.shape, train_labels.shape)\n",
    "\n",
    "test_dataset, test_labels = generate_dataset(test_data, test_folders)\n",
    "print(test_dataset.shape, test_labels.shape)\n",
    "\n"
   ]
  },
  {
   "cell_type": "code",
   "execution_count": null,
   "metadata": {
    "collapsed": false
   },
   "outputs": [],
   "source": [
    "tmp_img=train_dataset[0]\n",
    "print(tmp_img[:,:,0].shape)\n",
    "#tmp_img[:,:,0].show()\n",
    "image_data=tmp_img[:,:,0]\n",
    "fig, plt_axes_arr=plt.subplots(2, 2)\n",
    "plt_axes_arr[0,0].imshow(image_data,cmap='Greys')\n",
    "\n",
    "image_data = (image_data.astype(float) - \n",
    "                    255.0 / 2) / 255.0\n",
    "plt_axes_arr[0,1].imshow(image_data,cmap='Greys')\n",
    "plt.show()"
   ]
  },
  {
   "cell_type": "code",
   "execution_count": null,
   "metadata": {
    "collapsed": false
   },
   "outputs": [],
   "source": [
    "#mat_contents = sio.loadmat('train/digitStruct.mat')\n",
    "f = h5py.File('train/digitStruct.mat')\n",
    "names = f.get('digitStruct/name') \n",
    "bboxes = f.get('digitStruct/bbox') "
   ]
  },
  {
   "cell_type": "code",
   "execution_count": null,
   "metadata": {
    "collapsed": false
   },
   "outputs": [],
   "source": [
    "print(f[names[0])"
   ]
  },
  {
   "cell_type": "code",
   "execution_count": null,
   "metadata": {
    "collapsed": false
   },
   "outputs": [],
   "source": [
    "save('train/digitStruct.mat','-v7')"
   ]
  },
  {
   "cell_type": "code",
   "execution_count": null,
   "metadata": {
    "collapsed": true
   },
   "outputs": [],
   "source": []
  }
 ],
 "metadata": {
  "kernelspec": {
   "display_name": "Python 2",
   "language": "python",
   "name": "python2"
  },
  "language_info": {
   "codemirror_mode": {
    "name": "ipython",
    "version": 2
   },
   "file_extension": ".py",
   "mimetype": "text/x-python",
   "name": "python",
   "nbconvert_exporter": "python",
   "pygments_lexer": "ipython2",
   "version": "2.7.12"
  }
 },
 "nbformat": 4,
 "nbformat_minor": 0
}
