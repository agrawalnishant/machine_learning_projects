{
 "cells": [
  {
   "cell_type": "markdown",
   "metadata": {},
   "source": [
    "# Build Model for Training, and Test accuracy"
   ]
  },
  {
   "cell_type": "code",
   "execution_count": 1,
   "metadata": {
    "collapsed": false
   },
   "outputs": [
    {
     "name": "stderr",
     "output_type": "stream",
     "text": [
      "/usr/local/lib/python2.7/dist-packages/ipykernel/pylab/config.py:66: DeprecationWarning: metadata {'config': True} was set from the constructor.  Metadata should be set using the .tag() method, e.g., Int().tag(key1='value1', key2='value2')\n",
      "  inline backend.\"\"\"\n",
      "/usr/local/lib/python2.7/dist-packages/ipykernel/pylab/config.py:71: DeprecationWarning: metadata {'config': True} was set from the constructor.  Metadata should be set using the .tag() method, e.g., Int().tag(key1='value1', key2='value2')\n",
      "  'retina', 'jpeg', 'svg', 'pdf'.\"\"\")\n",
      "/usr/local/lib/python2.7/dist-packages/ipykernel/pylab/config.py:85: DeprecationWarning: metadata {'config': True} was set from the constructor.  Metadata should be set using the .tag() method, e.g., Int().tag(key1='value1', key2='value2')\n",
      "  use `figure_formats` instead)\"\"\")\n",
      "/usr/local/lib/python2.7/dist-packages/ipykernel/pylab/config.py:95: DeprecationWarning: metadata {'config': True} was set from the constructor.  Metadata should be set using the .tag() method, e.g., Int().tag(key1='value1', key2='value2')\n",
      "  \"\"\"\n",
      "/usr/local/lib/python2.7/dist-packages/ipykernel/pylab/config.py:114: DeprecationWarning: metadata {'config': True} was set from the constructor.  Metadata should be set using the .tag() method, e.g., Int().tag(key1='value1', key2='value2')\n",
      "  \"\"\")\n",
      "/usr/local/lib/python2.7/dist-packages/ipykernel/pylab/config.py:44: DeprecationWarning: InlineBackend._config_changed is deprecated: use @observe and @unobserve instead.\n",
      "  def _config_changed(self, name, old, new):\n",
      "/usr/local/lib/python2.7/dist-packages/traitlets/traitlets.py:770: DeprecationWarning: A parent of InlineBackend._config_changed has adopted the new @observe(change) API\n",
      "  clsname, change_or_name), DeprecationWarning)\n"
     ]
    },
    {
     "data": {
      "application/javascript": [
       "IPython.notebook.set_autosave_interval(300000)"
      ]
     },
     "metadata": {},
     "output_type": "display_data"
    },
    {
     "name": "stdout",
     "output_type": "stream",
     "text": [
      "Autosaving every 300 seconds\n"
     ]
    }
   ],
   "source": [
    "# These are all the modules we'll be using later. Make sure you can import them\n",
    "# before proceeding further.\n",
    "from __future__ import print_function\n",
    "import matplotlib.pyplot as plt\n",
    "import numpy as np\n",
    "import os\n",
    "import sys\n",
    "import tarfile\n",
    "from IPython.display import display, Image\n",
    "from PIL import Image\n",
    "from scipy import ndimage\n",
    "from sklearn.linear_model import LogisticRegression\n",
    "from six.moves.urllib.request import urlretrieve\n",
    "import cPickle as pickle\n",
    "import tensorflow as tf\n",
    "\n",
    "# Config the matlotlib backend as plotting inline in IPython\n",
    "%matplotlib inline\n",
    "%autosave 300\n",
    "np.set_printoptions(threshold=np.inf)"
   ]
  },
  {
   "cell_type": "markdown",
   "metadata": {
    "collapsed": true
   },
   "source": [
    "### Deserialize"
   ]
  },
  {
   "cell_type": "code",
   "execution_count": 2,
   "metadata": {
    "collapsed": false
   },
   "outputs": [
    {
     "name": "stdout",
     "output_type": "stream",
     "text": [
      "Training set (33402, 6)\n",
      "[[ 2.  0.  0.  0.  1.  9.]\n",
      " [ 2.  0.  0.  0.  2.  3.]]\n"
     ]
    }
   ],
   "source": [
    "train_pickle_file = 'SVHN_basic_train_labels.pickle'\n",
    "\n",
    "with open(train_pickle_file, 'rb') as f:\n",
    "  save = pickle.load(f)\n",
    "  train_labels = save['train_image_labels']\n",
    "  del save  # hint to help gc free up memory\n",
    "  print('Training set', train_labels.shape)\n",
    "print(train_labels[0:2,:])"
   ]
  },
  {
   "cell_type": "code",
   "execution_count": 3,
   "metadata": {
    "collapsed": false
   },
   "outputs": [
    {
     "name": "stdout",
     "output_type": "stream",
     "text": [
      "Training set (33402, 32, 32)\n",
      "[[ 2.  0.  0.  0.  1.  9.]\n",
      " [ 2.  0.  0.  0.  2.  3.]]\n"
     ]
    }
   ],
   "source": [
    "train_pickle_file = 'SVHN_basic_train_data_basic.pickle'\n",
    "\n",
    "with open(train_pickle_file, 'rb') as f:\n",
    "  save = pickle.load(f)\n",
    "  train_dataset = save['train_dataset']\n",
    "  del save  # hint to help gc free up memory\n",
    "  print('Training set',train_dataset.shape)\n",
    "print(train_labels[0:2,:])"
   ]
  },
  {
   "cell_type": "code",
   "execution_count": 4,
   "metadata": {
    "collapsed": false
   },
   "outputs": [
    {
     "name": "stdout",
     "output_type": "stream",
     "text": [
      "Test set (1000, 6)\n",
      "Test set (1000, 32, 32)\n"
     ]
    }
   ],
   "source": [
    "test_pickle_file = 'SVHN_basic_test_labels.pickle'\n",
    "\n",
    "with open(test_pickle_file, 'rb') as f:\n",
    "  save = pickle.load(f)\n",
    "  test_labels = save['test_image_labels'][0:1000]\n",
    "  del save  # hint to help gc free up memory\n",
    "  print('Test set', test_labels.shape)\n",
    "\n",
    "test_pickle_file = 'SVHN_basic_test_data_basic.pickle'\n",
    "\n",
    "with open(test_pickle_file, 'rb') as f:\n",
    "  save = pickle.load(f)\n",
    "  test_dataset = save['test_dataset'][0:1000]\n",
    "  del save  # hint to help gc free up memory\n",
    "  print('Test set', test_dataset.shape)"
   ]
  },
  {
   "cell_type": "code",
   "execution_count": 5,
   "metadata": {
    "collapsed": false
   },
   "outputs": [
    {
     "data": {
      "text/plain": [
       "\"extra_pickle_file = 'SVHN_basic_extra_labels.pickle'\\n\\nwith open(extra_pickle_file, 'rb') as f:\\n  save = pickle.load(f)\\n  extra_labels = save['extra_image_labels']\\n  del save  # hint to help gc free up memory\\n  print('Extra set', extra_labels.shape)\\n    \\ntest_pickle_file = 'SVHN_basic_extra_data_basic.pickle'\\n\\n    \\nwith open(extra_pickle_file, 'rb') as f:\\n  save = pickle.load(f)\\n  extra_dataset = save['extra_dataset']\\n  del save  # hint to help gc free up memory\\n  print('extra set', extra_dataset.shape)\\n  \\n\""
      ]
     },
     "execution_count": 5,
     "metadata": {},
     "output_type": "execute_result"
    }
   ],
   "source": [
    "'''extra_pickle_file = 'SVHN_basic_extra_labels.pickle'\n",
    "\n",
    "with open(extra_pickle_file, 'rb') as f:\n",
    "  save = pickle.load(f)\n",
    "  extra_labels = save['extra_image_labels']\n",
    "  del save  # hint to help gc free up memory\n",
    "  print('Extra set', extra_labels.shape)\n",
    "    \n",
    "test_pickle_file = 'SVHN_basic_extra_data_basic.pickle'\n",
    "\n",
    "    \n",
    "with open(extra_pickle_file, 'rb') as f:\n",
    "  save = pickle.load(f)\n",
    "  extra_dataset = save['extra_dataset']\n",
    "  del save  # hint to help gc free up memory\n",
    "  print('extra set', extra_dataset.shape)\n",
    "  \n",
    "'''"
   ]
  },
  {
   "cell_type": "markdown",
   "metadata": {},
   "source": [
    "####TODO: Randomize and Shuffle\n",
    "####TODO: Use Boosting\n",
    "####TODO: Use Simulated Annealing / Decay\n",
    "\n",
    "###Reformat"
   ]
  },
  {
   "cell_type": "code",
   "execution_count": 6,
   "metadata": {
    "collapsed": false
   },
   "outputs": [
    {
     "name": "stdout",
     "output_type": "stream",
     "text": [
      "Reformatted shapes of datasets\n",
      "\n",
      "train_dataset.shape: (33402, 32, 32, 1) , train_labels.shape: (33402, 6)\n",
      "test_dataset.shape: (1000, 32, 32, 1) , test_labels.shape: (1000, 6)\n"
     ]
    }
   ],
   "source": [
    "### Reformat dataset to 1 channel\n",
    "image_size=32\n",
    "num_channels=1 #greyscale\n",
    "\n",
    "def reformat(dataset):\n",
    "  dataset = dataset.reshape((-1, image_size, image_size, num_channels))\\\n",
    "        .astype(np.float32)\n",
    "  return dataset\n",
    "\n",
    "train_dataset = reformat(train_dataset)\n",
    "test_dataset = reformat(test_dataset)\n",
    "#extra_dataset = reformat(extra_dataset)\n",
    "print(\"Reformatted shapes of datasets\\n\")\n",
    "print(\"train_dataset.shape:\",train_dataset.shape,\", train_labels.shape:\",train_labels.shape)\n",
    "print(\"test_dataset.shape:\", test_dataset.shape,\", test_labels.shape:\",test_labels.shape)\n",
    "#print(\"extra_dataset.shape:\", extra_dataset.shape,\", extra_labels.shape:\",extra_labels.shape)"
   ]
  },
  {
   "cell_type": "markdown",
   "metadata": {},
   "source": [
    "### Define Accuracy"
   ]
  },
  {
   "cell_type": "code",
   "execution_count": 7,
   "metadata": {
    "collapsed": false
   },
   "outputs": [],
   "source": [
    "def accuracy(predictions, labels):\n",
    "    #print(\"predictions:\", predictions)\n",
    "    #print(\"labels:\\n\", labels)\n",
    "    label_count=labels.shape[0]\n",
    "    len_preds=np.argmax(predictions[0,:,:],axis=1) - 4\n",
    "    digit_1_preds=np.argmax(predictions[1,:,:],axis=1)\n",
    "    digit_2_preds=np.argmax(predictions[2,:,:],axis=1)\n",
    "    digit_3_preds=np.argmax(predictions[3,:,:],axis=1)\n",
    "    digit_4_preds=np.argmax(predictions[4,:,:],axis=1)\n",
    "    digit_5_preds=np.argmax(predictions[5,:,:],axis=1)\n",
    "    #print(\"len_preds:\", len_preds)\n",
    "    #print(\"digit_1_preds:\\n\", digit_1_preds)\n",
    "    #print(\"digit_2_preds:\\n\", digit_2_preds)\n",
    "    #print(\"digit_3_preds:\\n\", digit_3_preds)\n",
    "    #print(\"digit_4_preds:\\n\", digit_4_preds)\n",
    "    #print(\"digit_5_preds:\\n\", digit_5_preds)\n",
    "\n",
    "    \n",
    "    for label_counter_1 in range(label_count):\n",
    "        if digit_1_preds[label_counter_1] == 0:\n",
    "            digit_1_preds[label_counter_1] = 10\n",
    "        if digit_2_preds[label_counter_1] == 0:\n",
    "            digit_2_preds[label_counter_1] = 10\n",
    "        if digit_3_preds[label_counter_1] == 0:\n",
    "            digit_3_preds[label_counter_1] = 10\n",
    "        if digit_4_preds[label_counter_1] == 0:\n",
    "            digit_4_preds[label_counter_1] = 10\n",
    "        if digit_5_preds[label_counter_1] == 0:\n",
    "            digit_5_preds[label_counter_1] = 10\n",
    "        \n",
    "    for label_counter in range(label_count):\n",
    "        length_prediction=len_preds[label_counter]\n",
    "        for digit_place_counter in range(6 - length_prediction):\n",
    "            if digit_place_counter == 1:\n",
    "                digit_1_preds[label_counter]=0\n",
    "            elif digit_place_counter == 2:\n",
    "                digit_2_preds[label_counter]=0\n",
    "            elif digit_place_counter == 3:\n",
    "                digit_3_preds[label_counter]=0\n",
    "            elif digit_place_counter == 4:\n",
    "                digit_4_preds[label_counter]=0\n",
    "            elif digit_place_counter == 5:\n",
    "                digit_5_preds[label_counter]=0\n",
    "    #print(\"\\n------------ AFTER --------------\\n\")\n",
    "    #print(\"digit_1_preds:\\n\", digit_1_preds)\n",
    "    #print(\"digit_2_preds:\\n\", digit_2_preds)\n",
    "    #print(\"digit_3_preds:\\n\", digit_3_preds)\n",
    "    #print(\"digit_4_preds:\\n\", digit_4_preds)\n",
    "    #print(\"digit_5_preds:\\n\", digit_5_preds)\n",
    "            \n",
    "    len_accuracy=len_preds==labels[:,0]\n",
    "    digit_1_accuracy=digit_1_preds==labels[:,1]\n",
    "    digit_2_accuracy=digit_2_preds==labels[:,2]\n",
    "    digit_3_accuracy=digit_3_preds==labels[:,3]\n",
    "    digit_4_accuracy=digit_4_preds==labels[:,4]\n",
    "    digit_5_accuracy=digit_5_preds==labels[:,5]\n",
    "\n",
    "            \n",
    "        \n",
    "    \n",
    "    complete_accuracy=np.concatenate((len_accuracy.reshape(1,label_count),digit_1_accuracy.reshape(1,label_count),\\\n",
    "                                      digit_2_accuracy.reshape(1,label_count),digit_3_accuracy.reshape(1,label_count), \\\n",
    "                                      digit_4_accuracy.reshape(1,label_count),digit_5_accuracy.reshape(1,label_count)), axis=0).T\n",
    "    #print(\"complete_accuracy:\\n\",complete_accuracy.shape, complete_accuracy)\n",
    "    return 100.0 * (np.sum([np.all(row) for row in complete_accuracy])) / len(labels)"
   ]
  },
  {
   "cell_type": "markdown",
   "metadata": {
    "collapsed": true
   },
   "source": [
    "#### Create Model"
   ]
  },
  {
   "cell_type": "code",
   "execution_count": 9,
   "metadata": {
    "collapsed": false,
    "scrolled": true
   },
   "outputs": [],
   "source": [
    "batch_size = 64\n",
    "patch_size = 5\n",
    "depth1 = 16\n",
    "depth2 = 24\n",
    "depth3 = 32\n",
    "depth4 = 48\n",
    "depth5 = 64\n",
    "depth6 = 128\n",
    "depth7 = 128\n",
    "depth8 = 256\n",
    "depth9 = 512\n",
    "depth10 = 1024\n",
    "num_hidden1 = 1024\n",
    "num_hidden2 = 512\n",
    "num_labels = 10 # 10 for 0-9\n",
    "len_labels=6 #6 for lenghts0-5, not yet for more than 5\n",
    "dropout = 0.50\n",
    "\n",
    "\n",
    "\n",
    "graph = tf.Graph()\n",
    "\n",
    "with graph.as_default():\n",
    "  keep_prob = tf.placeholder(tf.float32)\n",
    "\n",
    "  # Input data.\n",
    "  tf_train_dataset = tf.placeholder(tf.float32, shape=(batch_size, image_size, image_size, num_channels))\n",
    "  tf_train_labels = tf.placeholder(tf.int32, shape=(batch_size, len_labels))\n",
    "\n",
    "  tf_digit_masks_1= tf.placeholder(tf.float32, shape=(batch_size))\n",
    "  tf_digit_masks_2= tf.placeholder(tf.float32, shape=(batch_size))\n",
    "  tf_digit_masks_3= tf.placeholder(tf.float32, shape=(batch_size))\n",
    "  tf_digit_masks_4= tf.placeholder(tf.float32, shape=(batch_size))\n",
    "  tf_digit_masks_5= tf.placeholder(tf.float32, shape=(batch_size))\n",
    "  \n",
    "  tf_test_dataset = tf.constant(test_dataset)\n",
    "\n",
    "  \n",
    "  # Variables.\n",
    "  cnv_lyr1_weights = tf.get_variable(\"W1\", shape=[patch_size, patch_size, num_channels, depth1], initializer=tf.contrib.layers.xavier_initializer_conv2d())\n",
    "  cnv_lyr1_biases = tf.Variable(tf.constant(0.01, shape=[depth1]))\n",
    "\n",
    "  cnv_lyr2_weights = tf.get_variable(\"W2\", shape=[patch_size, patch_size, depth1, depth2], initializer=tf.contrib.layers.xavier_initializer_conv2d())\n",
    "  cnv_lyr2_biases = tf.Variable(tf.constant(0.01, shape=[depth2]))\n",
    "\n",
    "  cnv_lyr3_weights = tf.get_variable(\"W3\", shape=[patch_size, patch_size, depth2, depth3], initializer=tf.contrib.layers.xavier_initializer_conv2d())\n",
    "  cnv_lyr3_biases = tf.Variable(tf.constant(0.01, shape=[depth3]))\n",
    "\n",
    "  cnv_lyr4_weights = tf.get_variable(\"W4\", shape=[patch_size, patch_size, depth3, depth4], initializer=tf.contrib.layers.xavier_initializer_conv2d())\n",
    "  cnv_lyr4_biases = tf.Variable(tf.constant(0.01, shape=[depth4]))\n",
    "\n",
    "  cnv_lyr5_weights = tf.get_variable(\"W5\", shape=[patch_size, patch_size, depth4, depth5], initializer=tf.contrib.layers.xavier_initializer_conv2d())\n",
    "  cnv_lyr5_biases = tf.Variable(tf.constant(0.01, shape=[depth5]))\n",
    "\n",
    "  cnv_lyr6_weights = tf.get_variable(\"W6\", shape=[patch_size, patch_size, depth5, depth6], initializer=tf.contrib.layers.xavier_initializer_conv2d())\n",
    "  cnv_lyr6_biases = tf.Variable(tf.constant(0.01, shape=[depth6]))\n",
    "\n",
    "  cnv_lyr7_weights = tf.get_variable(\"W7\", shape=[patch_size, patch_size, depth6, depth7], initializer=tf.contrib.layers.xavier_initializer_conv2d())\n",
    "  cnv_lyr7_biases = tf.Variable(tf.constant(0.01, shape=[depth7]))\n",
    "\n",
    "  cnv_lyr8_weights = tf.get_variable(\"W8\", shape=[patch_size, patch_size, depth7, depth8], initializer=tf.contrib.layers.xavier_initializer_conv2d())\n",
    "  cnv_lyr8_biases = tf.Variable(tf.constant(0.01, shape=[depth8]))\n",
    "  \n",
    "  cnv_lyr9_weights = tf.get_variable(\"W9\", shape=[patch_size, patch_size, depth8, depth9], initializer=tf.contrib.layers.xavier_initializer_conv2d())\n",
    "  cnv_lyr9_biases = tf.Variable(tf.constant(0.01, shape=[depth9]))\n",
    "\n",
    "  cnv_lyr10_weights = tf.get_variable(\"W10\", shape=[patch_size, patch_size, depth9, depth10], initializer=tf.contrib.layers.xavier_initializer_conv2d())\n",
    "  cnv_lyr10_biases = tf.Variable(tf.constant(0.01, shape=[depth10]))\n",
    "  \n",
    "    \n",
    "  fc_weights_1 = tf.get_variable(\"WFC1\", shape=[depth9 * depth9 // 64  * depth10 // 256, num_hidden1], initializer=tf.contrib.layers.xavier_initializer())\n",
    "  fc_biases_1 = tf.Variable(tf.constant(0.1, shape=[num_hidden1]))\n",
    "    \n",
    "  fc_weights_2 = tf.get_variable(\"WFC2\", shape=[num_hidden1  , num_hidden2], initializer=tf.contrib.layers.xavier_initializer())\n",
    "  fc_biases_2 = tf.Variable(tf.constant(0.1, shape=[num_hidden2]))\n",
    "\n",
    "  length_weights = tf.get_variable(\"WL\", shape=[num_hidden2 , len_labels], initializer=tf.contrib.layers.xavier_initializer())\n",
    "  length_biases = tf.Variable(tf.constant(0.1, shape=[len_labels]))\n",
    "\n",
    "  digit1_weights = tf.get_variable(\"WD1\", shape=[num_hidden2 , num_labels], initializer=tf.contrib.layers.xavier_initializer())\n",
    "  digit1_biases = tf.Variable(tf.constant(0.1, shape=[num_labels]))\n",
    "\n",
    "  digit2_weights = tf.get_variable(\"WD2\", shape=[num_hidden2 , num_labels],initializer=tf.contrib.layers.xavier_initializer())\n",
    "  digit2_biases = tf.Variable(tf.constant(0.1, shape=[num_labels]))\n",
    "\n",
    "  digit3_weights = tf.get_variable(\"WD3\", shape=[num_hidden2 , num_labels], initializer=tf.contrib.layers.xavier_initializer())\n",
    "  digit3_biases = tf.Variable(tf.constant(0.1, shape=[num_labels]))\n",
    "\n",
    "  digit4_weights = tf.get_variable(\"WD4\", shape=[num_hidden2, num_labels], initializer=tf.contrib.layers.xavier_initializer())\n",
    "  digit4_biases = tf.Variable(tf.constant(0.1, shape=[num_labels]))\n",
    "\n",
    "  digit5_weights = tf.get_variable(\"WD5\", shape=[num_hidden2 , num_labels], initializer=tf.contrib.layers.xavier_initializer())\n",
    "  digit5_biases = tf.Variable(tf.constant(0.1, shape=[num_labels]))\n",
    "\n",
    "  def max_pool_2x2(x):\n",
    "     return tf.nn.max_pool(x, ksize=[1, 2, 2, 1],strides=[1, 2, 2, 1], padding='SAME')\n",
    "  \n",
    "  # Model.\n",
    "  def model(data, digit_masks_1,digit_masks_2,digit_masks_3,digit_masks_4,digit_masks_5, is_train, dropout_prob):\n",
    "    #print(\"data.shape:\",data.get_shape())\n",
    "    \n",
    "    conv = tf.nn.conv2d(data, cnv_lyr1_weights, [1, 1, 1, 1], padding='SAME')\n",
    "    hidden = tf.nn.relu(conv + cnv_lyr1_biases)\n",
    "    lrn = tf.nn.local_response_normalization(hidden)\n",
    "    #h_pool1 = max_pool_2x2(lrn)\n",
    "    \n",
    "    conv = tf.nn.conv2d(lrn, cnv_lyr2_weights, [1, 1, 1, 1], padding='SAME')\n",
    "    hidden = tf.nn.relu(conv + cnv_lyr2_biases)\n",
    "    lrn = tf.nn.local_response_normalization(hidden)\n",
    "    h_pool2 = max_pool_2x2(lrn)\n",
    "    \n",
    "    conv = tf.nn.conv2d(h_pool2, cnv_lyr3_weights, [1, 1, 1, 1], padding='SAME')\n",
    "    hidden = tf.nn.relu(conv + cnv_lyr3_biases)\n",
    "    lrn = tf.nn.local_response_normalization(hidden)\n",
    "    #h_pool3 = max_pool_2x2(lrn)\n",
    "    \n",
    "    conv = tf.nn.conv2d(lrn, cnv_lyr4_weights, [1, 1, 1, 1], padding='SAME')\n",
    "    hidden = tf.nn.relu(conv + cnv_lyr4_biases)\n",
    "    lrn = tf.nn.local_response_normalization(hidden)\n",
    "    h_pool4 = max_pool_2x2(lrn)\n",
    "    \n",
    "    conv = tf.nn.conv2d(h_pool4, cnv_lyr5_weights, [1, 1, 1, 1], padding='SAME')\n",
    "    hidden = tf.nn.relu(conv + cnv_lyr5_biases)\n",
    "    lrn = tf.nn.local_response_normalization(hidden)\n",
    "    #h_pool5 = max_pool_2x2(lrn)\n",
    "    \n",
    "    conv = tf.nn.conv2d(lrn, cnv_lyr6_weights, [1, 1, 1, 1], padding='SAME')\n",
    "    hidden = tf.nn.relu(conv + cnv_lyr6_biases)\n",
    "    lrn = tf.nn.local_response_normalization(hidden)\n",
    "    h_pool6 = max_pool_2x2(lrn)\n",
    "    \n",
    "    conv = tf.nn.conv2d(lrn, cnv_lyr7_weights, [1, 1, 1, 1], padding='SAME')\n",
    "    hidden = tf.nn.relu(conv + cnv_lyr7_biases)\n",
    "    lrn = tf.nn.local_response_normalization(hidden)\n",
    "    #h_pool7 = max_pool_2x2(lrn)\n",
    "    \n",
    "    conv = tf.nn.conv2d(lrn, cnv_lyr8_weights, [1, 1, 1, 1], padding='SAME')\n",
    "    hidden = tf.nn.relu(conv + cnv_lyr8_biases)\n",
    "    lrn = tf.nn.local_response_normalization(hidden)\n",
    "    h_pool8 = max_pool_2x2(lrn)\n",
    "    \n",
    "    conv = tf.nn.conv2d(lrn, cnv_lyr9_weights, [1, 1, 1, 1], padding='SAME')\n",
    "    hidden = tf.nn.relu(conv + cnv_lyr9_biases)\n",
    "    lrn = tf.nn.local_response_normalization(hidden)\n",
    "    \n",
    "    conv = tf.nn.conv2d(lrn, cnv_lyr10_weights, [1, 1, 1, 1], padding='SAME')\n",
    "    hidden = tf.nn.relu(conv + cnv_lyr10_biases)\n",
    "    lrn = tf.nn.local_response_normalization(hidden)\n",
    "    h_pool10 = max_pool_2x2(lrn)\n",
    "    \n",
    "    shape = h_pool10.get_shape().as_list()\n",
    "    conv_result_reshape = tf.reshape(h_pool10, [shape[0], shape[1] * shape[2] * shape[3]])\n",
    "    #print(\"conv_result_reshape:\",conv_result_reshape.get_shape())\n",
    "    hidden = tf.nn.relu(tf.matmul(conv_result_reshape, fc_weights_1) + fc_biases_1)\n",
    "    hidden = tf.nn.relu(tf.matmul(hidden, fc_weights_2) + fc_biases_2)\n",
    "    \n",
    "    # Apply Dropout\n",
    "    hidden = tf.nn.dropout(hidden, dropout_prob)\n",
    "    \n",
    "    logit_length = tf.matmul(hidden, length_weights) + length_biases\n",
    "    \n",
    "    logit_1 = tf.nn.relu((tf.matmul(hidden, digit1_weights) + digit1_biases))\n",
    "    logit_2 = tf.nn.relu((tf.matmul(hidden, digit2_weights) + digit2_biases))\n",
    "    logit_3 = tf.nn.relu((tf.matmul(hidden, digit3_weights) + digit3_biases))\n",
    "    logit_4 = tf.nn.relu((tf.matmul(hidden, digit4_weights) + digit4_biases))\n",
    "    logit_5 = tf.nn.relu((tf.matmul(hidden, digit5_weights) + digit5_biases))\n",
    "\n",
    "    \n",
    "\n",
    "    return logit_length, logit_1,logit_2,logit_3,logit_4,logit_5\n",
    "  \n",
    "  # Training computation.\n",
    "  logit_len, logit_digit_1,logit_digit_2,logit_digit_3,logit_digit_4,logit_digit_5 \\\n",
    "    = model(tf_train_dataset, tf_digit_masks_1, tf_digit_masks_2, tf_digit_masks_3, tf_digit_masks_4, \\\n",
    "            tf_digit_masks_5, True, keep_prob)\n",
    "\n",
    "  loss_len     = tf.nn.sparse_softmax_cross_entropy_with_logits(logit_len, tf_train_labels[:,0])\n",
    " \n",
    "  loss_digit_1 = tf.nn.sparse_softmax_cross_entropy_with_logits(logit_digit_1, tf_train_labels[:,1])\n",
    "  loss_digit_1 = loss_digit_1 * tf_digit_masks_1\n",
    "    \n",
    "  loss_digit_2 = tf.nn.sparse_softmax_cross_entropy_with_logits(logit_digit_2, tf_train_labels[:,2])\n",
    "  loss_digit_2 =  loss_digit_2 * tf_digit_masks_2\n",
    "    \n",
    "  loss_digit_3 = tf.nn.sparse_softmax_cross_entropy_with_logits(logit_digit_3, tf_train_labels[:,3])\n",
    "  loss_digit_3 =  loss_digit_3 * tf_digit_masks_3\n",
    "    \n",
    "  loss_digit_4 = tf.nn.sparse_softmax_cross_entropy_with_logits(logit_digit_4, tf_train_labels[:,4])\n",
    "  loss_digit_4 =  loss_digit_4 * tf_digit_masks_4\n",
    "  \n",
    "  loss_digit_5 = tf.nn.sparse_softmax_cross_entropy_with_logits(logit_digit_5, tf_train_labels[:,5])\n",
    "  #print(\"loss_digit_5 : BEFORE :\", loss_digit_5,\", tf_digit_masks_5: \", tf_digit_masks_5)\n",
    "  loss_digit_5 =  loss_digit_5 * tf_digit_masks_5\n",
    "  #print(\"loss_digit_5 : AFTER :\", loss_digit_5)\n",
    "\n",
    "  loss = tf.reduce_mean(loss_len) + tf.reduce_mean(loss_digit_1) + tf.reduce_mean(loss_digit_2) \\\n",
    "        + tf.reduce_mean(loss_digit_3) + tf.reduce_mean(loss_digit_4) + tf.reduce_mean(loss_digit_5)\n",
    "    \n",
    "    \n",
    "  # Optimizer.\n",
    "  global_step = tf.Variable(0, trainable=False)\n",
    "  starter_learning_rate = 0.1\n",
    "  learning_rate = tf.train.exponential_decay(starter_learning_rate, global_step,\n",
    "                                           1000, 0.97, staircase=True)\n",
    "  optimizer = tf.train.GradientDescentOptimizer(learning_rate).minimize(loss,global_step=global_step)\n",
    "  #optimizer = tf.train.AdamOptimizer(learning_rate=0.001).minimize(loss)\n",
    "  \n",
    "  # Predictions for TRAIN\n",
    "  len_preds = tf.nn.softmax(logit_len)\n",
    "  pads = tf.constant([[0, 0], [4, 0]])\n",
    "  len_preds=tf.pad(len_preds, pads, \"CONSTANT\")\n",
    "  train_prediction = tf.pack([ len_preds, tf.nn.softmax(logit_digit_1), tf.nn.softmax(logit_digit_2), tf.nn.softmax(logit_digit_3), \\\n",
    "                              tf.nn.softmax(logit_digit_4), tf.nn.softmax(logit_digit_5) ])\n",
    "\n",
    "    \n",
    "  #Predictions for TEST\n",
    "  logit_len_test, logit_digit_1_test, logit_digit_2_test, logit_digit_3_test, logit_digit_4_test, logit_digit_5_test \\\n",
    "    = model(tf_test_dataset, tf_digit_masks_1, tf_digit_masks_2, tf_digit_masks_3, tf_digit_masks_4, tf_digit_masks_5, False, 1.)\n",
    "  len_preds_test = tf.nn.softmax(logit_len_test)\n",
    "  pads_test = tf.constant([[0, 0], [4, 0]])\n",
    "  len_preds_test=tf.pad(len_preds_test, pads_test, \"CONSTANT\")\n",
    "  test_prediction = tf.pack([ len_preds_test, tf.nn.softmax(logit_digit_1_test), tf.nn.softmax(logit_digit_2_test), \\\n",
    "                             tf.nn.softmax(logit_digit_3_test), tf.nn.softmax(logit_digit_4_test), \\\n",
    "                             tf.nn.softmax(logit_digit_5_test) ])\n",
    "   "
   ]
  },
  {
   "cell_type": "code",
   "execution_count": 10,
   "metadata": {
    "collapsed": false
   },
   "outputs": [],
   "source": [
    "# Create 5 mask arrays; 1 for each digit.\n",
    "# Each such Xth array will have all zeroes in Nth a row, if Xh digit is not present in Nth number in batch. \n",
    "def explode(batch_labels_arr):\n",
    "   mask_arr=np.ones((batch_labels_arr.shape[0],batch_labels_arr.shape[1]-1),dtype=np.int32)\n",
    "   for counter in range(batch_labels_arr.shape[0]):\n",
    "       mask_arr[counter,0:5-batch_labels_arr[counter,0]]=0\n",
    "       #=np.concatenate((np.zeros(5-batch_labels_arr[counter][0]), np.ones(batch_labels_arr[counter][0])))\n",
    "   return mask_arr[:,0],mask_arr[:,1],mask_arr[:,2],mask_arr[:,3],mask_arr[:,4]\n",
    "    \n",
    "#tmp_arr = train_labels[20:27,:]\n",
    "#print(tmp_arr)\n",
    "#print(tmp_arr[:,1:] >0)\n",
    "#print((tmp_arr[:,1:] >0).astype(int))\n",
    "#print(\"\\nshape:\", train_labels[20:27,:].shape)\n",
    "#explode(train_labels[20:27,:])"
   ]
  },
  {
   "cell_type": "code",
   "execution_count": 11,
   "metadata": {
    "collapsed": false
   },
   "outputs": [
    {
     "name": "stdout",
     "output_type": "stream",
     "text": [
      "Initialized\n",
      "Minibatch loss at step 1000: 5.070807\n",
      "Minibatch accuracy: 3.1%\n",
      "Minibatch loss at step 2000: 3.289852\n",
      "Minibatch accuracy: 26.6%\n",
      "Minibatch loss at step 3000: 1.163622\n",
      "Minibatch accuracy: 64.1%\n",
      "Minibatch loss at step 4000: 1.402167\n",
      "Minibatch accuracy: 68.8%\n",
      "Minibatch loss at step 5000: 0.923808\n",
      "Minibatch accuracy: 78.1%\n",
      "Minibatch loss at step 6000: 0.595511\n",
      "Minibatch accuracy: 84.4%\n",
      "Minibatch loss at step 7000: 0.372130\n",
      "Minibatch accuracy: 85.9%\n",
      "Minibatch loss at step 8000: 0.178786\n",
      "Minibatch accuracy: 92.2%\n",
      "Minibatch loss at step 9000: 0.403885\n",
      "Minibatch accuracy: 85.9%\n",
      "Minibatch loss at step 10000: 0.181122\n",
      "Minibatch accuracy: 90.6%\n",
      "Minibatch loss at step 11000: 0.228972\n",
      "Minibatch accuracy: 89.1%\n",
      "Minibatch loss at step 12000: 0.102770\n",
      "Minibatch accuracy: 95.3%\n",
      "Minibatch loss at step 13000: 0.057404\n",
      "Minibatch accuracy: 96.9%\n",
      "Minibatch loss at step 14000: 0.092194\n",
      "Minibatch accuracy: 96.9%\n",
      "Minibatch loss at step 15000: 0.126128\n",
      "Minibatch accuracy: 95.3%\n",
      "Minibatch loss at step 16000: 0.068039\n",
      "Minibatch accuracy: 95.3%\n",
      "Minibatch loss at step 17000: 0.043687\n",
      "Minibatch accuracy: 98.4%\n",
      "Minibatch loss at step 18000: 0.078626\n",
      "Minibatch accuracy: 96.9%\n",
      "Minibatch loss at step 19000: 0.044353\n",
      "Minibatch accuracy: 98.4%\n",
      "Minibatch loss at step 20000: 0.036874\n",
      "Minibatch accuracy: 96.9%\n",
      "Minibatch loss at step 21000: 0.010350\n",
      "Minibatch accuracy: 98.4%\n",
      "Minibatch loss at step 22000: 0.002712\n",
      "Minibatch accuracy: 100.0%\n",
      "Minibatch loss at step 23000: 0.002795\n",
      "Minibatch accuracy: 98.4%\n",
      "Minibatch loss at step 24000: 0.037491\n",
      "Minibatch accuracy: 96.9%\n",
      "Minibatch loss at step 25000: 0.001621\n",
      "Minibatch accuracy: 100.0%\n",
      "Minibatch loss at step 26000: 0.040764\n",
      "Minibatch accuracy: 98.4%\n",
      "Minibatch loss at step 27000: 0.003704\n",
      "Minibatch accuracy: 100.0%\n",
      "Minibatch loss at step 28000: 0.007553\n",
      "Minibatch accuracy: 100.0%\n",
      "Minibatch loss at step 29000: 0.003003\n",
      "Minibatch accuracy: 100.0%\n",
      "Minibatch loss at step 30000: 0.000352\n",
      "Minibatch accuracy: 100.0%\n",
      "Test accuracy: 78.9%\n"
     ]
    }
   ],
   "source": [
    "num_steps = 30001\n",
    "\n",
    "with tf.Session(graph=graph) as session:\n",
    "  tf.initialize_all_variables().run()\n",
    "  print('Initialized')\n",
    "  for step in range(num_steps):\n",
    "    offset = (step * batch_size) % (train_labels.shape[0] - batch_size)\n",
    "    batch_data = train_dataset[offset:(offset + batch_size), :, :,:]\n",
    "    batch_labels = train_labels[offset:(offset + batch_size), :].astype(int)\n",
    "    digit_1_mask, digit_2_mask,digit_3_mask,digit_4_mask,digit_5_mask = explode(batch_labels)\n",
    "    feed_dict = {tf_train_dataset : batch_data, tf_train_labels : batch_labels, tf_digit_masks_1 : digit_1_mask ,\\\n",
    "                tf_digit_masks_2 : digit_2_mask, tf_digit_masks_3 : digit_3_mask, tf_digit_masks_4 : digit_4_mask, \\\n",
    "                tf_digit_masks_5 : digit_5_mask, keep_prob : dropout}\n",
    "    _, l, predictions = session.run([optimizer, loss, train_prediction], feed_dict=feed_dict)\n",
    "    if (step > 1 and step % 1000 == 0):\n",
    "      #print(\"batch_labels:\",batch_labels)\n",
    "      #print(\" digit_1_mask, digit_2_mask,digit_3_mask,digit_4_mask,digit_5_mask:\", digit_1_mask, digit_2_mask, digit_3_mask,digit_4_mask,digit_5_mask)\n",
    "      print('Minibatch loss at step %d: %f' % (step, l))\n",
    "      print('Minibatch accuracy: %.1f%%' % accuracy(predictions, batch_labels))\n",
    "        \n",
    "  print('Test accuracy: %.1f%%' % accuracy(test_prediction.eval(), test_labels))\n",
    "  "
   ]
  },
  {
   "cell_type": "markdown",
   "metadata": {
    "collapsed": true
   },
   "source": [
    "#### "
   ]
  }
 ],
 "metadata": {
  "kernelspec": {
   "display_name": "Python 2",
   "language": "python",
   "name": "python2"
  },
  "language_info": {
   "codemirror_mode": {
    "name": "ipython",
    "version": 2
   },
   "file_extension": ".py",
   "mimetype": "text/x-python",
   "name": "python",
   "nbconvert_exporter": "python",
   "pygments_lexer": "ipython2",
   "version": "2.7.12"
  }
 },
 "nbformat": 4,
 "nbformat_minor": 0
}
