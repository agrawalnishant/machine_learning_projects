{
 "cells": [
  {
   "cell_type": "markdown",
   "metadata": {},
   "source": [
    "# Build Model for Training, and Test accuracy"
   ]
  },
  {
   "cell_type": "code",
   "execution_count": null,
   "metadata": {
    "collapsed": true
   },
   "outputs": [],
   "source": [
    "# These are all the modules we'll be using later. Make sure you can import them\n",
    "# before proceeding further.\n",
    "from __future__ import print_function\n",
    "import matplotlib.pyplot as plt\n",
    "import numpy as np\n",
    "import os\n",
    "import sys\n",
    "import tarfile\n",
    "from IPython.display import display, Image\n",
    "from PIL import Image\n",
    "from scipy import ndimage\n",
    "from sklearn.linear_model import LogisticRegression\n",
    "from six.moves.urllib.request import urlretrieve\n",
    "import cPickle as pickle\n",
    "import tensorflow as tf\n",
    "\n",
    "# Config the matlotlib backend as plotting inline in IPython\n",
    "%matplotlib inline\n",
    "np.set_printoptions(threshold=np.inf)"
   ]
  },
  {
   "cell_type": "markdown",
   "metadata": {
    "collapsed": true
   },
   "source": [
    "### Deserialize"
   ]
  },
  {
   "cell_type": "code",
   "execution_count": null,
   "metadata": {
    "collapsed": false
   },
   "outputs": [],
   "source": [
    "train_pickle_file = 'SVHN_basic_train.pickle'\n",
    "\n",
    "with open(train_pickle_file, 'rb') as f:\n",
    "  save = pickle.load(f)\n",
    "  train_labels = save['train_image_labels']\n",
    "  train_dataset = save['train_dataset']\n",
    "  del save  # hint to help gc free up memory\n",
    "  print('Training set', train_labels.shape, train_dataset.shape)\n",
    "print(train_labels[0:2,:])"
   ]
  },
  {
   "cell_type": "code",
   "execution_count": null,
   "metadata": {
    "collapsed": false
   },
   "outputs": [],
   "source": [
    "test_pickle_file = 'SVHN_basic_test.pickle'\n",
    "\n",
    "with open(test_pickle_file, 'rb') as f:\n",
    "  save = pickle.load(f)\n",
    "  test_labels = save['test_image_labels']\n",
    "  test_dataset = save['test_dataset']\n",
    "  del save  # hint to help gc free up memory\n",
    "  print('Test set', test_labels.shape, test_dataset.shape)"
   ]
  },
  {
   "cell_type": "markdown",
   "metadata": {},
   "source": [
    "####TODO: Randomize and Shuffle\n",
    "####TODO: Use Boosting\n",
    "####TODO: Use Simulated Annealing / Decay\n",
    "\n",
    "###Reformat"
   ]
  },
  {
   "cell_type": "code",
   "execution_count": null,
   "metadata": {
    "collapsed": false
   },
   "outputs": [],
   "source": [
    "### Reformat dataset to 1 channel\n",
    "image_size=64\n",
    "num_channels=1 #greyscale\n",
    "\n",
    "def reformat(dataset):\n",
    "  dataset = dataset.reshape((-1, image_size, image_size,num_channels))\\\n",
    "        .astype(np.float32)\n",
    "  return dataset\n",
    "\n",
    "train_dataset = reformat(train_dataset)\n",
    "test_dataset = reformat(test_dataset)\n",
    "print(\"Reformatted shapes of datasets\\n\")\n",
    "print(\"train_dataset.shape:\",train_dataset.shape,\", train_labels.shape:\",train_labels.shape)\n",
    "print(\"test_dataset.shape:\", test_dataset.shape,\", test_labels.shape:\",test_labels.shape)"
   ]
  },
  {
   "cell_type": "markdown",
   "metadata": {},
   "source": [
    "### Define Accuracy"
   ]
  },
  {
   "cell_type": "code",
   "execution_count": null,
   "metadata": {
    "collapsed": false
   },
   "outputs": [],
   "source": [
    "def accuracy(predictions, labels):\n",
    "    predictions=predictions.astype(int)\n",
    "    print(\"predictions:\\n\",predictions.shape,predictions)\n",
    "    print(\"labels:\\n\", labels.shape, labels)\n",
    "    len_preds=np.argmax(predictions[0,:,:],axis=1)\n",
    "    digit_1_preds=np.argmax(predictions[1,:,:],axis=1)\n",
    "    digit_2_preds=np.argmax(predictions[2,:,:],axis=1)\n",
    "    digit_3_preds=np.argmax(predictions[3,:,:],axis=1)\n",
    "    digit_4_preds=np.argmax(predictions[4,:,:],axis=1)\n",
    "    digit_5_preds=np.argmax(predictions[5,:,:],axis=1)\n",
    "    \n",
    "    print(\"len preds:\", len_preds)\n",
    "    print(\" digit_1_preds\",digit_1_preds)\n",
    "    print(\" digit_2_preds\",digit_2_preds)\n",
    "    print(\" digit_3_preds\",digit_3_preds)\n",
    "    print(\" digit_4_preds\",digit_4_preds)\n",
    "    print(\" digit_5_preds\",digit_5_preds)\n",
    "    \n",
    "    len_accuracy=len_preds==labels[:,0]\n",
    "    print(\"len_accuracy:\",len_accuracy)\n",
    "    digit_1_accuracy=digit_1_preds==labels[:,1]\n",
    "    print(\"digit_1_accuracy:\",digit_1_accuracy)\n",
    "    digit_2_accuracy=digit_2_preds==labels[:,2]\n",
    "    digit_3_accuracy=digit_3_preds==labels[:,3]\n",
    "    digit_4_accuracy=digit_4_preds==labels[:,4]\n",
    "    digit_5_accuracy=digit_1_preds==labels[:,5]\n",
    "    \n",
    "    \n",
    "    complete_accuracy=np.concatenate((len_accuracy,digit_1_accuracy,digit_2_accuracy,\\\n",
    "                digit_3_accuracy,digit_4_accuracy,digit_5_accuracy))\n",
    "    print(\"complete_accuracy:\\n\",complete_accuracy.shape, complete_accuracy)\n",
    "    return (100.0 * np.sum(np.argmax(predictions, 1) == np.argmax(labels, 1))\n",
    "          / predictions.shape[0])"
   ]
  },
  {
   "cell_type": "markdown",
   "metadata": {
    "collapsed": true
   },
   "source": [
    "#### Create Model"
   ]
  },
  {
   "cell_type": "code",
   "execution_count": null,
   "metadata": {
    "collapsed": false
   },
   "outputs": [],
   "source": [
    "batch_size = 32\n",
    "patch_size = 5\n",
    "depth = 16\n",
    "num_hidden = 512\n",
    "num_labels = 11 # 10 for 0-9 and 1 for blank\n",
    "\n",
    "\n",
    "graph = tf.Graph()\n",
    "\n",
    "with graph.as_default():\n",
    "\n",
    "  # Input data.\n",
    "  tf_train_dataset = tf.placeholder(\n",
    "    tf.float32, shape=(batch_size, image_size, image_size, num_channels))\n",
    "  tf_train_labels = tf.placeholder(tf.int32, shape=(batch_size, 6))\n",
    "  tf_digit_masks_1=tf.placeholder(tf.float32, shape=(batch_size, num_labels))\n",
    "  tf_digit_masks_2=tf.placeholder(tf.float32, shape=(batch_size, num_labels))\n",
    "  tf_digit_masks_3=tf.placeholder(tf.float32, shape=(batch_size, num_labels))\n",
    "  tf_digit_masks_4=tf.placeholder(tf.float32, shape=(batch_size, num_labels))\n",
    "  tf_digit_masks_5=tf.placeholder(tf.float32, shape=(batch_size, num_labels))\n",
    "  tf_test_dataset = tf.constant(test_dataset)\n",
    "  \n",
    "  # Variables.\n",
    "  cnv_lyr1_weights = tf.Variable(tf.truncated_normal([patch_size, patch_size, num_channels, depth], stddev=0.01))\n",
    "  cnv_lyr1_biases = tf.Variable(tf.constant(0.01, shape=[depth]))\n",
    "  cnv_lyr2_weights = tf.Variable(tf.truncated_normal([patch_size, patch_size, depth, depth], stddev=0.1))\n",
    "  cnv_lyr2_biases = tf.Variable(tf.constant(0.01, shape=[depth]))\n",
    "  cnv_lyr3_weights = tf.Variable(tf.truncated_normal([patch_size, patch_size, depth, num_hidden], stddev=0.01))\n",
    "  cnv_lyr3_biases = tf.Variable(tf.constant(0.01, shape=[num_hidden]))\n",
    "  \n",
    "\n",
    "  length_weights = tf.Variable(tf.truncated_normal([num_hidden * depth * depth / 4, num_labels], stddev=0.1))\n",
    "  length_biases = tf.Variable(tf.constant(0.01, shape=[num_labels]))\n",
    "\n",
    "  digit1_weights = tf.Variable(tf.truncated_normal([num_hidden * depth * depth / 4, num_labels], stddev=0.1))\n",
    "  digit1_biases = tf.Variable(tf.constant(0.01, shape=[num_labels]))\n",
    "\n",
    "  digit2_weights = tf.Variable(tf.truncated_normal([num_hidden * depth * depth / 4, num_labels], stddev=0.1))\n",
    "  digit2_biases = tf.Variable(tf.constant(0.01, shape=[num_labels]))\n",
    "\n",
    "  digit3_weights = tf.Variable(tf.truncated_normal([num_hidden * depth * depth / 4, num_labels], stddev=0.1))\n",
    "  digit3_biases = tf.Variable(tf.constant(0.01, shape=[num_labels]))\n",
    "\n",
    "  digit4_weights = tf.Variable(tf.truncated_normal([num_hidden * depth * depth / 4, num_labels], stddev=0.1))\n",
    "  digit4_biases = tf.Variable(tf.constant(0.01, shape=[num_labels]))\n",
    "\n",
    "  digit5_weights = tf.Variable(tf.truncated_normal([num_hidden * depth * depth / 4, num_labels], stddev=0.1))\n",
    "  digit5_biases = tf.Variable(tf.constant(0.01, shape=[num_labels]))\n",
    "\n",
    "  def max_pool_2x2(x):\n",
    "     return tf.nn.max_pool(x, ksize=[1, 2, 2, 1],\n",
    "                        strides=[1, 2, 2, 1], padding='SAME')\n",
    "  \n",
    "  # Model.\n",
    "  def model(data, digit_masks_1,digit_masks_2,digit_masks_3,digit_masks_4,digit_masks_5, is_train):\n",
    "    conv = tf.nn.conv2d(data, cnv_lyr1_weights, [1, 1, 1, 1], padding='SAME')\n",
    "    hidden = tf.nn.relu(conv + cnv_lyr1_biases)\n",
    "    #h_pool1 = max_pool_2x2(hidden)\n",
    "    \n",
    "    conv = tf.nn.conv2d(hidden, cnv_lyr2_weights, [1, 1, 1, 1], padding='SAME')\n",
    "    hidden = tf.nn.relu(conv + cnv_lyr2_biases)\n",
    "    h_pool2 = max_pool_2x2(hidden)\n",
    "    \n",
    "    conv = tf.nn.conv2d(h_pool2, cnv_lyr3_weights, [1, 1, 1, 1], padding='SAME')\n",
    "    hidden = tf.nn.relu(conv + cnv_lyr3_biases)\n",
    "    h_pool3 = max_pool_2x2(hidden)\n",
    "    \n",
    "    shape = h_pool3.get_shape().as_list()\n",
    "    print(\"shape:\",shape)\n",
    "    reshape = tf.reshape(h_pool3, [shape[0], shape[1] * shape[2] * shape[3]])\n",
    "    \n",
    "    #digit_masks=(1-np.isnan(labels).astype(int))\n",
    "    #digit_masks=[(1-x) for x in labels if x != 'nan']\n",
    "    print(\"reshape:\", reshape)\n",
    "    print(\"tf_digit_masks:\", digit_masks_1,digit_masks_2,digit_masks_3,digit_masks_4,digit_masks_5)\n",
    "  \n",
    "    \n",
    "    logit_length = tf.matmul(reshape, length_weights) + length_biases\n",
    "    print(\"digit1_weights.shape: \",digit1_weights.get_shape())\n",
    "    print(\"digit1_biases.shape: \",digit1_biases.get_shape())\n",
    "\n",
    "    logit_1 = (tf.matmul(reshape, digit1_weights) + digit1_biases)*(digit_masks_1 if is_train==True else 1)\n",
    "    logit_2 = (tf.matmul(reshape, digit2_weights) + digit2_biases)*(digit_masks_2 if is_train==True else 1)\n",
    "    logit_3 = (tf.matmul(reshape, digit3_weights) + digit3_biases)*(digit_masks_3 if is_train==True else 1)\n",
    "    logit_4 = (tf.matmul(reshape, digit4_weights) + digit4_biases)*(digit_masks_4 if is_train==True else 1)\n",
    "    logit_5 = (tf.matmul(reshape, digit5_weights) + digit5_biases)*(digit_masks_5 if is_train==True else 1)\n",
    "    \n",
    "\n",
    "    return logit_length, logit_1,logit_2,logit_3,logit_4,logit_5\n",
    "  \n",
    "  # Training computation.\n",
    "  logit_len, logit_digit_1,logit_digit_2,logit_digit_3,logit_digit_4,logit_digit_5 \\\n",
    "    = model(tf_train_dataset, tf_digit_masks_1, tf_digit_masks_2, tf_digit_masks_3, tf_digit_masks_4, \\\n",
    "            tf_digit_masks_5, True)\n",
    "    \n",
    "  loss_len     = tf.reduce_mean(tf.nn.sparse_softmax_cross_entropy_with_logits(logit_len, tf_train_labels[:,0]))\n",
    "  loss_digit_1 = tf.reduce_mean(tf.nn.sparse_softmax_cross_entropy_with_logits(logit_digit_1, tf_train_labels[:,1]))\n",
    "  loss_digit_2 = tf.reduce_mean(tf.nn.sparse_softmax_cross_entropy_with_logits(logit_digit_2, tf_train_labels[:,2]))\n",
    "  loss_digit_3 = tf.reduce_mean(tf.nn.sparse_softmax_cross_entropy_with_logits(logit_digit_3, tf_train_labels[:,3]))\n",
    "  loss_digit_4 = tf.reduce_mean(tf.nn.sparse_softmax_cross_entropy_with_logits(logit_digit_4, tf_train_labels[:,4]))\n",
    "  loss_digit_5 = tf.reduce_mean(tf.nn.sparse_softmax_cross_entropy_with_logits(logit_digit_5, tf_train_labels[:,5]))\n",
    "    \n",
    "  loss = loss_len + loss_digit_1 + loss_digit_2 + loss_digit_3 + loss_digit_4 + loss_digit_5\n",
    "    \n",
    "    \n",
    "  # Optimizer.\n",
    "  global_step = tf.Variable(0, trainable=False)\n",
    "  starter_learning_rate = 0.07\n",
    "  learning_rate = tf.train.exponential_decay(starter_learning_rate, global_step,\n",
    "                                           1000, 0.99, staircase=True)\n",
    "  optimizer = tf.train.GradientDescentOptimizer(learning_rate).minimize(loss,global_step=global_step)\n",
    " \n",
    "  # Predictions for the training, validation, and test data.\n",
    "  train_prediction = tf.pack([ tf.nn.softmax(logit_len),\n",
    "                               tf.nn.softmax(logit_digit_1),\n",
    "                               tf.nn.softmax(logit_digit_2),\n",
    "                               tf.nn.softmax(logit_digit_3),\n",
    "                               tf.nn.softmax(logit_digit_4),\n",
    "                               tf.nn.softmax(logit_digit_5)\n",
    "                             ])\n",
    "  test_prediction = tf.pack([\n",
    "                        tf.nn.softmax(model(tf_test_dataset, None, None, None, None, None, False)[0]),\n",
    "                        tf.nn.softmax(model(tf_test_dataset, None, None, None, None, None, False)[1]),\n",
    "                        tf.nn.softmax(model(tf_test_dataset, None, None, None, None, None, False)[2]),\n",
    "                        tf.nn.softmax(model(tf_test_dataset, None, None, None, None, None, False)[3]),\n",
    "                        tf.nn.softmax(model(tf_test_dataset, None, None, None, None, None, False)[4]),\n",
    "                        tf.nn.softmax(model(tf_test_dataset, None, None, None, None, None, False)[5])])\n"
   ]
  },
  {
   "cell_type": "code",
   "execution_count": null,
   "metadata": {
    "collapsed": false
   },
   "outputs": [],
   "source": [
    "def explode(batch_labels):\n",
    "    target_row_count=batch_labels.shape[0]\n",
    "    target_col_count=11\n",
    "    total_arr_count=5\n",
    "    digit_mask_array = np.ndarray(shape=(total_arr_count, target_row_count, target_col_count),dtype=np.int32)\n",
    "    digit_mask_array[:,:,:]=int(0)\n",
    "    #print(\"batch_labels: \\n\",batch_labels)\n",
    "    print(digit_mask_array.shape)\n",
    "    for row in range(target_row_count):\n",
    "        for digit_col in range(total_arr_count):\n",
    "            digit_val=batch_labels[row,digit_col+1]\n",
    "            #print(\"batch_labels[\",row,\",\",digit_col,\"]=\",digit_val)\n",
    "            if digit_val == -1 or digit_val > 9: \n",
    "                digit_mask_array[digit_col, row, 0] = 1\n",
    "            else:\n",
    "                digit_mask_array[digit_col, row, digit_val.astype(int)+1] = 1\n",
    "    return digit_mask_array[0,:,:],digit_mask_array[1,:,:],digit_mask_array[2,:,:],digit_mask_array[3,:,:],digit_mask_array[4,:,:],\n",
    "    print(\"digit_mask_array:\\n\",digit_mask_array)\n",
    "#print(train_labels[0:5,:])        \n",
    "#explode(train_labels[0:5,:])"
   ]
  },
  {
   "cell_type": "code",
   "execution_count": null,
   "metadata": {
    "collapsed": false
   },
   "outputs": [],
   "source": [
    "num_steps = 10001\n",
    "\n",
    "with tf.Session(graph=graph) as session:\n",
    "  tf.initialize_all_variables().run()\n",
    "  print('Initialized')\n",
    "  for step in range(num_steps):\n",
    "    offset = (step * batch_size) % (train_labels.shape[0] - batch_size)\n",
    "    batch_data = train_dataset[offset:(offset + batch_size), :, :, :]\n",
    "    batch_labels = train_labels[offset:(offset + batch_size), :].astype(int)\n",
    "    digit_1_mask, digit_2_mask,digit_3_mask,digit_4_mask,digit_5_mask = explode(batch_labels)\n",
    "    #batch_masks=np.array([item == item for item in batch_labels]).astype(int)\n",
    "    feed_dict = {tf_train_dataset : batch_data, tf_train_labels : batch_labels, tf_digit_masks_1 : digit_1_mask ,\\\n",
    "                tf_digit_masks_2 : digit_2_mask, tf_digit_masks_3 : digit_3_mask, tf_digit_masks_4 : digit_4_mask, \\\n",
    "                tf_digit_masks_5 : digit_5_mask}\n",
    "    _, l, predictions = session.run(\n",
    "      [optimizer, loss, train_prediction], feed_dict=feed_dict)\n",
    "    if (step % 100 == 0):\n",
    "      print('Minibatch loss at step %d: %f' % (step, l))\n",
    "      \n",
    "      print('Minibatch accuracy: %.1f%%' % accuracy(predictions, batch_labels))\n",
    "      print('Test accuracy: %.1f%%' % accuracy(test_prediction.eval(), test_labels))"
   ]
  },
  {
   "cell_type": "code",
   "execution_count": null,
   "metadata": {
    "collapsed": true
   },
   "outputs": [],
   "source": []
  }
 ],
 "metadata": {
  "kernelspec": {
   "display_name": "Python 2",
   "language": "python",
   "name": "python2"
  },
  "language_info": {
   "codemirror_mode": {
    "name": "ipython",
    "version": 2
   },
   "file_extension": ".py",
   "mimetype": "text/x-python",
   "name": "python",
   "nbconvert_exporter": "python",
   "pygments_lexer": "ipython2",
   "version": "2.7.12"
  }
 },
 "nbformat": 4,
 "nbformat_minor": 0
}
