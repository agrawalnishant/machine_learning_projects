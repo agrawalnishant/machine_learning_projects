{
 "cells": [
  {
   "cell_type": "markdown",
   "metadata": {},
   "source": [
    "# Build Model for Training, and Test accuracy"
   ]
  },
  {
   "cell_type": "code",
   "execution_count": 29,
   "metadata": {
    "collapsed": true
   },
   "outputs": [],
   "source": [
    "# These are all the modules we'll be using later. Make sure you can import them\n",
    "# before proceeding further.\n",
    "from __future__ import print_function\n",
    "import matplotlib.pyplot as plt\n",
    "import numpy as np\n",
    "import os\n",
    "import sys\n",
    "import tarfile\n",
    "from IPython.display import display, Image\n",
    "from PIL import Image\n",
    "from scipy import ndimage\n",
    "from sklearn.linear_model import LogisticRegression\n",
    "from six.moves.urllib.request import urlretrieve\n",
    "import cPickle as pickle\n",
    "import tensorflow as tf\n",
    "\n",
    "# Config the matlotlib backend as plotting inline in IPython\n",
    "%matplotlib inline"
   ]
  },
  {
   "cell_type": "markdown",
   "metadata": {
    "collapsed": true
   },
   "source": [
    "### Deserialize"
   ]
  },
  {
   "cell_type": "code",
   "execution_count": 30,
   "metadata": {
    "collapsed": false
   },
   "outputs": [
    {
     "name": "stdout",
     "output_type": "stream",
     "text": [
      "Training set (33402, 6) (33402, 64, 64)\n",
      "[[  2.  nan  nan  nan   1.   9.]\n",
      " [  2.  nan  nan  nan   2.   3.]]\n"
     ]
    }
   ],
   "source": [
    "train_pickle_file = 'SVHN_basic_train.pickle'\n",
    "\n",
    "with open(train_pickle_file, 'rb') as f:\n",
    "  save = pickle.load(f)\n",
    "  train_labels = save['train_image_labels']\n",
    "  train_dataset = save['train_dataset']\n",
    "  del save  # hint to help gc free up memory\n",
    "  print('Training set', train_labels.shape, train_dataset.shape)\n",
    "print(train_labels[0:2,:])"
   ]
  },
  {
   "cell_type": "code",
   "execution_count": 31,
   "metadata": {
    "collapsed": false
   },
   "outputs": [
    {
     "name": "stdout",
     "output_type": "stream",
     "text": [
      "Test set (13068, 6) (13068, 64, 64)\n"
     ]
    }
   ],
   "source": [
    "test_pickle_file = 'SVHN_basic_test.pickle'\n",
    "\n",
    "with open(test_pickle_file, 'rb') as f:\n",
    "  save = pickle.load(f)\n",
    "  test_labels = save['test_image_labels']\n",
    "  test_dataset = save['test_dataset']\n",
    "  del save  # hint to help gc free up memory\n",
    "  print('Test set', test_labels.shape, test_dataset.shape)"
   ]
  },
  {
   "cell_type": "markdown",
   "metadata": {},
   "source": [
    "####TODO: Randomize and Shuffle\n",
    "####TODO: Use Boosting\n",
    "####TODO: Use Simulated Annealing / Decay\n",
    "\n",
    "###Reformat"
   ]
  },
  {
   "cell_type": "code",
   "execution_count": 32,
   "metadata": {
    "collapsed": false
   },
   "outputs": [
    {
     "name": "stdout",
     "output_type": "stream",
     "text": [
      "Reformatted shapes of datasets\n",
      "\n",
      "train_dataset.shape: (33402, 64, 64, 1) , train_labels.shape: (33402, 6)\n",
      "test_dataset.shape: (13068, 64, 64, 1) , test_labels.shape: (13068, 6)\n"
     ]
    }
   ],
   "source": [
    "### Reformat dataset to 1 channel\n",
    "image_size=64\n",
    "num_channels=1 #greyscale\n",
    "\n",
    "def reformat(dataset):\n",
    "  dataset = dataset.reshape((-1, image_size, image_size,num_channels))\\\n",
    "        .astype(np.float32)\n",
    "  return dataset\n",
    "\n",
    "train_dataset = reformat(train_dataset)\n",
    "test_dataset = reformat(test_dataset)\n",
    "print(\"Reformatted shapes of datasets\\n\")\n",
    "print(\"train_dataset.shape:\",train_dataset.shape,\", train_labels.shape:\",train_labels.shape)\n",
    "print(\"test_dataset.shape:\", test_dataset.shape,\", test_labels.shape:\",test_labels.shape)"
   ]
  },
  {
   "cell_type": "markdown",
   "metadata": {},
   "source": [
    "### Define Accuracy"
   ]
  },
  {
   "cell_type": "code",
   "execution_count": null,
   "metadata": {
    "collapsed": true
   },
   "outputs": [],
   "source": [
    "def accuracy(len_preds, len_labels, digit_preds, digit_labels):\n",
    "    len_accuracy=np.reshape((len_preds==len_labels)[-1,1])\n",
    "    digit_accuracy=\n",
    "    return (100.0 * np.sum(np.argmax(predictions, 1) == np.argmax(labels, 1))\n",
    "          / predictions.shape[0])"
   ]
  },
  {
   "cell_type": "markdown",
   "metadata": {
    "collapsed": true
   },
   "source": [
    "#### Create Model"
   ]
  },
  {
   "cell_type": "code",
   "execution_count": 42,
   "metadata": {
    "collapsed": false
   },
   "outputs": [
    {
     "name": "stdout",
     "output_type": "stream",
     "text": [
      "shape: [32, 16, 16, 1024]\n"
     ]
    },
    {
     "ename": "NameError",
     "evalue": "global name 'layer3_weights' is not defined",
     "output_type": "error",
     "traceback": [
      "\u001b[0;31m---------------------------------------------------------------------------\u001b[0m",
      "\u001b[0;31mNameError\u001b[0m                                 Traceback (most recent call last)",
      "\u001b[0;32m<ipython-input-42-8dd0655886b8>\u001b[0m in \u001b[0;36m<module>\u001b[0;34m()\u001b[0m\n\u001b[1;32m     68\u001b[0m \u001b[0;34m\u001b[0m\u001b[0m\n\u001b[1;32m     69\u001b[0m   \u001b[0;31m# Training computation.\u001b[0m\u001b[0;34m\u001b[0m\u001b[0;34m\u001b[0m\u001b[0m\n\u001b[0;32m---> 70\u001b[0;31m   \u001b[0mlogits\u001b[0m \u001b[0;34m=\u001b[0m \u001b[0mmodel\u001b[0m\u001b[0;34m(\u001b[0m\u001b[0mtf_train_dataset\u001b[0m\u001b[0;34m)\u001b[0m\u001b[0;34m\u001b[0m\u001b[0m\n\u001b[0m\u001b[1;32m     71\u001b[0m   loss = tf.reduce_mean(\n\u001b[1;32m     72\u001b[0m     tf.nn.softmax_cross_entropy_with_logits(logits, tf_train_labels))\n",
      "\u001b[0;32m<ipython-input-42-8dd0655886b8>\u001b[0m in \u001b[0;36mmodel\u001b[0;34m(data)\u001b[0m\n\u001b[1;32m     64\u001b[0m     \u001b[0;32mprint\u001b[0m\u001b[0;34m(\u001b[0m\u001b[0;34m\"shape:\"\u001b[0m\u001b[0;34m,\u001b[0m\u001b[0mshape\u001b[0m\u001b[0;34m)\u001b[0m\u001b[0;34m\u001b[0m\u001b[0m\n\u001b[1;32m     65\u001b[0m     \u001b[0mreshape\u001b[0m \u001b[0;34m=\u001b[0m \u001b[0mtf\u001b[0m\u001b[0;34m.\u001b[0m\u001b[0mreshape\u001b[0m\u001b[0;34m(\u001b[0m\u001b[0mh_pool3\u001b[0m\u001b[0;34m,\u001b[0m \u001b[0;34m[\u001b[0m\u001b[0mshape\u001b[0m\u001b[0;34m[\u001b[0m\u001b[0;36m0\u001b[0m\u001b[0;34m]\u001b[0m\u001b[0;34m,\u001b[0m \u001b[0mshape\u001b[0m\u001b[0;34m[\u001b[0m\u001b[0;36m1\u001b[0m\u001b[0;34m]\u001b[0m \u001b[0;34m*\u001b[0m \u001b[0mshape\u001b[0m\u001b[0;34m[\u001b[0m\u001b[0;36m2\u001b[0m\u001b[0;34m]\u001b[0m \u001b[0;34m*\u001b[0m \u001b[0mshape\u001b[0m\u001b[0;34m[\u001b[0m\u001b[0;36m3\u001b[0m\u001b[0;34m]\u001b[0m\u001b[0;34m]\u001b[0m\u001b[0;34m)\u001b[0m\u001b[0;34m\u001b[0m\u001b[0m\n\u001b[0;32m---> 66\u001b[0;31m     \u001b[0mhidden\u001b[0m \u001b[0;34m=\u001b[0m \u001b[0mtf\u001b[0m\u001b[0;34m.\u001b[0m\u001b[0mnn\u001b[0m\u001b[0;34m.\u001b[0m\u001b[0mrelu\u001b[0m\u001b[0;34m(\u001b[0m\u001b[0mtf\u001b[0m\u001b[0;34m.\u001b[0m\u001b[0mmatmul\u001b[0m\u001b[0;34m(\u001b[0m\u001b[0mreshape\u001b[0m\u001b[0;34m,\u001b[0m \u001b[0mlayer3_weights\u001b[0m\u001b[0;34m)\u001b[0m \u001b[0;34m+\u001b[0m \u001b[0mlayer3_biases\u001b[0m\u001b[0;34m)\u001b[0m\u001b[0;34m\u001b[0m\u001b[0m\n\u001b[0m\u001b[1;32m     67\u001b[0m     \u001b[0;32mreturn\u001b[0m \u001b[0mtf\u001b[0m\u001b[0;34m.\u001b[0m\u001b[0mmatmul\u001b[0m\u001b[0;34m(\u001b[0m\u001b[0mhidden\u001b[0m\u001b[0;34m,\u001b[0m \u001b[0mlayer4_weights\u001b[0m\u001b[0;34m)\u001b[0m \u001b[0;34m+\u001b[0m \u001b[0mlayer4_biases\u001b[0m\u001b[0;34m\u001b[0m\u001b[0m\n\u001b[1;32m     68\u001b[0m \u001b[0;34m\u001b[0m\u001b[0m\n",
      "\u001b[0;31mNameError\u001b[0m: global name 'layer3_weights' is not defined"
     ]
    }
   ],
   "source": [
    "batch_size = 32\n",
    "patch_size = 5\n",
    "depth = 32\n",
    "num_hidden = 1024\n",
    "num_labels = 11\n",
    "\n",
    "\n",
    "graph = tf.Graph()\n",
    "\n",
    "with graph.as_default():\n",
    "\n",
    "  # Input data.\n",
    "  tf_train_dataset = tf.placeholder(\n",
    "    tf.float32, shape=(batch_size, image_size, image_size, num_channels))\n",
    "  tf_train_labels = tf.placeholder(tf.float32, shape=(batch_size, 6))\n",
    "  tf_test_dataset = tf.constant(test_dataset)\n",
    "  \n",
    "  # Variables.\n",
    "  cnv_lyr1_weights = tf.Variable(tf.truncated_normal([patch_size, patch_size, num_channels, depth], stddev=0.01))\n",
    "  cnv_lyr1_biases = tf.Variable(tf.constant(0.01, shape=[depth]))\n",
    "  cnv_lyr2_weights = tf.Variable(tf.truncated_normal([patch_size, patch_size, depth, depth], stddev=0.1))\n",
    "  cnv_lyr2_biases = tf.Variable(tf.constant(0.01, shape=[depth]))\n",
    "  cnv_lyr3_weights = tf.Variable(tf.truncated_normal([patch_size, patch_size, depth, num_hidden], stddev=0.01))\n",
    "  cnv_lyr3_biases = tf.Variable(tf.constant(0.01, shape=[num_hidden]))\n",
    "  \n",
    "\n",
    "  length_weights = tf.Variable(tf.truncated_normal([num_hidden, num_labels], stddev=0.1))\n",
    "  length_biases = tf.Variable(tf.constant(0.01, shape=[num_labels]))\n",
    "\n",
    "  digit1_weights = tf.Variable(tf.truncated_normal([num_hidden, num_labels], stddev=0.1))\n",
    "  digit1_biases = tf.Variable(tf.constant(0.01, shape=[num_labels]))\n",
    "\n",
    "  digit2_weights = tf.Variable(tf.truncated_normal([num_hidden, num_labels], stddev=0.1))\n",
    "  digit2_biases = tf.Variable(tf.constant(0.01, shape=[num_labels]))\n",
    "\n",
    "  digit3_weights = tf.Variable(tf.truncated_normal([num_hidden, num_labels], stddev=0.1))\n",
    "  digit3_biases = tf.Variable(tf.constant(0.01, shape=[num_labels]))\n",
    "\n",
    "  digit4_weights = tf.Variable(tf.truncated_normal([num_hidden, num_labels], stddev=0.1))\n",
    "  digit4_biases = tf.Variable(tf.constant(0.01, shape=[num_labels]))\n",
    "\n",
    "  digit5_weights = tf.Variable(tf.truncated_normal([num_hidden, num_labels], stddev=0.1))\n",
    "  digit5_biases = tf.Variable(tf.constant(0.01, shape=[num_labels]))\n",
    "\n",
    "  def max_pool_2x2(x):\n",
    "     return tf.nn.max_pool(x, ksize=[1, 2, 2, 1],\n",
    "                        strides=[1, 2, 2, 1], padding='SAME')\n",
    "  \n",
    "  # Model.\n",
    "  def model(data,labels, is_train):\n",
    "    conv = tf.nn.conv2d(data, cnv_lyr1_weights, [1, 1, 1, 1], padding='SAME')\n",
    "    hidden = tf.nn.relu(conv + cnv_lyr1_biases)\n",
    "    #h_pool1 = max_pool_2x2(hidden)\n",
    "    \n",
    "    conv = tf.nn.conv2d(hidden, cnv_lyr2_weights, [1, 1, 1, 1], padding='SAME')\n",
    "    hidden = tf.nn.relu(conv + cnv_lyr2_biases)\n",
    "    h_pool2 = max_pool_2x2(hidden)\n",
    "    \n",
    "    conv = tf.nn.conv2d(h_pool2, cnv_lyr3_weights, [1, 1, 1, 1], padding='SAME')\n",
    "    hidden = tf.nn.relu(conv + cnv_lyr3_biases)\n",
    "    h_pool3 = max_pool_2x2(hidden)\n",
    "    \n",
    "    shape = h_pool3.get_shape().as_list()\n",
    "    print(\"shape:\",shape)\n",
    "    reshape = tf.reshape(h_pool3, [shape[0], shape[1] * shape[2] * shape[3]])\n",
    "    \n",
    "    digit_masks=(1-np.isnan(labels).astype(int))\n",
    "    print(\"nan_masks:\", nan_masks)\n",
    "    logit_len = tf.matmul(reshape, length_weights) + length_biases\n",
    "    logit_1 = (tf.matmul(reshape, digit1_weights) + digit1_biases)*(is_tdigit_masks[:,1] if is_train==True else 1)\n",
    "    logit_2 = (tf.matmul(reshape, digit2_weights) + digit2_biases)*(is_tdigit_masks[:,2] if is_train==True else 1)\n",
    "    logit_3 = (tf.matmul(reshape, digit3_weights) + digit3_biases)*(is_tdigit_masks[:,3] if is_train==True else 1)\n",
    "    logit_4 = (tf.matmul(reshape, digit4_weights) + digit4_biases)*(is_tdigit_masks[:,4] if is_train==True else 1)\n",
    "    logit_5 = (tf.matmul(reshape, digit5_weights) + digit5_biases)*(is_tdigit_masks[:,5] if is_train==True else 1)\n",
    "    \n",
    "\n",
    "    return logit_len, logit_1,logit_2,logit_3,logit_4,logit_5\n",
    "  \n",
    "  # Training computation.\n",
    "  logits = model(tf_train_dataset, tf_train_labels, True)\n",
    "  loss = tf.reduce_mean(tf.nn.softmax_cross_entropy_with_logits(logit_len, tf_train_labels[:,0]))\n",
    "    \n",
    "  # Optimizer.\n",
    "  global_step = tf.Variable(0, trainable=False)\n",
    "  starter_learning_rate = 0.07\n",
    "  learning_rate = tf.train.exponential_decay(starter_learning_rate, global_step,\n",
    "                                           1000, 0.99, staircase=True)\n",
    "  optimizer = tf.train.GradientDescentOptimizer(learning_rate).minimize(loss,global_step=global_step)\n",
    "    \n",
    "  #optimizer = tf.train.GradientDescentOptimizer(0.08).minimize(loss)\n",
    "  \n",
    "  # Predictions for the training, validation, and test data.\n",
    "  train_prediction = tf.nn.softmax(logits)\n",
    "  valid_prediction = tf.nn.softmax(model(tf_valid_dataset))\n",
    "  test_prediction = tf.nn.softmax(model(tf_test_dataset))\n"
   ]
  },
  {
   "cell_type": "code",
   "execution_count": null,
   "metadata": {
    "collapsed": true
   },
   "outputs": [],
   "source": []
  }
 ],
 "metadata": {
  "kernelspec": {
   "display_name": "Python 2",
   "language": "python",
   "name": "python2"
  },
  "language_info": {
   "codemirror_mode": {
    "name": "ipython",
    "version": 2
   },
   "file_extension": ".py",
   "mimetype": "text/x-python",
   "name": "python",
   "nbconvert_exporter": "python",
   "pygments_lexer": "ipython2",
   "version": "2.7.12"
  }
 },
 "nbformat": 4,
 "nbformat_minor": 0
}
