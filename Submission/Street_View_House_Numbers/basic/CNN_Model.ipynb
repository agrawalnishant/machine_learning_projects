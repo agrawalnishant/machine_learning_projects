{
 "cells": [
  {
   "cell_type": "markdown",
   "metadata": {},
   "source": [
    "# Build Model for Training, and Test accuracy"
   ]
  },
  {
   "cell_type": "code",
   "execution_count": 10,
   "metadata": {
    "collapsed": false
   },
   "outputs": [],
   "source": [
    "# These are all the modules we'll be using later. Make sure you can import them\n",
    "# before proceeding further.\n",
    "from __future__ import print_function\n",
    "import matplotlib.pyplot as plt\n",
    "import numpy as np\n",
    "import os\n",
    "import sys\n",
    "import tarfile\n",
    "from IPython.display import display, Image\n",
    "from PIL import Image\n",
    "from scipy import ndimage\n",
    "from sklearn.linear_model import LogisticRegression\n",
    "from six.moves.urllib.request import urlretrieve\n",
    "import cPickle as pickle\n",
    "import tensorflow as tf\n",
    "\n",
    "# Config the matlotlib backend as plotting inline in IPython\n",
    "%matplotlib inline\n",
    "np.set_printoptions(threshold=np.inf)"
   ]
  },
  {
   "cell_type": "markdown",
   "metadata": {
    "collapsed": true
   },
   "source": [
    "### Deserialize"
   ]
  },
  {
   "cell_type": "code",
   "execution_count": 11,
   "metadata": {
    "collapsed": false
   },
   "outputs": [
    {
     "name": "stdout",
     "output_type": "stream",
     "text": [
      "Training set (33402, 6)\n",
      "[[ 2.  0.  0.  0.  1.  9.]\n",
      " [ 2.  0.  0.  0.  2.  3.]]\n"
     ]
    }
   ],
   "source": [
    "train_pickle_file = 'SVHN_basic_train_labels.pickle'\n",
    "\n",
    "with open(train_pickle_file, 'rb') as f:\n",
    "  save = pickle.load(f)\n",
    "  train_labels = save['train_image_labels']\n",
    "  del save  # hint to help gc free up memory\n",
    "  print('Training set', train_labels.shape)\n",
    "print(train_labels[0:2,:])"
   ]
  },
  {
   "cell_type": "code",
   "execution_count": 12,
   "metadata": {
    "collapsed": false
   },
   "outputs": [
    {
     "name": "stdout",
     "output_type": "stream",
     "text": [
      "Training set (33402, 32, 32)\n",
      "[[ 2.  0.  0.  0.  1.  9.]\n",
      " [ 2.  0.  0.  0.  2.  3.]]\n"
     ]
    }
   ],
   "source": [
    "train_pickle_file = 'SVHN_basic_train_data_basic.pickle'\n",
    "\n",
    "with open(train_pickle_file, 'rb') as f:\n",
    "  save = pickle.load(f)\n",
    "  train_dataset = save['train_dataset']\n",
    "  del save  # hint to help gc free up memory\n",
    "  print('Training set',train_dataset.shape)\n",
    "print(train_labels[0:2,:])"
   ]
  },
  {
   "cell_type": "code",
   "execution_count": 13,
   "metadata": {
    "collapsed": false
   },
   "outputs": [
    {
     "name": "stdout",
     "output_type": "stream",
     "text": [
      "Test set (1024, 6)\n",
      "Test set (1024, 32, 32)\n"
     ]
    }
   ],
   "source": [
    "test_pickle_file = 'SVHN_basic_test_labels.pickle'\n",
    "\n",
    "with open(test_pickle_file, 'rb') as f:\n",
    "  save = pickle.load(f)\n",
    "  test_labels = save['test_image_labels'][0:1024]\n",
    "  del save  # hint to help gc free up memory\n",
    "  print('Test set', test_labels.shape)\n",
    "\n",
    "test_pickle_file = 'SVHN_basic_test_data_basic.pickle'\n",
    "\n",
    "with open(test_pickle_file, 'rb') as f:\n",
    "  save = pickle.load(f)\n",
    "  test_dataset = save['test_dataset'][0:1024]\n",
    "  del save  # hint to help gc free up memory\n",
    "  print('Test set', test_dataset.shape)"
   ]
  },
  {
   "cell_type": "markdown",
   "metadata": {},
   "source": [
    "####TODO: Randomize and Shuffle\n",
    "####TODO: Use Boosting\n",
    "####TODO: Use Simulated Annealing / Decay\n",
    "\n",
    "###Reformat"
   ]
  },
  {
   "cell_type": "code",
   "execution_count": 14,
   "metadata": {
    "collapsed": false
   },
   "outputs": [
    {
     "name": "stdout",
     "output_type": "stream",
     "text": [
      "Reformatted shapes of datasets\n",
      "\n",
      "train_dataset.shape: (33402, 32, 32, 1) , train_labels.shape: (33402, 6)\n",
      "test_dataset.shape: (1024, 32, 32, 1) , test_labels.shape: (1024, 6)\n"
     ]
    }
   ],
   "source": [
    "### Reformat dataset to 1 channel\n",
    "image_size=32\n",
    "num_channels=1 #greyscale\n",
    "\n",
    "def reformat(dataset):\n",
    "  dataset = dataset.reshape((-1, image_size, image_size, num_channels))\\\n",
    "        .astype(np.float32)\n",
    "  return dataset\n",
    "\n",
    "train_dataset = reformat(train_dataset)\n",
    "test_dataset = reformat(test_dataset)\n",
    "print(\"Reformatted shapes of datasets\\n\")\n",
    "print(\"train_dataset.shape:\",train_dataset.shape,\", train_labels.shape:\",train_labels.shape)\n",
    "print(\"test_dataset.shape:\", test_dataset.shape,\", test_labels.shape:\",test_labels.shape)"
   ]
  },
  {
   "cell_type": "markdown",
   "metadata": {},
   "source": [
    "### Define Accuracy"
   ]
  },
  {
   "cell_type": "code",
   "execution_count": 15,
   "metadata": {
    "collapsed": false
   },
   "outputs": [],
   "source": [
    "def accuracy(predictions, labels):\n",
    "    #print(\"predictions:\", predictions)\n",
    "    #print(\"labels:\", labels)\n",
    "    label_count=labels.shape[0]\n",
    "    len_preds=np.argmax(predictions[0,:,:],axis=1) - 4\n",
    "    digit_1_preds=np.argmax(predictions[1,:,:],axis=1)\n",
    "    digit_2_preds=np.argmax(predictions[2,:,:],axis=1)\n",
    "    digit_3_preds=np.argmax(predictions[3,:,:],axis=1)\n",
    "    digit_4_preds=np.argmax(predictions[4,:,:],axis=1)\n",
    "    digit_5_preds=np.argmax(predictions[5,:,:],axis=1)\n",
    "    #print(\"digit_1_preds:\", digit_1_preds)\n",
    "    #print(\"digit_2_preds:\", digit_2_preds)\n",
    "    #print(\"digit_3_preds:\", digit_3_preds)\n",
    "    #print(\"digit_4_preds:\", digit_4_preds)\n",
    "    #print(\"digit_5_preds:\", digit_5_preds)\n",
    "\n",
    "    \n",
    "    len_accuracy=len_preds==labels[:,0]\n",
    "    digit_1_accuracy=digit_1_preds==labels[:,1]\n",
    "    digit_2_accuracy=digit_2_preds==labels[:,2]\n",
    "    digit_3_accuracy=digit_3_preds==labels[:,3]\n",
    "    digit_4_accuracy=digit_4_preds==labels[:,4]\n",
    "    digit_5_accuracy=digit_5_preds==labels[:,5]\n",
    "    \n",
    "    \n",
    "    complete_accuracy=np.concatenate((len_accuracy.reshape(1,label_count),digit_1_accuracy.reshape(1,label_count),\\\n",
    "                                      digit_2_accuracy.reshape(1,label_count),digit_3_accuracy.reshape(1,label_count), \\\n",
    "                                      digit_4_accuracy.reshape(1,label_count),digit_5_accuracy.reshape(1,label_count)), axis=0).T\n",
    "    #print(\"complete_accuracy:\\n\",complete_accuracy.shape, complete_accuracy)\n",
    "    return 100.0 * (np.sum([np.all(row) for row in complete_accuracy])) / len(labels)"
   ]
  },
  {
   "cell_type": "markdown",
   "metadata": {
    "collapsed": true
   },
   "source": [
    "#### Create Model"
   ]
  },
  {
   "cell_type": "code",
   "execution_count": 16,
   "metadata": {
    "collapsed": false
   },
   "outputs": [
    {
     "name": "stdout",
     "output_type": "stream",
     "text": [
      "data.shape: (64, 32, 32, 1)\n",
      "conv_result_reshape: (64, 65536)\n",
      "data.shape: (1024, 32, 32, 1)\n",
      "conv_result_reshape: (1024, 65536)\n"
     ]
    }
   ],
   "source": [
    "batch_size = 64\n",
    "patch_size = 5\n",
    "depth1 = 32\n",
    "depth2 = 64\n",
    "depth3 = 1024\n",
    "num_hidden1 = 1024\n",
    "num_hidden2 = 256\n",
    "num_labels = 10 # 10 for 0-9\n",
    "len_labels=6 #6 for lenghts0-5, not yet for more than 5\n",
    "dropout = 0.50\n",
    "\n",
    "\n",
    "\n",
    "graph = tf.Graph()\n",
    "\n",
    "with graph.as_default():\n",
    "  keep_prob = tf.placeholder(tf.float32)\n",
    "\n",
    "  # Input data.\n",
    "  tf_train_dataset = tf.placeholder(tf.float32, shape=(batch_size, image_size, image_size, num_channels))\n",
    "  tf_train_labels = tf.placeholder(tf.int32, shape=(batch_size, len_labels))\n",
    "\n",
    "  tf_digit_masks_1= tf.placeholder(tf.float32, shape=(batch_size, num_labels))\n",
    "  tf_digit_masks_2= tf.placeholder(tf.float32, shape=(batch_size, num_labels))\n",
    "  tf_digit_masks_3= tf.placeholder(tf.float32, shape=(batch_size, num_labels))\n",
    "  tf_digit_masks_4= tf.placeholder(tf.float32, shape=(batch_size, num_labels))\n",
    "  tf_digit_masks_5= tf.placeholder(tf.float32, shape=(batch_size, num_labels))\n",
    "  \n",
    "  tf_test_dataset = tf.constant(test_dataset)\n",
    "\n",
    "  \n",
    "  # Variables.\n",
    "  cnv_lyr1_weights = tf.get_variable(\"W1\", shape=[patch_size, patch_size, num_channels, depth1], initializer=tf.contrib.layers.xavier_initializer_conv2d())\n",
    "  cnv_lyr1_biases = tf.Variable(tf.constant(0.01, shape=[depth1]))\n",
    "\n",
    "  cnv_lyr2_weights = tf.get_variable(\"W2\", shape=[patch_size, patch_size, depth1, depth2], initializer=tf.contrib.layers.xavier_initializer_conv2d())\n",
    "  cnv_lyr2_biases = tf.Variable(tf.constant(0.01, shape=[depth2]))\n",
    "\n",
    "  cnv_lyr3_weights = tf.get_variable(\"W3\", shape=[patch_size, patch_size, depth2, depth3], initializer=tf.contrib.layers.xavier_initializer_conv2d())\n",
    "  cnv_lyr3_biases = tf.Variable(tf.constant(0.01, shape=[depth3]))\n",
    "    \n",
    "  fc_weights_1 = tf.get_variable(\"WFC1\", shape=[depth2 * depth2 * depth3 // 64, num_hidden1], initializer=tf.contrib.layers.xavier_initializer())\n",
    "  fc_biases_1 = tf.Variable(tf.constant(0.1, shape=[num_hidden1]))\n",
    "    \n",
    "  fc_weights_2 = tf.get_variable(\"WFC2\", shape=[num_hidden1  , num_hidden2], initializer=tf.contrib.layers.xavier_initializer())\n",
    "  fc_biases_2 = tf.Variable(tf.constant(0.1, shape=[num_hidden2]))\n",
    "\n",
    "  length_weights = tf.get_variable(\"WL\", shape=[num_hidden2 , len_labels], initializer=tf.contrib.layers.xavier_initializer())\n",
    "  length_biases = tf.Variable(tf.constant(0.1, shape=[len_labels]))\n",
    "\n",
    "  digit1_weights = tf.get_variable(\"WD1\", shape=[num_hidden2 , num_labels], initializer=tf.contrib.layers.xavier_initializer())\n",
    "  digit1_biases = tf.Variable(tf.constant(0.1, shape=[num_labels]))\n",
    "\n",
    "  digit2_weights = tf.get_variable(\"WD2\", shape=[num_hidden2 , num_labels],initializer=tf.contrib.layers.xavier_initializer())\n",
    "  digit2_biases = tf.Variable(tf.constant(0.1, shape=[num_labels]))\n",
    "\n",
    "  digit3_weights = tf.get_variable(\"WD3\", shape=[num_hidden2 , num_labels], initializer=tf.contrib.layers.xavier_initializer())\n",
    "  digit3_biases = tf.Variable(tf.constant(0.1, shape=[num_labels]))\n",
    "\n",
    "  digit4_weights = tf.get_variable(\"WD4\", shape=[num_hidden2, num_labels], initializer=tf.contrib.layers.xavier_initializer())\n",
    "  digit4_biases = tf.Variable(tf.constant(0.1, shape=[num_labels]))\n",
    "\n",
    "  digit5_weights = tf.get_variable(\"WD5\", shape=[num_hidden2 , num_labels], initializer=tf.contrib.layers.xavier_initializer())\n",
    "  digit5_biases = tf.Variable(tf.constant(0.1, shape=[num_labels]))\n",
    "\n",
    "  def max_pool_2x2(x):\n",
    "     return tf.nn.max_pool(x, ksize=[1, 2, 2, 1],strides=[1, 2, 2, 1], padding='SAME')\n",
    "  \n",
    "  # Model.\n",
    "  def model(data, digit_masks_1,digit_masks_2,digit_masks_3,digit_masks_4,digit_masks_5, is_train, dropout_prob):\n",
    "    print(\"data.shape:\",data.get_shape())\n",
    "    \n",
    "    conv = tf.nn.conv2d(data, cnv_lyr1_weights, [1, 1, 1, 1], padding='SAME')\n",
    "    hidden = tf.nn.relu(conv + cnv_lyr1_biases)\n",
    "    lrn = tf.nn.local_response_normalization(hidden)\n",
    "    #h_pool1 = max_pool_2x2(lrn)\n",
    "    \n",
    "    conv = tf.nn.conv2d(lrn, cnv_lyr2_weights, [1, 1, 1, 1], padding='SAME')\n",
    "    hidden = tf.nn.relu(conv + cnv_lyr2_biases)\n",
    "    lrn = tf.nn.local_response_normalization(hidden)\n",
    "    h_pool2 = max_pool_2x2(lrn)\n",
    "    \n",
    "    conv = tf.nn.conv2d(h_pool2, cnv_lyr3_weights, [1, 1, 1, 1], padding='SAME')\n",
    "    hidden = tf.nn.relu(conv + cnv_lyr3_biases)\n",
    "    lrn = tf.nn.local_response_normalization(hidden)\n",
    "    h_pool3 = max_pool_2x2(lrn)\n",
    "    \n",
    "    shape = h_pool3.get_shape().as_list()\n",
    "    conv_result_reshape = tf.reshape(h_pool3, [shape[0], shape[1] * shape[2] * shape[3]])\n",
    "    print(\"conv_result_reshape:\",conv_result_reshape.get_shape())\n",
    "    hidden = tf.nn.relu(tf.matmul(conv_result_reshape, fc_weights_1) + fc_biases_1)\n",
    "    hidden = tf.nn.relu(tf.matmul(hidden, fc_weights_2) + fc_biases_2)\n",
    "    \n",
    "    # Apply Dropout\n",
    "    #hidden = tf.nn.dropout(hidden, dropout_prob)\n",
    "    \n",
    "    logit_length = tf.matmul(hidden, length_weights) + length_biases\n",
    "    \n",
    "    logit_1 = tf.nn.relu((tf.matmul(hidden, digit1_weights) + digit1_biases))\n",
    "    #if (is_train == True):\n",
    "    #    logit_1 = logit_1 * digit_masks_1\n",
    "    \n",
    "    logit_2 = tf.nn.relu((tf.matmul(hidden, digit2_weights) + digit2_biases))\n",
    "    #if (is_train == True):\n",
    "    #    logit_2 = logit_2 * digit_masks_2\n",
    "        \n",
    "    logit_3 = tf.nn.relu((tf.matmul(hidden, digit3_weights) + digit3_biases))\n",
    "    #if (is_train == True):\n",
    "    #    logit_3 = logit_3 * digit_masks_3\n",
    "\n",
    "    logit_4 = tf.nn.relu((tf.matmul(hidden, digit4_weights) + digit4_biases))\n",
    "    #if (is_train == True):\n",
    "    #    logit_4 = logit_4 * digit_masks_4\n",
    "\n",
    "    logit_5 = tf.nn.relu((tf.matmul(hidden, digit5_weights) + digit5_biases))\n",
    "    #if (is_train == True):\n",
    "    #    logit_5 = logit_5 * digit_masks_5\n",
    "\n",
    "    \n",
    "\n",
    "    return logit_length, logit_1,logit_2,logit_3,logit_4,logit_5\n",
    "  \n",
    "  # Training computation.\n",
    "  logit_len, logit_digit_1,logit_digit_2,logit_digit_3,logit_digit_4,logit_digit_5 \\\n",
    "    = model(tf_train_dataset, tf_digit_masks_1, tf_digit_masks_2, tf_digit_masks_3, tf_digit_masks_4, \\\n",
    "            tf_digit_masks_5, True, keep_prob)\n",
    "\n",
    "  loss_len     = tf.nn.sparse_softmax_cross_entropy_with_logits(logit_len, tf_train_labels[:,0])\n",
    "  loss_digit_1 = tf.nn.sparse_softmax_cross_entropy_with_logits(logit_digit_1, tf_train_labels[:,1])\n",
    "  loss_digit_2 = tf.nn.sparse_softmax_cross_entropy_with_logits(logit_digit_2, tf_train_labels[:,2])\n",
    "  loss_digit_3 = tf.nn.sparse_softmax_cross_entropy_with_logits(logit_digit_3, tf_train_labels[:,3])\n",
    "  loss_digit_4 = tf.nn.sparse_softmax_cross_entropy_with_logits(logit_digit_4, tf_train_labels[:,4])\n",
    "  loss_digit_5 = tf.nn.sparse_softmax_cross_entropy_with_logits(logit_digit_5, tf_train_labels[:,5])\n",
    "    \n",
    "  loss = tf.reduce_mean(loss_len + loss_digit_1 + loss_digit_2 + loss_digit_3 + loss_digit_4 + loss_digit_5)\n",
    "    \n",
    "    \n",
    "  # Optimizer.\n",
    "  global_step = tf.Variable(0, trainable=False)\n",
    "  starter_learning_rate = 0.01\n",
    "  learning_rate = tf.train.exponential_decay(starter_learning_rate, global_step,\n",
    "                                           1000, 0.96, staircase=True)\n",
    "  optimizer = tf.train.GradientDescentOptimizer(learning_rate).minimize(loss,global_step=global_step)\n",
    "  #optimizer = tf.train.AdamOptimizer(learning_rate=0.001).minimize(loss)\n",
    "  \n",
    "  # Predictions for TRAIN\n",
    "  len_preds = tf.nn.softmax(logit_len)\n",
    "  pads = tf.constant([[0, 0], [4, 0]])\n",
    "  len_preds=tf.pad(len_preds, pads, \"CONSTANT\")\n",
    "  train_prediction = tf.pack([ len_preds, tf.nn.softmax(logit_digit_1), tf.nn.softmax(logit_digit_2), tf.nn.softmax(logit_digit_3), \\\n",
    "                              tf.nn.softmax(logit_digit_4), tf.nn.softmax(logit_digit_5) ])\n",
    "\n",
    "  #Predictions for TEST\n",
    "  logit_len_test, logit_digit_1_test, logit_digit_2_test, logit_digit_3_test, logit_digit_4_test, logit_digit_5_test \\\n",
    "    = model(tf_test_dataset, tf_digit_masks_1, tf_digit_masks_2, tf_digit_masks_3, tf_digit_masks_4, tf_digit_masks_5, False, 1.)\n",
    "  len_preds_test = tf.nn.softmax(logit_len_test)\n",
    "  pads_test = tf.constant([[0, 0], [4, 0]])\n",
    "  len_preds_test=tf.pad(len_preds_test, pads_test, \"CONSTANT\")\n",
    "  test_prediction = tf.pack([ len_preds_test, tf.nn.softmax(logit_digit_1_test), tf.nn.softmax(logit_digit_2_test), \\\n",
    "                             tf.nn.softmax(logit_digit_3_test), tf.nn.softmax(logit_digit_4_test), \\\n",
    "                             tf.nn.softmax(logit_digit_5_test) ])\n",
    "   \n",
    " "
   ]
  },
  {
   "cell_type": "code",
   "execution_count": 17,
   "metadata": {
    "collapsed": false
   },
   "outputs": [],
   "source": [
    "# Create 5 mask arrays; 1 for each digit.\n",
    "# Each such Xth array will have all zeroes in Nth a row, if Xh digit is not present in Nth number in batch. \n",
    "def explode(batch_labels_arr):\n",
    "    batch_size_count=batch_labels_arr.shape[0]\n",
    "    target_col_count=10 # 10 labels for each digit\n",
    "    total_digits_cols=5\n",
    "    digit_mask_array = np.ndarray(shape=(total_digits_cols, batch_size_count, target_col_count),dtype=np.int32)\n",
    "    digit_mask_array[:,:,:]=int(0)\n",
    "    #print(\"batch_labels_arr: \\n\",batch_labels_arr)\n",
    "    #print(digit_mask_array.shape)\n",
    "    for row in range(batch_size_count):\n",
    "        len_val=batch_labels_arr[row,0].astype(int)\n",
    "        #print(\"len_val:\",len_val)\n",
    "        for counter in range(len_val):\n",
    "            digit_mask_array[5-counter-1, row, :] = 1\n",
    "    #print(\"digit_mask_array:\\n\",digit_mask_array)\n",
    "    return digit_mask_array[0,:,:],digit_mask_array[1,:,:],digit_mask_array[2,:,:],digit_mask_array[3,:,:],digit_mask_array[4,:,:],\n",
    "    \n",
    "#print(train_labels[10:20,:])        \n",
    "#explode(train_labels[10:20,:])"
   ]
  },
  {
   "cell_type": "code",
   "execution_count": 18,
   "metadata": {
    "collapsed": false,
    "scrolled": true
   },
   "outputs": [
    {
     "name": "stdout",
     "output_type": "stream",
     "text": [
      "Initialized\n",
      "Minibatch loss at step 500: 8.339126\n",
      "Minibatch accuracy: 0.0%\n",
      "Minibatch loss at step 1000: 7.758300\n",
      "Minibatch accuracy: 1.6%\n",
      "Minibatch loss at step 1500: 4.627799\n",
      "Minibatch accuracy: 3.1%\n",
      "Minibatch loss at step 2000: 4.805098\n",
      "Minibatch accuracy: 9.4%\n",
      "Minibatch loss at step 2500: 4.196727\n",
      "Minibatch accuracy: 28.1%\n",
      "Minibatch loss at step 3000: 2.001112\n",
      "Minibatch accuracy: 50.0%\n",
      "Minibatch loss at step 3500: 2.949170\n",
      "Minibatch accuracy: 42.2%\n",
      "Minibatch loss at step 4000: 2.820929\n",
      "Minibatch accuracy: 46.9%\n",
      "Minibatch loss at step 4500: 2.501273\n",
      "Minibatch accuracy: 43.8%\n",
      "Minibatch loss at step 5000: 2.678669\n",
      "Minibatch accuracy: 53.1%\n",
      "Minibatch loss at step 5500: 2.084463\n",
      "Minibatch accuracy: 50.0%\n",
      "Minibatch loss at step 6000: 2.002605\n",
      "Minibatch accuracy: 45.3%\n",
      "Minibatch loss at step 6500: 1.659801\n",
      "Minibatch accuracy: 64.1%\n",
      "Minibatch loss at step 7000: 1.778015\n",
      "Minibatch accuracy: 62.5%\n",
      "Minibatch loss at step 7500: 1.019748\n",
      "Minibatch accuracy: 73.4%\n",
      "Minibatch loss at step 8000: 1.497507\n",
      "Minibatch accuracy: 62.5%\n",
      "Minibatch loss at step 8500: 1.684929\n",
      "Minibatch accuracy: 53.1%\n",
      "Minibatch loss at step 9000: 1.195307\n",
      "Minibatch accuracy: 65.6%\n",
      "Minibatch loss at step 9500: 0.652806\n",
      "Minibatch accuracy: 75.0%\n",
      "Minibatch loss at step 10000: 0.727793\n",
      "Minibatch accuracy: 65.6%\n",
      "Minibatch loss at step 10500: 0.618578\n",
      "Minibatch accuracy: 73.4%\n",
      "Minibatch loss at step 11000: 1.088607\n",
      "Minibatch accuracy: 68.8%\n",
      "Minibatch loss at step 11500: 1.043542\n",
      "Minibatch accuracy: 71.9%\n",
      "Minibatch loss at step 12000: 1.130029\n",
      "Minibatch accuracy: 65.6%\n",
      "Minibatch loss at step 12500: 0.796558\n",
      "Minibatch accuracy: 67.2%\n",
      "Minibatch loss at step 13000: 0.504668\n",
      "Minibatch accuracy: 84.4%\n",
      "Minibatch loss at step 13500: 0.768166\n",
      "Minibatch accuracy: 75.0%\n",
      "Minibatch loss at step 14000: 0.827949\n",
      "Minibatch accuracy: 67.2%\n",
      "Minibatch loss at step 14500: 0.651059\n",
      "Minibatch accuracy: 79.7%\n",
      "Minibatch loss at step 15000: 0.766753\n",
      "Minibatch accuracy: 68.8%\n",
      "Minibatch loss at step 15500: 0.604620\n",
      "Minibatch accuracy: 71.9%\n",
      "Minibatch loss at step 16000: 0.423587\n",
      "Minibatch accuracy: 82.8%\n",
      "Minibatch loss at step 16500: 0.389834\n",
      "Minibatch accuracy: 79.7%\n",
      "Minibatch loss at step 17000: 0.250400\n",
      "Minibatch accuracy: 79.7%\n",
      "Minibatch loss at step 17500: 0.425654\n",
      "Minibatch accuracy: 75.0%\n",
      "Minibatch loss at step 18000: 0.747959\n",
      "Minibatch accuracy: 65.6%\n",
      "Minibatch loss at step 18500: 0.275191\n",
      "Minibatch accuracy: 81.2%\n",
      "Minibatch loss at step 19000: 0.411855\n",
      "Minibatch accuracy: 71.9%\n",
      "Minibatch loss at step 19500: 0.241918\n",
      "Minibatch accuracy: 76.6%\n",
      "Minibatch loss at step 20000: 0.285813\n",
      "Minibatch accuracy: 81.2%\n",
      "Test accuracy: 45.5%\n"
     ]
    }
   ],
   "source": [
    "num_steps = 20001\n",
    "\n",
    "with tf.Session(graph=graph) as session:\n",
    "  tf.initialize_all_variables().run()\n",
    "  print('Initialized')\n",
    "  for step in range(num_steps):\n",
    "    offset = (step * batch_size) % (train_labels.shape[0] - batch_size)\n",
    "    batch_data = train_dataset[offset:(offset + batch_size), :, :,:]\n",
    "    batch_labels = train_labels[offset:(offset + batch_size), :].astype(int)\n",
    "    digit_1_mask, digit_2_mask,digit_3_mask,digit_4_mask,digit_5_mask = explode(batch_labels)\n",
    "    feed_dict = {tf_train_dataset : batch_data, tf_train_labels : batch_labels, tf_digit_masks_1 : digit_1_mask ,\\\n",
    "                tf_digit_masks_2 : digit_2_mask, tf_digit_masks_3 : digit_3_mask, tf_digit_masks_4 : digit_4_mask, \\\n",
    "                tf_digit_masks_5 : digit_5_mask, keep_prob : dropout}\n",
    "    _, l, predictions = session.run([optimizer, loss, train_prediction], feed_dict=feed_dict)\n",
    "    if (step > 1 and step % 500 == 0):\n",
    "      print('Minibatch loss at step %d: %f' % (step, l))\n",
    "      print('Minibatch accuracy: %.1f%%' % accuracy(predictions, batch_labels))\n",
    "  \n",
    "\n",
    "  print('Test accuracy: %.1f%%' % accuracy(test_prediction.eval(), test_labels))"
   ]
  },
  {
   "cell_type": "markdown",
   "metadata": {
    "collapsed": true
   },
   "source": [
    "#### "
   ]
  }
 ],
 "metadata": {
  "kernelspec": {
   "display_name": "Python 2",
   "language": "python",
   "name": "python2"
  },
  "language_info": {
   "codemirror_mode": {
    "name": "ipython",
    "version": 2
   },
   "file_extension": ".py",
   "mimetype": "text/x-python",
   "name": "python",
   "nbconvert_exporter": "python",
   "pygments_lexer": "ipython2",
   "version": "2.7.6"
  }
 },
 "nbformat": 4,
 "nbformat_minor": 0
}
