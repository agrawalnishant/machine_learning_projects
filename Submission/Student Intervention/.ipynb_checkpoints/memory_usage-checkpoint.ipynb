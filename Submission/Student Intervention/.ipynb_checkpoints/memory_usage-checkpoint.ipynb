{
 "cells": [
  {
   "cell_type": "code",
   "execution_count": null,
   "metadata": {
    "collapsed": false
   },
   "outputs": [],
   "source": [
    "import os, datetime\n",
    "import pylab as pl\n",
    "import numpy as np\n",
    "import sys\n",
    "import psutil"
   ]
  },
  {
   "cell_type": "markdown",
   "metadata": {},
   "source": [
    "We define two different functions that return the current memory usage. The first one uses the [resource module](http://docs.python.org/2/library/resource.html) and the second one uses [psutil](https://code.google.com/p/psutil/)"
   ]
  },
  {
   "cell_type": "code",
   "execution_count": null,
   "metadata": {
    "collapsed": false
   },
   "outputs": [],
   "source": [
    "def memory_usage_resource():\n",
    "    import resource\n",
    "    rusage_denom = 1024.\n",
    "    if sys.platform == 'darwin':\n",
    "        # ... it seems that in OSX the output is different units ...\n",
    "        rusage_denom = rusage_denom * rusage_denom\n",
    "    mem = resource.getrusage(resource.RUSAGE_SELF).ru_maxrss / rusage_denom\n",
    "    return mem\n",
    "\n",
    "def memory_usage_psutil():\n",
    "    import psutil\n",
    "    for proc in psutil.process_iter():\n",
    "        try:\n",
    "            pinfo = proc.as_dict(attrs=['pid', 'name','cmdline'])\n",
    "            \n",
    "        except psutil.NoSuchProcess:\n",
    "            pass\n",
    "        else:\n",
    "            print(pinfo)\n",
    "           \n",
    "           \n",
    "    #mem = process.get_memory_info()[0] / float(2 ** 20)\n",
    "    #return mem\n",
    "\n",
    "def memory_usage_ps():\n",
    "    import subprocess\n",
    "    out = subprocess.Popen(['ps', 'v', '-p', str(os.getpid())],\n",
    "    stdout=subprocess.PIPE).communicate()[0].split(b'\\n')\n",
    "    vsz_index = out[0].split().index(b'RSS')\n",
    "    mem = float(out[1].split()[vsz_index]) / 1024\n",
    "    return mem"
   ]
  },
  {
   "cell_type": "markdown",
   "metadata": {},
   "source": [
    "Get memory consumption as we create tuples with increasing size"
   ]
  },
  {
   "cell_type": "code",
   "execution_count": null,
   "metadata": {
    "collapsed": false
   },
   "outputs": [],
   "source": [
    "mem_resource = []\n",
    "mem_psutil = []\n",
    "for i in range(1, 21):\n",
    "    a = np.zeros((1000 * i, 100 * i))\n",
    "    mem_resource.append(memory_usage_resource())\n",
    "    mem_psutil.append(memory_usage_psutil())\n",
    "\n",
    "pl.plot(mem_resource, color='blue', label='resource', lw=4)\n",
    "pl.plot(mem_psutil, color='red', label='psutil', lw=4)\n",
    "pl.legend(loc='upper left')\n",
    "pl.ylabel('Memory usage in MB')\n",
    "pl.savefig('resource_vs_psutil.png')\n",
    "pl.show()"
   ]
  },
  {
   "cell_type": "markdown",
   "metadata": {},
   "source": [
    "And benchmarks for all three methods"
   ]
  },
  {
   "cell_type": "code",
   "execution_count": null,
   "metadata": {
    "collapsed": false
   },
   "outputs": [],
   "source": [
    "start = datetime.datetime.now()\n",
    "for _ in range(100):\n",
    "    memory_usage_ps()\n",
    "ps_timing = (datetime.datetime.now() - start).total_seconds()\n",
    "\n",
    "start = datetime.datetime.now()\n",
    "for _ in range(100):\n",
    "    memory_usage_psutil()\n",
    "psutil_timing = (datetime.datetime.now() - start).total_seconds()\n",
    "\n",
    "start = datetime.datetime.now()\n",
    "for _ in range(100):\n",
    "    memory_usage_resource()\n",
    "resource_timing = (datetime.datetime.now() - start).total_seconds()"
   ]
  },
  {
   "cell_type": "code",
   "execution_count": null,
   "metadata": {
    "collapsed": false
   },
   "outputs": [],
   "source": [
    "pl.bar(range(3), [ps_timing, psutil_timing, resource_timing])\n",
    "pl.xticks(np.arange(3) + .5, ['ps', 'psutil', 'resource'])\n",
    "pl.ylabel('Time (in seconds)')\n",
    "pl.title('Time to make 100 memory measurements')\n",
    "pl.savefig('time_100_measurements.png')\n",
    "pl.show()"
   ]
  },
  {
   "cell_type": "code",
   "execution_count": null,
   "metadata": {
    "collapsed": false
   },
   "outputs": [],
   "source": []
  }
 ],
 "metadata": {
  "kernelspec": {
   "display_name": "Python 2",
   "language": "python",
   "name": "python2"
  },
  "language_info": {
   "codemirror_mode": {
    "name": "ipython",
    "version": 2
   },
   "file_extension": ".py",
   "mimetype": "text/x-python",
   "name": "python",
   "nbconvert_exporter": "python",
   "pygments_lexer": "ipython2",
   "version": "2.7.10"
  }
 },
 "nbformat": 4,
 "nbformat_minor": 0
}
