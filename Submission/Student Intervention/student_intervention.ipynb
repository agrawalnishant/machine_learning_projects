{
 "cells": [
  {
   "cell_type": "markdown",
   "metadata": {},
   "source": [
    "# Project 2: Supervised Learning\n",
    "### Building a Student Intervention System"
   ]
  },
  {
   "cell_type": "markdown",
   "metadata": {},
   "source": [
    "## 1. Classification vs Regression\n",
    "\n",
    "Your goal is to identify students who might need early intervention - which type of supervised machine learning problem is this, classification or regression? Why?\n",
    "\n",
    "This is a classificaiton problem, as target model will predict if student belongs to the class of students that requires intervention. "
   ]
  },
  {
   "cell_type": "markdown",
   "metadata": {},
   "source": [
    "## 2. Exploring the Data\n",
    "\n",
    "Let's go ahead and read in the student dataset first.\n",
    "\n",
    "_To execute a code cell, click inside it and press **Shift+Enter**._"
   ]
  },
  {
   "cell_type": "code",
   "execution_count": 234,
   "metadata": {
    "collapsed": false
   },
   "outputs": [],
   "source": [
    "get_ipython().magic(u'matplotlib inline')\n",
    "# Import libraries\n",
    "import numpy as np\n",
    "import pandas as pd\n",
    "import matplotlib\n",
    "import matplotlib.pyplot as plt\n",
    "from time import time\n",
    "from __future__ import division\n",
    "from sklearn import cross_validation\n",
    "\n",
    "from sklearn.metrics import f1_score\n",
    "from sklearn.cross_validation import StratifiedKFold\n",
    "import warnings\n",
    "warnings.filterwarnings('ignore')\n",
    "\n",
    "pd.options.display.float_format = '{:.5f}'.format\n",
    "pd.set_option('display.max_columns', 500)\n",
    "pd.set_option('display.width', 1000)"
   ]
  },
  {
   "cell_type": "code",
   "execution_count": 235,
   "metadata": {
    "collapsed": false
   },
   "outputs": [
    {
     "name": "stdout",
     "output_type": "stream",
     "text": [
      "Student data read successfully!\n"
     ]
    }
   ],
   "source": [
    "# Read student data\n",
    "student_data = pd.read_csv(\"student-data.csv\")\n",
    "print \"Student data read successfully!\"\n",
    "# Note: The last column 'passed' is the target/label, all other are feature columns"
   ]
  },
  {
   "cell_type": "markdown",
   "metadata": {},
   "source": [
    "Now, can you find out the following facts about the dataset?\n",
    "- Total number of students\n",
    "- Number of students who passed\n",
    "- Number of students who failed\n",
    "- Graduation rate of the class (%)\n",
    "- Number of features\n",
    "\n",
    "_Use the code block below to compute these values. Instructions/steps are marked using **TODO**s._"
   ]
  },
  {
   "cell_type": "code",
   "execution_count": 236,
   "metadata": {
    "collapsed": false
   },
   "outputs": [
    {
     "name": "stdout",
     "output_type": "stream",
     "text": [
      "Total number of students: 395\n",
      "Number of students who passed: 265\n",
      "Number of students who failed: 130\n",
      "Number of features: 30\n",
      "Graduation rate of the class: 67.09%\n"
     ]
    }
   ],
   "source": [
    "# TODO: Compute desired values - replace each '?' with an appropriate expression/function call\n",
    "n_students = student_data.shape[0]\n",
    "n_features = student_data.shape[1]-1\n",
    "n_passed = student_data.loc[student_data['passed']=='yes'].shape[0]\n",
    "n_failed = n_students-n_passed\n",
    "grad_rate = 100*n_passed/n_students\n",
    "print \"Total number of students: {}\".format(n_students)\n",
    "print \"Number of students who passed: {}\".format(n_passed)\n",
    "print \"Number of students who failed: {}\".format(n_failed)\n",
    "print \"Number of features: {}\".format(n_features)\n",
    "print \"Graduation rate of the class: {:.2f}%\".format(grad_rate)"
   ]
  },
  {
   "cell_type": "markdown",
   "metadata": {},
   "source": [
    "## 3. Preparing the Data\n",
    "In this section, we will prepare the data for modeling, training and testing.\n",
    "\n",
    "### Identify feature and target columns\n",
    "It is often the case that the data you obtain contains non-numeric features. This can be a problem, as most machine learning algorithms expect numeric data to perform computations with.\n",
    "\n",
    "Let's first separate our data into feature and target columns, and see if any features are non-numeric.<br/>\n",
    "**Note**: For this dataset, the last column (`'passed'`) is the target or label we are trying to predict."
   ]
  },
  {
   "cell_type": "code",
   "execution_count": 237,
   "metadata": {
    "collapsed": false
   },
   "outputs": [
    {
     "name": "stdout",
     "output_type": "stream",
     "text": [
      "Feature column(s):-\n",
      "['school', 'sex', 'age', 'address', 'famsize', 'Pstatus', 'Medu', 'Fedu', 'Mjob', 'Fjob', 'reason', 'guardian', 'traveltime', 'studytime', 'failures', 'schoolsup', 'famsup', 'paid', 'activities', 'nursery', 'higher', 'internet', 'romantic', 'famrel', 'freetime', 'goout', 'Dalc', 'Walc', 'health', 'absences']\n",
      "Target column: passed\n",
      "\n",
      "Feature values:-\n",
      "  school sex  age address famsize Pstatus  Medu  Fedu     Mjob     Fjob  reason guardian  traveltime  studytime  failures schoolsup famsup paid activities nursery higher internet romantic  famrel  freetime  goout  Dalc  Walc  health  absences\n",
      "0     GP   F   18       U     GT3       A     4     4  at_home  teacher  course   mother           2          2         0       yes     no   no         no     yes    yes       no       no       4         3      4     1     1       3         6\n",
      "1     GP   F   17       U     GT3       T     1     1  at_home    other  course   father           1          2         0        no    yes   no         no      no    yes      yes       no       5         3      3     1     1       3         4\n",
      "2     GP   F   15       U     LE3       T     1     1  at_home    other   other   mother           1          2         3       yes     no  yes         no     yes    yes      yes       no       4         3      2     2     3       3        10\n"
     ]
    }
   ],
   "source": [
    "# Extract feature (X) and target (y) columns\n",
    "feature_cols = list(student_data.columns[:-1])  # all columns but last are features\n",
    "target_col = student_data.columns[-1]  # last column is the target/label\n",
    "print \"Feature column(s):-\\n{}\".format(feature_cols)\n",
    "print \"Target column: {}\".format(target_col)\n",
    "\n",
    "X_all = student_data[feature_cols]  # feature values for all students\n",
    "y_all = student_data[target_col]  # corresponding targets/labels\n",
    "print \"\\nFeature values:-\"\n",
    "print X_all.head(3)  # print the first 5 rows"
   ]
  },
  {
   "cell_type": "markdown",
   "metadata": {},
   "source": [
    "### Preprocess feature columns\n",
    "\n",
    "As you can see, there are several non-numeric columns that need to be converted! Many of them are simply `yes`/`no`, e.g. `internet`. These can be reasonably converted into `1`/`0` (binary) values.\n",
    "\n",
    "Other columns, like `Mjob` and `Fjob`, have more than two values, and are known as _categorical variables_. The recommended way to handle such a column is to create as many columns as possible values (e.g. `Fjob_teacher`, `Fjob_other`, `Fjob_services`, etc.), and assign a `1` to one of them and `0` to all others.\n",
    "\n",
    "These generated columns are sometimes called _dummy variables_, and we will use the [`pandas.get_dummies()`](http://pandas.pydata.org/pandas-docs/stable/generated/pandas.get_dummies.html?highlight=get_dummies#pandas.get_dummies) function to perform this transformation."
   ]
  },
  {
   "cell_type": "code",
   "execution_count": 238,
   "metadata": {
    "collapsed": false
   },
   "outputs": [
    {
     "name": "stdout",
     "output_type": "stream",
     "text": [
      "Processed feature columns (48):-\n",
      "['school_GP', 'school_MS', 'sex_F', 'sex_M', 'age', 'address_R', 'address_U', 'famsize_GT3', 'famsize_LE3', 'Pstatus_A', 'Pstatus_T', 'Medu', 'Fedu', 'Mjob_at_home', 'Mjob_health', 'Mjob_other', 'Mjob_services', 'Mjob_teacher', 'Fjob_at_home', 'Fjob_health', 'Fjob_other', 'Fjob_services', 'Fjob_teacher', 'reason_course', 'reason_home', 'reason_other', 'reason_reputation', 'guardian_father', 'guardian_mother', 'guardian_other', 'traveltime', 'studytime', 'failures', 'schoolsup', 'famsup', 'paid', 'activities', 'nursery', 'higher', 'internet', 'romantic', 'famrel', 'freetime', 'goout', 'Dalc', 'Walc', 'health', 'absences']\n"
     ]
    }
   ],
   "source": [
    "# Preprocess feature columns\n",
    "def preprocess_features(X):\n",
    "    outX = pd.DataFrame(index=X.index)  # output dataframe, initially empty\n",
    "\n",
    "    # Check each column\n",
    "    for col, col_data in X.iteritems():\n",
    "        # If data type is non-numeric, try to replace all yes/no values with 1/0\n",
    "        if col_data.dtype == object:\n",
    "            col_data = col_data.replace(['yes', 'no'], [1, 0])\n",
    "        # Note: This should change the data type for yes/no columns to int\n",
    "\n",
    "        # If still non-numeric, convert to one or more dummy variables\n",
    "        if col_data.dtype == object:\n",
    "            col_data = pd.get_dummies(col_data, prefix=col)  # e.g. 'school' => 'school_GP', 'school_MS'\n",
    "\n",
    "        outX = outX.join(col_data)  # collect column(s) in output dataframe\n",
    "\n",
    "    return outX\n",
    "\n",
    "X_all = preprocess_features(X_all)\n",
    "print \"Processed feature columns ({}):-\\n{}\".format(len(X_all.columns), list(X_all.columns))"
   ]
  },
  {
   "cell_type": "markdown",
   "metadata": {},
   "source": [
    "### Split data into training and test sets\n",
    "\n",
    "So far, we have converted all _categorical_ features into numeric values. In this next step, we split the data (both features and corresponding labels) into training and test sets."
   ]
  },
  {
   "cell_type": "code",
   "execution_count": 239,
   "metadata": {
    "collapsed": false
   },
   "outputs": [
    {
     "name": "stdout",
     "output_type": "stream",
     "text": [
      "Training set: 300 samples\n",
      "Test set: 95 samples\n"
     ]
    }
   ],
   "source": [
    "# First, decide how many training vs test samples you want\n",
    "num_all = student_data.shape[0]  # same as len(student_data)\n",
    "num_train = 300  # about 75% of the data\n",
    "num_test = num_all - num_train\n",
    "\n",
    "\n",
    "# TODO: Then, select features (X) and corresponding labels (y) for the training and test sets\n",
    "# Note: Shuffle the data or randomly select samples to avoid any bias due to ordering in the dataset\n",
    "sss_cv = cross_validation.StratifiedShuffleSplit( y_all, 1,test_size=num_test, random_state=41)\n",
    "\n",
    "for train_index, test_index in sss_cv:\n",
    "    X_train, X_test = X_all.iloc[train_index], X_all.iloc[test_index]\n",
    "    y_train, y_test = y_all.iloc[train_index], y_all.iloc[test_index]\n",
    "\n",
    "print \"Training set: {} samples\".format(X_train.shape[0])\n",
    "print \"Test set: {} samples\".format(X_test.shape[0])\n",
    "# Note: If you need a validation set, extract it from within training data"
   ]
  },
  {
   "cell_type": "markdown",
   "metadata": {},
   "source": [
    "## 4. Training and Evaluating Models\n",
    "Choose 3 supervised learning models that are available in scikit-learn, and appropriate for this problem. For each model:\n",
    "\n",
    "- What are the general applications of this model? What are its strengths and weaknesses?\n",
    "- Given what you know about the data so far, why did you choose this model to apply?\n",
    "- Fit this model to the training data, try to predict labels (for both training and test sets), and measure the F<sub>1</sub> score. Repeat this process with different training set sizes (100, 200, 300), keeping test set constant.\n",
    "\n",
    "Produce a table showing training time, prediction time, F<sub>1</sub> score on training set and F<sub>1</sub> score on test set, for each training set size.\n",
    "\n",
    "Note: You need to produce 3 such tables - one for each model."
   ]
  },
  {
   "cell_type": "code",
   "execution_count": 240,
   "metadata": {
    "collapsed": false
   },
   "outputs": [
    {
     "name": "stdout",
     "output_type": "stream",
     "text": [
      "Training SVC...\n",
      "classifier:  SVC(C=1.0, cache_size=200, class_weight=None, coef0=0.0,\n",
      "  decision_function_shape=None, degree=3, gamma='auto', kernel='rbf',\n",
      "  max_iter=-1, probability=False, random_state=None, shrinking=True,\n",
      "  tol=0.001, verbose=False)\n"
     ]
    }
   ],
   "source": [
    "# Train a model\n",
    "import time\n",
    "\n",
    "def train_classifier(clf, X_train, y_train):\n",
    "    print \"Training {}...\".format(clf.__class__.__name__)\n",
    "    start = time.time()\n",
    "    clf.fit(X_train, y_train)\n",
    "    end = time.time()\n",
    "    clf_train_time=end-start\n",
    "    return clf_train_time\n",
    "\n",
    "# TODO: Choose a model, import it and instantiate an object\n",
    "from sklearn.svm import SVC\n",
    "clf = SVC()\n",
    "\n",
    "# Fit model to training data\n",
    "clf_train_time=train_classifier(clf, X_train, y_train)  # note: using entire training set here\n",
    "#print clf  # you can inspect the learned model by printing it\n",
    "print \"classifier: \", clf"
   ]
  },
  {
   "cell_type": "code",
   "execution_count": 241,
   "metadata": {
    "collapsed": false
   },
   "outputs": [
    {
     "name": "stdout",
     "output_type": "stream",
     "text": [
      "Predicting labels using SVC...\n",
      "Predict Training labels Time taken: 0.00643, F1 Score : 0.85169\n"
     ]
    }
   ],
   "source": [
    "# Predict on training set and compute F1 score\n",
    "from sklearn.metrics import f1_score\n",
    "\n",
    "def predict_labels(clf, features, target):\n",
    "    print \"Predicting labels using {}...\".format(clf.__class__.__name__)\n",
    "    start = time.time()\n",
    "    y_pred = clf.predict(features)\n",
    "    end = time.time()\n",
    "    time_taken=end-start\n",
    "    f1score=f1_score(target.values, y_pred, pos_label='yes')\n",
    "    return time_taken, f1score\n",
    "\n",
    "predict_all_train_time, predict_all_train_f1score = predict_labels(clf, X_train, y_train)\n",
    "print \"Predict Training labels Time taken: {:.5f}, F1 Score : {:.5f}\".format(predict_all_train_time,predict_all_train_f1score)\n"
   ]
  },
  {
   "cell_type": "code",
   "execution_count": 242,
   "metadata": {
    "collapsed": false
   },
   "outputs": [
    {
     "name": "stdout",
     "output_type": "stream",
     "text": [
      "Predicting labels using SVC...\n",
      "Predict Test labels Time taken: 0.00226, F1 Score : 0.81046\n"
     ]
    }
   ],
   "source": [
    "# Predict on test data\n",
    "predict_all_test_time, predict_all_test_f1score=predict_labels(clf, X_test, y_test)\n",
    "print \"Predict Test labels Time taken: {:.5f}, F1 Score : {:.5f}\".format(predict_all_test_time,predict_all_test_f1score)\n"
   ]
  },
  {
   "cell_type": "code",
   "execution_count": 243,
   "metadata": {
    "collapsed": false
   },
   "outputs": [],
   "source": [
    "# Train and predict using different training set sizes\n",
    "def train_predict(clf, X_train, y_train, X_test, y_test):\n",
    "    print \"------------------------------------------\"\n",
    "    print \"Training set size: {}\".format(len(X_train))\n",
    "    clf_train_time=train_classifier(clf, X_train, y_train)\n",
    "    train_time, train_score=predict_labels(clf, X_train, y_train)\n",
    "    print \"Training set Time taken: {:.5f}, f1score: {:.5f}\".format(train_time, train_score)\n",
    "    test_time, test_score=predict_labels(clf, X_test, y_test)\n",
    "    print \"Test set Time taken: {:.5f}, f1score: {:.5f}\".format(test_time, test_score)\n",
    "    return clf_train_time, test_time, train_score, test_score\n",
    "\n",
    "## Create DataFrames to hold Accuracy matrix, \n",
    "# and another to the matrix required for project specs.\n",
    "test_f1score_time_matrix=pd.DataFrame(columns=['TST_F1_SVC','TST_F1_AB','TST_F1_RF',\n",
    "                                          'Trng_size',\n",
    "                                          'TST_TIME_SVC','TST_TIME_AB','TST_TIME_RF'],\n",
    "                                             index=['50','100','150','200','250','300'])\n",
    "test_f1score_time_matrix['Trng_size']=[50,100,150,200,250,300]\n",
    "\n",
    "\n",
    "project_data_matrix=pd.DataFrame(columns=['50','100','150','200','250','300'],\n",
    "                                 index=['Training time (secs)','Prediction time (secs)',\n",
    "                                        'F1 score for training set',\n",
    "                                        'F1 score for test set'])\n",
    "\n"
   ]
  },
  {
   "cell_type": "code",
   "execution_count": 244,
   "metadata": {
    "collapsed": false
   },
   "outputs": [
    {
     "name": "stdout",
     "output_type": "stream",
     "text": [
      "------------------------------------------\n",
      "Training set size: 50\n",
      "Training SVC...\n",
      "Predicting labels using SVC...\n",
      "Training set Time taken: 0.00047, f1score: 1.00000\n",
      "Predicting labels using SVC...\n",
      "Test set Time taken: 0.00063, f1score: 0.80503\n",
      "------------------------------------------\n",
      "Training set size: 100\n",
      "Training SVC...\n",
      "Predicting labels using SVC...\n",
      "Training set Time taken: 0.00093, f1score: 1.00000\n",
      "Predicting labels using SVC...\n",
      "Test set Time taken: 0.00083, f1score: 0.80503\n",
      "------------------------------------------\n",
      "Training set size: 150\n",
      "Training SVC...\n",
      "Predicting labels using SVC...\n",
      "Training set Time taken: 0.00186, f1score: 1.00000\n",
      "Predicting labels using SVC...\n",
      "Test set Time taken: 0.00120, f1score: 0.80503\n",
      "------------------------------------------\n",
      "Training set size: 200\n",
      "Training SVC...\n",
      "Predicting labels using SVC...\n",
      "Training set Time taken: 0.00336, f1score: 1.00000\n",
      "Predicting labels using SVC...\n",
      "Test set Time taken: 0.00177, f1score: 0.80503\n",
      "------------------------------------------\n",
      "Training set size: 250\n",
      "Training SVC...\n",
      "Predicting labels using SVC...\n",
      "Training set Time taken: 0.00416, f1score: 1.00000\n",
      "Predicting labels using SVC...\n",
      "Test set Time taken: 0.00188, f1score: 0.80503\n",
      "------------------------------------------\n",
      "Training set size: 300\n",
      "Training SVC...\n",
      "Predicting labels using SVC...\n",
      "Training set Time taken: 0.00626, f1score: 1.00000\n",
      "Predicting labels using SVC...\n",
      "Test set Time taken: 0.00191, f1score: 0.80503\n",
      "\n",
      "--------------------------------------------------------------------------------\n",
      "SVC data matrix\n",
      "                               50     100     150     200     250     300\n",
      "Training time (secs)      0.00100 0.00147 0.00271 0.00448 0.00664 0.00783\n",
      "Prediction time (secs)    0.00063 0.00083 0.00120 0.00177 0.00188 0.00191\n",
      "F1 score for training set 1.00000 1.00000 1.00000 1.00000 1.00000 1.00000\n",
      "F1 score for test set     0.80503 0.80503 0.80503 0.80503 0.80503 0.80503\n",
      "--------------------------------------------------------------------------------\n"
     ]
    }
   ],
   "source": [
    "# TODO: Run the helper function above for desired subsets of training data\n",
    "# Note: Keep the test set constant\n",
    "\n",
    "# Clf #1:  SVC\n",
    "for i in range(1,7):\n",
    "    # Creating a new instance of SVC Classifier to avoid any mixup with previous instance.\n",
    "    clf = SVC(C=0.9,gamma=100000)\n",
    "    train_time, predict_test_time, predict_train_score, predict_test_score=train_predict(clf, X_train[0:(50*i)],y_train[0:(50*i)],X_test,y_test)\n",
    "    project_data_matrix.iloc[0,i-1]=train_time\n",
    "    project_data_matrix.iloc[1,i-1]=predict_test_time\n",
    "    project_data_matrix.iloc[2,i-1]=predict_train_score\n",
    "    project_data_matrix.iloc[3,i-1]=predict_test_score\n",
    "    test_f1score_time_matrix['TST_F1_SVC'][i-1]=predict_test_score\n",
    "    test_f1score_time_matrix['TST_TIME_SVC'][i-1]=predict_test_time\n",
    "    \n",
    "print \"\\n\",'-'*80  \n",
    "print \"SVC data matrix\"\n",
    "print project_data_matrix\n",
    "print '-'*80  "
   ]
  },
  {
   "cell_type": "code",
   "execution_count": 245,
   "metadata": {
    "collapsed": false
   },
   "outputs": [
    {
     "name": "stdout",
     "output_type": "stream",
     "text": [
      "------------------------------------------\n",
      "Training set size: 50\n",
      "Training AdaBoostClassifier...\n",
      "Predicting labels using AdaBoostClassifier...\n",
      "Training set Time taken: 0.00041, f1score: 1.00000\n",
      "Predicting labels using AdaBoostClassifier...\n",
      "Test set Time taken: 0.00034, f1score: 0.77037\n",
      "------------------------------------------\n",
      "Training set size: 100\n",
      "Training AdaBoostClassifier...\n",
      "Predicting labels using AdaBoostClassifier...\n",
      "Training set Time taken: 0.00041, f1score: 1.00000\n",
      "Predicting labels using AdaBoostClassifier...\n",
      "Test set Time taken: 0.00036, f1score: 0.75000\n",
      "------------------------------------------\n",
      "Training set size: 150\n",
      "Training AdaBoostClassifier...\n",
      "Predicting labels using AdaBoostClassifier...\n",
      "Training set Time taken: 0.00039, f1score: 1.00000\n",
      "Predicting labels using AdaBoostClassifier...\n",
      "Test set Time taken: 0.00032, f1score: 0.66667\n",
      "------------------------------------------\n",
      "Training set size: 200\n",
      "Training AdaBoostClassifier...\n",
      "Predicting labels using AdaBoostClassifier...\n",
      "Training set Time taken: 0.00041, f1score: 1.00000\n",
      "Predicting labels using AdaBoostClassifier...\n",
      "Test set Time taken: 0.00032, f1score: 0.66667\n",
      "------------------------------------------\n",
      "Training set size: 250\n",
      "Training AdaBoostClassifier...\n",
      "Predicting labels using AdaBoostClassifier...\n",
      "Training set Time taken: 0.00040, f1score: 1.00000\n",
      "Predicting labels using AdaBoostClassifier...\n",
      "Test set Time taken: 0.00044, f1score: 0.71667\n",
      "------------------------------------------\n",
      "Training set size: 300\n",
      "Training AdaBoostClassifier...\n",
      "Predicting labels using AdaBoostClassifier...\n",
      "Training set Time taken: 0.00046, f1score: 1.00000\n",
      "Predicting labels using AdaBoostClassifier...\n",
      "Test set Time taken: 0.00037, f1score: 0.66142\n",
      "\n",
      "--------------------------------------------------------------------------------\n",
      "Ada Boost data matrix\n",
      "                               50     100     150     200     250     300\n",
      "Training time (secs)      0.00335 0.00331 0.00361 0.00374 0.00407 0.00425\n",
      "Prediction time (secs)    0.00034 0.00036 0.00032 0.00032 0.00044 0.00037\n",
      "F1 score for training set 1.00000 1.00000 1.00000 1.00000 1.00000 1.00000\n",
      "F1 score for test set     0.77037 0.75000 0.66667 0.66667 0.71667 0.66142\n",
      "--------------------------------------------------------------------------------\n"
     ]
    }
   ],
   "source": [
    "# TODO: Train and predict using two other models\n",
    "# Clf #2 uses Boosting: AdaBoost\n",
    "from sklearn.ensemble import AdaBoostClassifier\n",
    "from sklearn.tree import DecisionTreeClassifier\n",
    "\n",
    "for i in range(1,7):\n",
    "    # Creating a new instance of DecisionTree Classifier to avoid any mixup with previous instance.\n",
    "    dt_clf=DecisionTreeClassifier()\n",
    "    clf = AdaBoostClassifier(dt_clf)\n",
    "    train_time, predict_test_time, predict_train_score, predict_test_score=train_predict(clf, \n",
    "                                                  X_train[0:(50*i)],\n",
    "                                                  y_train[0:(50*i)],\n",
    "                                                  X_test,\n",
    "                                                  y_test)\n",
    "    project_data_matrix.iloc[0,i-1]=train_time\n",
    "    project_data_matrix.iloc[1,i-1]=predict_test_time\n",
    "    project_data_matrix.iloc[2,i-1]=predict_train_score\n",
    "    project_data_matrix.iloc[3,i-1]=predict_test_score\n",
    "    test_f1score_time_matrix['TST_F1_AB'][i-1]=predict_test_score\n",
    "    test_f1score_time_matrix['TST_TIME_AB'][i-1]=predict_test_time\n",
    "    \n",
    "print \"\\n\",'-'*80  \n",
    "print \"Ada Boost data matrix\"\n",
    "print project_data_matrix\n",
    "print '-'*80  "
   ]
  },
  {
   "cell_type": "code",
   "execution_count": 246,
   "metadata": {
    "collapsed": false
   },
   "outputs": [
    {
     "name": "stdout",
     "output_type": "stream",
     "text": [
      "------------------------------------------\n",
      "Training set size: 50\n",
      "Training RandomForestClassifier...\n",
      "Predicting labels using RandomForestClassifier...\n",
      "Training set Time taken: 0.00089, f1score: 1.00000\n",
      "Predicting labels using RandomForestClassifier...\n",
      "Test set Time taken: 0.00085, f1score: 0.77241\n",
      "------------------------------------------\n",
      "Training set size: 100\n",
      "Training RandomForestClassifier...\n",
      "Predicting labels using RandomForestClassifier...\n",
      "Training set Time taken: 0.00112, f1score: 1.00000\n",
      "Predicting labels using RandomForestClassifier...\n",
      "Test set Time taken: 0.00090, f1score: 0.66667\n",
      "------------------------------------------\n",
      "Training set size: 150\n",
      "Training RandomForestClassifier...\n",
      "Predicting labels using RandomForestClassifier...\n",
      "Training set Time taken: 0.00234, f1score: 0.98413\n",
      "Predicting labels using RandomForestClassifier...\n",
      "Test set Time taken: 0.00110, f1score: 0.79032\n",
      "------------------------------------------\n",
      "Training set size: 200\n",
      "Training RandomForestClassifier...\n",
      "Predicting labels using RandomForestClassifier...\n",
      "Training set Time taken: 0.00147, f1score: 0.98842\n",
      "Predicting labels using RandomForestClassifier...\n",
      "Test set Time taken: 0.00107, f1score: 0.72581\n",
      "------------------------------------------\n",
      "Training set size: 250\n",
      "Training RandomForestClassifier...\n",
      "Predicting labels using RandomForestClassifier...\n",
      "Training set Time taken: 0.00133, f1score: 0.99694\n",
      "Predicting labels using RandomForestClassifier...\n",
      "Test set Time taken: 0.00103, f1score: 0.74797\n",
      "------------------------------------------\n",
      "Training set size: 300\n",
      "Training RandomForestClassifier...\n",
      "Predicting labels using RandomForestClassifier...\n",
      "Training set Time taken: 0.00127, f1score: 0.99259\n",
      "Predicting labels using RandomForestClassifier...\n",
      "Test set Time taken: 0.00093, f1score: 0.80882\n",
      "\n",
      "--------------------------------------------------------------------------------\n",
      "Random Forest data matrix\n",
      "                               50     100     150     200     250     300\n",
      "Training time (secs)      0.02802 0.02340 0.02544 0.02532 0.02391 0.02520\n",
      "Prediction time (secs)    0.00085 0.00090 0.00110 0.00107 0.00103 0.00093\n",
      "F1 score for training set 1.00000 1.00000 0.98413 0.98842 0.99694 0.99259\n",
      "F1 score for test set     0.77241 0.66667 0.79032 0.72581 0.74797 0.80882\n",
      "--------------------------------------------------------------------------------\n"
     ]
    }
   ],
   "source": [
    "# TODO: Train and predict using two other models\n",
    "# Clf #3 uses bagging:  Random Forest\n",
    "from sklearn.ensemble import RandomForestClassifier\n",
    "\n",
    "for i in range(1,7):\n",
    "    # Creating a new instance of DecisionTree Classifier to avoid any mixup with previous instance.\n",
    "    clf = RandomForestClassifier()\n",
    "    train_time, predict_test_time, predict_train_score, predict_test_score=train_predict(clf, \n",
    "                                                  X_train[0:(50*i)],\n",
    "                                                  y_train[0:(50*i)],\n",
    "                                                  X_test,\n",
    "                                                  y_test)\n",
    "    project_data_matrix.iloc[0,i-1]=train_time\n",
    "    project_data_matrix.iloc[1,i-1]=predict_test_time\n",
    "    project_data_matrix.iloc[2,i-1]=predict_train_score\n",
    "    project_data_matrix.iloc[3,i-1]=predict_test_score\n",
    "    test_f1score_time_matrix['TST_F1_RF'][i-1]=predict_test_score\n",
    "    test_f1score_time_matrix['TST_TIME_RF'][i-1]=predict_test_time\n",
    "    \n",
    "print \"\\n\",'-'*80  \n",
    "print \"Random Forest data matrix\"\n",
    "print project_data_matrix\n",
    "print '-'*80 "
   ]
  },
  {
   "cell_type": "code",
   "execution_count": 247,
   "metadata": {
    "collapsed": false,
    "scrolled": true
   },
   "outputs": [
    {
     "name": "stdout",
     "output_type": "stream",
     "text": [
      "\n",
      "--------------------------------------------------------------------------------\n",
      "Accuracy score and time taken for various models, given diffferent training data sizes.\n",
      "\n",
      "--------------------------------------------------------------------------------\n",
      "    TST_F1_SVC TST_F1_AB TST_F1_RF  Trng_size TST_TIME_SVC TST_TIME_AB TST_TIME_RF\n",
      "50     0.80503   0.77037   0.77241         50      0.00063     0.00034     0.00085\n",
      "100    0.80503   0.75000   0.66667        100      0.00083     0.00036     0.00090\n",
      "150    0.80503   0.66667   0.79032        150      0.00120     0.00032     0.00110\n",
      "200    0.80503   0.66667   0.72581        200      0.00177     0.00032     0.00107\n",
      "250    0.80503   0.71667   0.74797        250      0.00188     0.00044     0.00103\n",
      "300    0.80503   0.66142   0.80882        300      0.00191     0.00037     0.00093\n",
      "\n",
      "--------------------------------------------------------------------------------\n"
     ]
    },
    {
     "data": {
      "image/png": "[encoded data removed]",
      "text/plain": [
       "<matplotlib.figure.Figure at 0x1092dbf10>"
      ]
     },
     "metadata": {},
     "output_type": "display_data"
    }
   ],
   "source": [
    "# Display results data below.\n",
    "print \"\\n\",'-'*80\n",
    "print \"Accuracy score and time taken for various models, given diffferent training data sizes.\"\n",
    "print \"\\n\",'-'*80\n",
    "print test_f1score_time_matrix\n",
    "print \"\\n\",'-'*80  \n",
    "\n",
    "plt.plot(test_f1score_time_matrix['Trng_size'].values,test_f1score_time_matrix['TST_F1_SVC'].values,label='SVC')\n",
    "plt.plot(test_f1score_time_matrix['Trng_size'].values,test_f1score_time_matrix['TST_F1_AB'].values,label='AB')\n",
    "plt.plot(test_f1score_time_matrix['Trng_size'].values,test_f1score_time_matrix['TST_F1_RF'].values,label='RF')\n",
    "plt.legend(loc='lower right', shadow=True)\n",
    "plt.ylabel(\"F1 Scores for Test Set\")\n",
    "plt.xlabel(\"Size of Training set\")\n",
    "plt.show()\n",
    "\n"
   ]
  },
  {
   "cell_type": "markdown",
   "metadata": {},
   "source": [
    "## 5. Choosing the Best Model\n",
    "\n",
    "- Based on the experiments you performed earlier, in 1-2 paragraphs explain to the board of supervisors what single model you chose as the best model. Which model is generally the most appropriate based on the available data, limited resources, cost, and performance?\n",
    "- In 1-2 paragraphs explain to the board of supervisors in layman's terms how the final model chosen is supposed to work (for example if you chose a Decision Tree or Support Vector Machine, how does it make a prediction).\n",
    "- Fine-tune the model. Use Gridsearch with at least one important parameter tuned and with at least 3 settings. Use the entire training set for this.\n",
    "- What is the model's final F<sub>1</sub> score?"
   ]
  },
  {
   "cell_type": "code",
   "execution_count": 248,
   "metadata": {
    "collapsed": false
   },
   "outputs": [
    {
     "name": "stdout",
     "output_type": "stream",
     "text": [
      "[[  1.   0.   1. ...,   4.   1.  22.]\n",
      " [  1.   0.   1. ...,   1.   5.   0.]\n",
      " [  1.   0.   1. ...,   1.   5.   8.]\n",
      " ..., \n",
      " [  1.   0.   0. ...,   1.   1.   0.]\n",
      " [  1.   0.   1. ...,   2.   4.   8.]\n",
      " [  1.   0.   0. ...,   1.   3.  20.]]\n",
      "F1 score: 0.82119205298\n",
      "Best params: {'C': 100, 'gamma': 0.0001}\n"
     ]
    }
   ],
   "source": [
    "from sklearn.grid_search import GridSearchCV \n",
    "from sklearn.svm import SVC\n",
    "from sklearn.cross_validation import StratifiedShuffleSplit\n",
    "from sklearn.metrics import f1_score\n",
    "from sklearn.metrics import make_scorer\n",
    "\n",
    "\n",
    "\n",
    "f1_scorer = make_scorer(f1_score, pos_label=\"yes\")\n",
    "parameters = { 'C' : [ 0.1, 1, 10, 100, 1000 ], 'gamma' : [ 0.00001, 0.0001, 0.01, 1, 10 ] } # Some SVC parameters\n",
    "ssscv = StratifiedShuffleSplit( y_train, n_iter=3, test_size=0.25) # 1. Let's build a stratified shuffle object\n",
    "\n",
    "grid = GridSearchCV( SVC(), parameters, cv = ssscv , scoring=f1_scorer) # 2. Let's now we pass the object and the parameters to grid search\n",
    "grid.fit( X_train, y_train ) # 3. Let's fit it\n",
    "best = grid.best_estimator_ # 4. Let's reteieve the best estimator found\n",
    "\n",
    "print best.support_vectors_ \n",
    "y_pred = best.predict( X_test ) # 5. Let's make predictions!\n",
    "\n",
    "print \"F1 score: {}\".format( f1_score( y_test, y_pred, pos_label = 'yes' ))\n",
    "print \"Best params: {}\".format( grid.best_params_ )"
   ]
  }
 ],
 "metadata": {
  "kernelspec": {
   "display_name": "Python 2",
   "language": "python",
   "name": "python2"
  },
  "language_info": {
   "codemirror_mode": {
    "name": "ipython",
    "version": 2
   },
   "file_extension": ".py",
   "mimetype": "text/x-python",
   "name": "python",
   "nbconvert_exporter": "python",
   "pygments_lexer": "ipython2",
   "version": "2.7.10"
  }
 },
 "nbformat": 4,
 "nbformat_minor": 0
}
