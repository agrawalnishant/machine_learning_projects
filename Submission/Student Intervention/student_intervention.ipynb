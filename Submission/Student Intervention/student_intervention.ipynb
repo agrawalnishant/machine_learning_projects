{
 "cells": [
  {
   "cell_type": "markdown",
   "metadata": {},
   "source": [
    "# Project 2: Supervised Learning\n",
    "### Building a Student Intervention System"
   ]
  },
  {
   "cell_type": "markdown",
   "metadata": {},
   "source": [
    "## 1. Classification vs Regression\n",
    "\n",
    "Your goal is to identify students who might need early intervention - which type of supervised machine learning problem is this, classification or regression? Why?"
   ]
  },
  {
   "cell_type": "markdown",
   "metadata": {},
   "source": [
    "## 2. Exploring the Data\n",
    "\n",
    "Let's go ahead and read in the student dataset first.\n",
    "\n",
    "_To execute a code cell, click inside it and press **Shift+Enter**._"
   ]
  },
  {
   "cell_type": "code",
   "execution_count": 574,
   "metadata": {
    "collapsed": false
   },
   "outputs": [],
   "source": [
    "get_ipython().magic(u'matplotlib inline')\n",
    "# Import libraries\n",
    "import numpy as np\n",
    "import pandas as pd\n",
    "import matplotlib\n",
    "import matplotlib.pyplot as plt\n",
    "from time import time\n",
    "from __future__ import division\n",
    "from sklearn import cross_validation\n",
    "\n",
    "from sklearn.metrics import f1_score\n"
   ]
  },
  {
   "cell_type": "code",
   "execution_count": 575,
   "metadata": {
    "collapsed": false
   },
   "outputs": [
    {
     "name": "stdout",
     "output_type": "stream",
     "text": [
      "Student data read successfully!\n"
     ]
    }
   ],
   "source": [
    "# Read student data\n",
    "student_data = pd.read_csv(\"student-data.csv\")\n",
    "print \"Student data read successfully!\"\n",
    "# Note: The last column 'passed' is the target/label, all other are feature columns"
   ]
  },
  {
   "cell_type": "markdown",
   "metadata": {},
   "source": [
    "Now, can you find out the following facts about the dataset?\n",
    "- Total number of students\n",
    "- Number of students who passed\n",
    "- Number of students who failed\n",
    "- Graduation rate of the class (%)\n",
    "- Number of features\n",
    "\n",
    "_Use the code block below to compute these values. Instructions/steps are marked using **TODO**s._"
   ]
  },
  {
   "cell_type": "code",
   "execution_count": 576,
   "metadata": {
    "collapsed": false
   },
   "outputs": [
    {
     "name": "stdout",
     "output_type": "stream",
     "text": [
      "Total number of students: 395\n",
      "Number of students who passed: 265\n",
      "Number of students who failed: 130\n",
      "Number of features: 30\n",
      "Graduation rate of the class: 67.09%\n"
     ]
    }
   ],
   "source": [
    "# TODO: Compute desired values - replace each '?' with an appropriate expression/function call\n",
    "n_students = student_data.shape[0]\n",
    "n_features = student_data.shape[1]-1\n",
    "n_passed = student_data.loc[student_data['passed']=='yes'].shape[0]\n",
    "n_failed = n_students-n_passed\n",
    "grad_rate = 100*n_passed/n_students\n",
    "print \"Total number of students: {}\".format(n_students)\n",
    "print \"Number of students who passed: {}\".format(n_passed)\n",
    "print \"Number of students who failed: {}\".format(n_failed)\n",
    "print \"Number of features: {}\".format(n_features)\n",
    "print \"Graduation rate of the class: {:.2f}%\".format(grad_rate)"
   ]
  },
  {
   "cell_type": "markdown",
   "metadata": {},
   "source": [
    "## 3. Preparing the Data\n",
    "In this section, we will prepare the data for modeling, training and testing.\n",
    "\n",
    "### Identify feature and target columns\n",
    "It is often the case that the data you obtain contains non-numeric features. This can be a problem, as most machine learning algorithms expect numeric data to perform computations with.\n",
    "\n",
    "Let's first separate our data into feature and target columns, and see if any features are non-numeric.<br/>\n",
    "**Note**: For this dataset, the last column (`'passed'`) is the target or label we are trying to predict."
   ]
  },
  {
   "cell_type": "code",
   "execution_count": 577,
   "metadata": {
    "collapsed": false
   },
   "outputs": [
    {
     "name": "stdout",
     "output_type": "stream",
     "text": [
      "Feature column(s):-\n",
      "['school', 'sex', 'age', 'address', 'famsize', 'Pstatus', 'Medu', 'Fedu', 'Mjob', 'Fjob', 'reason', 'guardian', 'traveltime', 'studytime', 'failures', 'schoolsup', 'famsup', 'paid', 'activities', 'nursery', 'higher', 'internet', 'romantic', 'famrel', 'freetime', 'goout', 'Dalc', 'Walc', 'health', 'absences']\n",
      "Target column: passed\n",
      "\n",
      "Feature values:-\n",
      "  school sex  age address famsize Pstatus  Medu  Fedu     Mjob      Fjob  \\\n",
      "0     GP   F   18       U     GT3       A     4     4  at_home   teacher   \n",
      "1     GP   F   17       U     GT3       T     1     1  at_home     other   \n",
      "2     GP   F   15       U     LE3       T     1     1  at_home     other   \n",
      "3     GP   F   15       U     GT3       T     4     2   health  services   \n",
      "4     GP   F   16       U     GT3       T     3     3    other     other   \n",
      "\n",
      "    ...    higher internet  romantic  famrel  freetime goout Dalc Walc health  \\\n",
      "0   ...       yes       no        no       4         3     4    1    1      3   \n",
      "1   ...       yes      yes        no       5         3     3    1    1      3   \n",
      "2   ...       yes      yes        no       4         3     2    2    3      3   \n",
      "3   ...       yes      yes       yes       3         2     2    1    1      5   \n",
      "4   ...       yes       no        no       4         3     2    1    2      5   \n",
      "\n",
      "  absences  \n",
      "0        6  \n",
      "1        4  \n",
      "2       10  \n",
      "3        2  \n",
      "4        4  \n",
      "\n",
      "[5 rows x 30 columns]\n"
     ]
    }
   ],
   "source": [
    "# Extract feature (X) and target (y) columns\n",
    "feature_cols = list(student_data.columns[:-1])  # all columns but last are features\n",
    "target_col = student_data.columns[-1]  # last column is the target/label\n",
    "print \"Feature column(s):-\\n{}\".format(feature_cols)\n",
    "print \"Target column: {}\".format(target_col)\n",
    "\n",
    "X_all = student_data[feature_cols]  # feature values for all students\n",
    "y_all = student_data[target_col]  # corresponding targets/labels\n",
    "print \"\\nFeature values:-\"\n",
    "print X_all.head()  # print the first 5 rows"
   ]
  },
  {
   "cell_type": "markdown",
   "metadata": {},
   "source": [
    "### Preprocess feature columns\n",
    "\n",
    "As you can see, there are several non-numeric columns that need to be converted! Many of them are simply `yes`/`no`, e.g. `internet`. These can be reasonably converted into `1`/`0` (binary) values.\n",
    "\n",
    "Other columns, like `Mjob` and `Fjob`, have more than two values, and are known as _categorical variables_. The recommended way to handle such a column is to create as many columns as possible values (e.g. `Fjob_teacher`, `Fjob_other`, `Fjob_services`, etc.), and assign a `1` to one of them and `0` to all others.\n",
    "\n",
    "These generated columns are sometimes called _dummy variables_, and we will use the [`pandas.get_dummies()`](http://pandas.pydata.org/pandas-docs/stable/generated/pandas.get_dummies.html?highlight=get_dummies#pandas.get_dummies) function to perform this transformation."
   ]
  },
  {
   "cell_type": "code",
   "execution_count": 578,
   "metadata": {
    "collapsed": false
   },
   "outputs": [
    {
     "name": "stdout",
     "output_type": "stream",
     "text": [
      "Processed feature columns (48):-\n",
      "['school_GP', 'school_MS', 'sex_F', 'sex_M', 'age', 'address_R', 'address_U', 'famsize_GT3', 'famsize_LE3', 'Pstatus_A', 'Pstatus_T', 'Medu', 'Fedu', 'Mjob_at_home', 'Mjob_health', 'Mjob_other', 'Mjob_services', 'Mjob_teacher', 'Fjob_at_home', 'Fjob_health', 'Fjob_other', 'Fjob_services', 'Fjob_teacher', 'reason_course', 'reason_home', 'reason_other', 'reason_reputation', 'guardian_father', 'guardian_mother', 'guardian_other', 'traveltime', 'studytime', 'failures', 'schoolsup', 'famsup', 'paid', 'activities', 'nursery', 'higher', 'internet', 'romantic', 'famrel', 'freetime', 'goout', 'Dalc', 'Walc', 'health', 'absences']\n"
     ]
    }
   ],
   "source": [
    "# Preprocess feature columns\n",
    "def preprocess_features(X):\n",
    "    \n",
    "    outX = pd.DataFrame(index=X.index)  # output dataframe, initially empty\n",
    "    # Check each column\n",
    "    for col, col_data in X.iteritems():\n",
    "        # If data type is non-numeric, try to replace all yes/no values with 1/0\n",
    "        if col_data.dtype == object:\n",
    "            col_data = col_data.replace(['yes', 'no'], [1, 0])\n",
    "        # Note: This should change the data type for yes/no columns to int\n",
    "\n",
    "        # If still non-numeric, convert to one or more dummy variables\n",
    "        if col_data.dtype == object:\n",
    "            col_data = pd.get_dummies(col_data, prefix=col)  # e.g. 'school' => 'school_GP', 'school_MS'\n",
    "\n",
    "        outX = outX.join(col_data)  # collect column(s) in output dataframe\n",
    "\n",
    "    return outX\n",
    "\n",
    "X_all = preprocess_features(X_all)\n",
    "print \"Processed feature columns ({}):-\\n{}\".format(len(X_all.columns), list(X_all.columns))\n",
    "\n",
    "#plt.scatter(X_all[:,0],X_all[:,1],color='r')"
   ]
  },
  {
   "cell_type": "markdown",
   "metadata": {},
   "source": [
    "### Split data into training and test sets\n",
    "\n",
    "So far, we have converted all _categorical_ features into numeric values. In this next step, we split the data (both features and corresponding labels) into training and test sets."
   ]
  },
  {
   "cell_type": "code",
   "execution_count": 579,
   "metadata": {
    "collapsed": false
   },
   "outputs": [],
   "source": [
    "# First, decide how many training vs test samples you want\n",
    "#num_all = student_data.shape[0]  # same as len(student_data)\n",
    "#num_train = 300  # about 75% of the data\n",
    "#num_test = num_all - num_train\n",
    "X_train, X_test, y_train, y_test = cross_validation.train_test_split(X_all, y_all, test_size=0.25, random_state=0)\n"
   ]
  },
  {
   "cell_type": "code",
   "execution_count": 580,
   "metadata": {
    "collapsed": false
   },
   "outputs": [
    {
     "name": "stdout",
     "output_type": "stream",
     "text": [
      "Visualizing all features\n"
     ]
    },
    {
     "data": {
      "image/png": "[encoded data removed]",
      "text/plain": [
       "<matplotlib.figure.Figure at 0x10ac9e710>"
      ]
     },
     "metadata": {},
     "output_type": "display_data"
    },
    {
     "name": "stdout",
     "output_type": "stream",
     "text": [
      "Since variance becomes negligible around 30, hence will use n_components=30 for pca\n",
      "done in 0.00080s\n",
      "Training set: (296, 30) samples\n",
      "Test set: (99, 30) samples\n"
     ]
    }
   ],
   "source": [
    "\n",
    "from sklearn.decomposition import RandomizedPCA\n",
    "\n",
    "# Reduce features\n",
    "pca = RandomizedPCA(whiten=True).fit(X_train)\n",
    "print \"Visualizing all features\"\n",
    "pc_df=pd.DataFrame({\"pca\":pca.explained_variance_ratio_})\n",
    "plt.plot(pc_df)\n",
    "plt.ylabel('pca (exp vari. ratios)')\n",
    "plt.xlabel('features')\n",
    "plt.show()\n",
    "\n",
    "print \"Since variance becomes negligible around 30, hence will use n_components=30 for pca\"\n",
    "\n",
    "# Reduce features\n",
    "pca = RandomizedPCA(n_components=30,whiten=True).fit(X_train)\n",
    "\n",
    "t0 = time()\n",
    "X_train_pca = pca.transform(X_train)\n",
    "X_test_pca = pca.transform(X_test)\n",
    "print \"done in %0.5fs\" % (time() - t0)\n",
    "# TODO: Then, select features (X) and corresponding labels (y) for the training and test sets\n",
    "# Note: Shuffle the data or randomly select samples to avoid any bias due to ordering in the dataset\n",
    "\n",
    "print \"Training set: {} samples\".format(X_train_pca.shape)\n",
    "print \"Test set: {} samples\".format(X_test_pca.shape)\n",
    "# Note: If you need a validation set, extract it from within training data\n",
    "\n",
    "test_f1score_matrix=pd.DataFrame(columns=['SVC','AB','RF'],index=['110','130','150','170','190','210','230','250','270','290'])"
   ]
  },
  {
   "cell_type": "markdown",
   "metadata": {},
   "source": [
    "## 4. Training and Evaluating Models\n",
    "Choose 3 supervised learning models that are available in scikit-learn, and appropriate for this problem. For each model:\n",
    "\n",
    "- What are the general applications of this model? What are its strengths and weaknesses?\n",
    "- Given what you know about the data so far, why did you choose this model to apply?\n",
    "- Fit this model to the training data, try to predict labels (for both training and test sets), and measure the F<sub>1</sub> score. Repeat this process with different training set sizes (100, 200, 300), keeping test set constant.\n",
    "\n",
    "Produce a table showing training time, prediction time, F<sub>1</sub> score on training set and F<sub>1</sub> score on test set, for each training set size.\n",
    "\n",
    "Note: You need to produce 3 such tables - one for each model."
   ]
  },
  {
   "cell_type": "code",
   "execution_count": 581,
   "metadata": {
    "collapsed": false
   },
   "outputs": [
    {
     "name": "stdout",
     "output_type": "stream",
     "text": [
      "Training SVC...\n",
      "Done!\n",
      "Training time (secs): 0.00632\n",
      "SVC(C=10, cache_size=200, class_weight=None, coef0=0.0,\n",
      "  decision_function_shape=None, degree=3, gamma=0.001, kernel='rbf',\n",
      "  max_iter=-1, probability=False, random_state=None, shrinking=True,\n",
      "  tol=0.001, verbose=False)\n"
     ]
    }
   ],
   "source": [
    "# Train a model\n",
    "import time\n",
    "\n",
    "def train_classifier(clf, X_train, y_train):\n",
    "    print \"Training {}...\".format(clf.__class__.__name__)\n",
    "    start = time.time()\n",
    "    clf.fit(X_train, y_train)\n",
    "    end = time.time()\n",
    "    print \"Done!\\nTraining time (secs): {:.5f}\".format(end - start)\n",
    "\n",
    "# TODO: Choose a model, import it and instantiate an object\n",
    "from sklearn.svm import SVC\n",
    "clf = SVC(C=10,gamma=0.001)\n",
    "\n",
    "\n",
    "# Fit model to training data\n",
    "train_classifier(clf, X_train_pca, y_train)  # note: using entire training set here\n",
    "#print clf  # you can inspect the learned model by printing it\n",
    "\n",
    "print clf\n"
   ]
  },
  {
   "cell_type": "code",
   "execution_count": 582,
   "metadata": {
    "collapsed": false
   },
   "outputs": [
    {
     "name": "stdout",
     "output_type": "stream",
     "text": [
      "Predicting labels using SVC...\n",
      "Done!\n",
      "Prediction time (secs): 0.00372\n",
      "F1 score for training set: 0.836518046709\n"
     ]
    }
   ],
   "source": [
    "# Predict on training set and compute F1 score\n",
    "from sklearn.metrics import f1_score\n",
    "\n",
    "def predict_labels(clf, features, target):\n",
    "    print \"Predicting labels using {}...\".format(clf.__class__.__name__)\n",
    "    start = time.time()\n",
    "    y_pred = clf.predict(features)\n",
    "    end = time.time()\n",
    "    print \"Done!\\nPrediction time (secs): {:.5f}\".format(end - start)\n",
    "    return f1_score(target.values, y_pred, pos_label='yes')\n",
    "\n",
    "train_f1_score = predict_labels(clf, X_train_pca, y_train)\n",
    "print \"F1 score for training set: {}\".format(train_f1_score)"
   ]
  },
  {
   "cell_type": "code",
   "execution_count": 583,
   "metadata": {
    "collapsed": false
   },
   "outputs": [
    {
     "name": "stdout",
     "output_type": "stream",
     "text": [
      "Predicting labels using SVC...\n",
      "Done!\n",
      "Prediction time (secs): 0.00162\n",
      "F1 score for test set: 0.797385620915\n"
     ]
    }
   ],
   "source": [
    "# Predict on test data\n",
    "print \"F1 score for test set: {}\".format(predict_labels(clf, X_test_pca, y_test))"
   ]
  },
  {
   "cell_type": "code",
   "execution_count": 584,
   "metadata": {
    "collapsed": false
   },
   "outputs": [
    {
     "name": "stdout",
     "output_type": "stream",
     "text": [
      "------------------------------------------\n",
      "Training set size: 110\n",
      "Training SVC...\n",
      "Done!\n",
      "Training time (secs): 0.00183\n",
      "Predicting labels using SVC...\n",
      "Done!\n",
      "Prediction time (secs): 0.00090\n",
      "F1 score for training set: 0.807228915663\n",
      "Predicting labels using SVC...\n",
      "Done!\n",
      "Prediction time (secs): 0.00074\n",
      "F1 score for test set: 0.77027027027\n",
      "------------------------------------------\n",
      "Training set size: 130\n",
      "Training SVC...\n",
      "Done!\n",
      "Training time (secs): 0.00148\n",
      "Predicting labels using SVC...\n",
      "Done!\n",
      "Prediction time (secs): 0.00086\n",
      "F1 score for training set: 0.8125\n",
      "Predicting labels using SVC...\n",
      "Done!\n",
      "Prediction time (secs): 0.00069\n",
      "F1 score for test set: 0.775510204082\n",
      "------------------------------------------\n",
      "Training set size: 150\n",
      "Training SVC...\n",
      "Done!\n",
      "Training time (secs): 0.00198\n",
      "Predicting labels using SVC...\n",
      "Done!\n",
      "Prediction time (secs): 0.00117\n",
      "F1 score for training set: 0.810810810811\n",
      "Predicting labels using SVC...\n",
      "Done!\n",
      "Prediction time (secs): 0.00080\n",
      "F1 score for test set: 0.778523489933\n",
      "------------------------------------------\n",
      "Training set size: 170\n",
      "Training SVC...\n",
      "Done!\n",
      "Training time (secs): 0.00229\n",
      "Predicting labels using SVC...\n",
      "Done!\n",
      "Prediction time (secs): 0.00145\n",
      "F1 score for training set: 0.801526717557\n",
      "Predicting labels using SVC...\n",
      "Done!\n",
      "Prediction time (secs): 0.00084\n",
      "F1 score for test set: 0.789473684211\n",
      "------------------------------------------\n",
      "Training set size: 190\n",
      "Training SVC...\n",
      "Done!\n",
      "Training time (secs): 0.00229\n",
      "Predicting labels using SVC...\n",
      "Done!\n",
      "Prediction time (secs): 0.00166\n",
      "F1 score for training set: 0.818791946309\n",
      "Predicting labels using SVC...\n",
      "Done!\n",
      "Prediction time (secs): 0.00107\n",
      "F1 score for test set: 0.797385620915\n",
      "------------------------------------------\n",
      "Training set size: 210\n",
      "Training SVC...\n",
      "Done!\n",
      "Training time (secs): 0.00340\n",
      "Predicting labels using SVC...\n",
      "Done!\n",
      "Prediction time (secs): 0.00197\n",
      "F1 score for training set: 0.826347305389\n",
      "Predicting labels using SVC...\n",
      "Done!\n",
      "Prediction time (secs): 0.00112\n",
      "F1 score for test set: 0.78431372549\n",
      "------------------------------------------\n",
      "Training set size: 230\n",
      "Training SVC...\n",
      "Done!\n",
      "Training time (secs): 0.00384\n",
      "Predicting labels using SVC...\n",
      "Done!\n",
      "Prediction time (secs): 0.00221\n",
      "F1 score for training set: 0.825136612022\n",
      "Predicting labels using SVC...\n",
      "Done!\n",
      "Prediction time (secs): 0.00098\n",
      "F1 score for test set: 0.797385620915\n",
      "------------------------------------------\n",
      "Training set size: 250\n",
      "Training SVC...\n",
      "Done!\n",
      "Training time (secs): 0.00440\n",
      "Predicting labels using SVC...\n",
      "Done!\n",
      "Prediction time (secs): 0.00287\n",
      "F1 score for training set: 0.834605597964\n",
      "Predicting labels using SVC...\n",
      "Done!\n",
      "Prediction time (secs): 0.00107\n",
      "F1 score for test set: 0.807947019868\n",
      "------------------------------------------\n",
      "Training set size: 270\n",
      "Training SVC...\n",
      "Done!\n",
      "Training time (secs): 0.00524\n",
      "Predicting labels using SVC...\n",
      "Done!\n",
      "Prediction time (secs): 0.00255\n",
      "F1 score for training set: 0.836448598131\n",
      "Predicting labels using SVC...\n",
      "Done!\n",
      "Prediction time (secs): 0.00117\n",
      "F1 score for test set: 0.797385620915\n",
      "------------------------------------------\n",
      "Training set size: 290\n",
      "Training SVC...\n",
      "Done!\n",
      "Training time (secs): 0.00520\n",
      "Predicting labels using SVC...\n",
      "Done!\n",
      "Prediction time (secs): 0.00370\n",
      "F1 score for training set: 0.83660130719\n",
      "Predicting labels using SVC...\n",
      "Done!\n",
      "Prediction time (secs): 0.00136\n",
      "F1 score for test set: 0.797385620915\n"
     ]
    }
   ],
   "source": [
    "# Train and predict using different training set sizes\n",
    "def train_predict(clf, X_train, y_train, X_test, y_test):\n",
    "    print \"------------------------------------------\"\n",
    "    print \"Training set size: {}\".format(len(X_train))\n",
    "    train_classifier(clf, X_train, y_train)\n",
    "    print \"F1 score for training set: {}\".format(predict_labels(clf, X_train, y_train))\n",
    "    test_score=predict_labels(clf, X_test, y_test)\n",
    "    print \"F1 score for test set: {}\".format(test_score)\n",
    "    return test_score\n",
    "\n",
    "for i in range(1,11):\n",
    "    test_f1score_matrix['SVC'][i-1]=train_predict(clf, X_train_pca[0:90+(20*i)], y_train[0:90+(20*i)],X_test_pca, y_test)\n",
    "#test_f1score_matrix['SVC'][1]=train_predict(clf, X_train_pca[0:5], y_train[0:5],X_test_pca, y_test)\n",
    "#test_f1score_matrix['SVC'][2]=train_predict(clf, X_train_pca[0:100], y_train[0:100],X_test_pca, y_test)\n",
    "#test_f1score_matrix['SVC'][3]=train_predict(clf, X_train_pca[0:200], y_train[0:200],X_test_pca, y_test)\n",
    "#test_f1score_matrix['SVC'][4]=train_predict(clf, X_train_pca[0:290], y_train[0:290],X_test_pca, y_test)\n",
    "# TODO: Run the helper function above for desired subsets of training data\n",
    "# Note: Keep the test set constant"
   ]
  },
  {
   "cell_type": "code",
   "execution_count": null,
   "metadata": {
    "collapsed": true
   },
   "outputs": [],
   "source": []
  },
  {
   "cell_type": "code",
   "execution_count": 585,
   "metadata": {
    "collapsed": false
   },
   "outputs": [
    {
     "name": "stdout",
     "output_type": "stream",
     "text": [
      "Training AdaBoostClassifier...\n",
      "Done!\n",
      "Training time (secs): 0.03015\n",
      "AdaBoostClassifier(algorithm='SAMME.R',\n",
      "          base_estimator=DecisionTreeClassifier(class_weight=None, criterion='gini', max_depth=1,\n",
      "            max_features=15, max_leaf_nodes=None, min_samples_leaf=2,\n",
      "            min_samples_split=2, min_weight_fraction_leaf=0.0,\n",
      "            presort=True, random_state=None, splitter='best'),\n",
      "          learning_rate=0.1, n_estimators=10, random_state=None)\n",
      "Predicting labels using AdaBoostClassifier...\n",
      "Done!\n",
      "Prediction time (secs): 0.00146\n",
      "F1 score for training set: 0.818548387097\n",
      "Predicting labels using AdaBoostClassifier...\n",
      "Done!\n",
      "Prediction time (secs): 0.00111\n",
      "F1 score for test set: 0.775\n",
      "------------------------------------------\n",
      "Training set size: 110\n",
      "Training AdaBoostClassifier...\n",
      "Done!\n",
      "Training time (secs): 0.02073\n",
      "Predicting labels using AdaBoostClassifier...\n",
      "Done!\n",
      "Prediction time (secs): 0.00123\n",
      "F1 score for training set: 0.821428571429\n",
      "Predicting labels using AdaBoostClassifier...\n",
      "Done!\n",
      "Prediction time (secs): 0.00119\n",
      "F1 score for test set: 0.753246753247\n",
      "------------------------------------------\n",
      "Training set size: 130\n",
      "Training AdaBoostClassifier...\n",
      "Done!\n",
      "Training time (secs): 0.02146\n",
      "Predicting labels using AdaBoostClassifier...\n",
      "Done!\n",
      "Prediction time (secs): 0.00140\n",
      "F1 score for training set: 0.794117647059\n",
      "Predicting labels using AdaBoostClassifier...\n",
      "Done!\n",
      "Prediction time (secs): 0.00117\n",
      "F1 score for test set: 0.777070063694\n",
      "------------------------------------------\n",
      "Training set size: 150\n",
      "Training AdaBoostClassifier...\n",
      "Done!\n",
      "Training time (secs): 0.02157\n",
      "Predicting labels using AdaBoostClassifier...\n",
      "Done!\n",
      "Prediction time (secs): 0.00126\n",
      "F1 score for training set: 0.803418803419\n",
      "Predicting labels using AdaBoostClassifier...\n",
      "Done!\n",
      "Prediction time (secs): 0.00118\n",
      "F1 score for test set: 0.758169934641\n",
      "------------------------------------------\n",
      "Training set size: 170\n",
      "Training AdaBoostClassifier...\n",
      "Done!\n",
      "Training time (secs): 0.02202\n",
      "Predicting labels using AdaBoostClassifier...\n",
      "Done!\n",
      "Prediction time (secs): 0.00112\n",
      "F1 score for training set: 0.802919708029\n",
      "Predicting labels using AdaBoostClassifier...\n",
      "Done!\n",
      "Prediction time (secs): 0.00105\n",
      "F1 score for test set: 0.782051282051\n",
      "------------------------------------------\n",
      "Training set size: 190\n",
      "Training AdaBoostClassifier...\n",
      "Done!\n",
      "Training time (secs): 0.02161\n",
      "Predicting labels using AdaBoostClassifier...\n",
      "Done!\n",
      "Prediction time (secs): 0.00125\n",
      "F1 score for training set: 0.805111821086\n",
      "Predicting labels using AdaBoostClassifier...\n",
      "Done!\n",
      "Prediction time (secs): 0.00122\n",
      "F1 score for test set: 0.767295597484\n",
      "------------------------------------------\n",
      "Training set size: 210\n",
      "Training AdaBoostClassifier...\n",
      "Done!\n",
      "Training time (secs): 0.02284\n",
      "Predicting labels using AdaBoostClassifier...\n",
      "Done!\n",
      "Prediction time (secs): 0.00122\n",
      "F1 score for training set: 0.806916426513\n",
      "Predicting labels using AdaBoostClassifier...\n",
      "Done!\n",
      "Prediction time (secs): 0.00114\n",
      "F1 score for test set: 0.7625\n",
      "------------------------------------------\n",
      "Training set size: 230\n",
      "Training AdaBoostClassifier...\n",
      "Done!\n",
      "Training time (secs): 0.02272\n",
      "Predicting labels using AdaBoostClassifier...\n",
      "Done!\n",
      "Prediction time (secs): 0.00134\n",
      "F1 score for training set: 0.809399477807\n",
      "Predicting labels using AdaBoostClassifier...\n",
      "Done!\n",
      "Prediction time (secs): 0.00111\n",
      "F1 score for test set: 0.770186335404\n",
      "------------------------------------------\n",
      "Training set size: 250\n",
      "Training AdaBoostClassifier...\n",
      "Done!\n",
      "Training time (secs): 0.02449\n",
      "Predicting labels using AdaBoostClassifier...\n",
      "Done!\n",
      "Prediction time (secs): 0.00130\n",
      "F1 score for training set: 0.816425120773\n",
      "Predicting labels using AdaBoostClassifier...\n",
      "Done!\n",
      "Prediction time (secs): 0.00121\n",
      "F1 score for test set: 0.779874213836\n",
      "------------------------------------------\n",
      "Training set size: 270\n",
      "Training AdaBoostClassifier...\n",
      "Done!\n",
      "Training time (secs): 0.02439\n",
      "Predicting labels using AdaBoostClassifier...\n",
      "Done!\n",
      "Prediction time (secs): 0.00174\n",
      "F1 score for training set: 0.824053452116\n",
      "Predicting labels using AdaBoostClassifier...\n",
      "Done!\n",
      "Prediction time (secs): 0.00126\n",
      "F1 score for test set: 0.754716981132\n",
      "------------------------------------------\n",
      "Training set size: 290\n",
      "Training AdaBoostClassifier...\n",
      "Done!\n",
      "Training time (secs): 0.02657\n",
      "Predicting labels using AdaBoostClassifier...\n",
      "Done!\n",
      "Prediction time (secs): 0.00170\n",
      "F1 score for training set: 0.814814814815\n",
      "Predicting labels using AdaBoostClassifier...\n",
      "Done!\n",
      "Prediction time (secs): 0.00118\n",
      "F1 score for test set: 0.775\n"
     ]
    }
   ],
   "source": [
    "# TODO: Train and predict using two other models\n",
    "## Using AdaBoost\n",
    "from sklearn.ensemble import AdaBoostClassifier\n",
    "from sklearn.tree import DecisionTreeClassifier\n",
    "\n",
    "dt_clf=DecisionTreeClassifier(presort=True, min_samples_leaf=2,max_depth=1,max_features=15)\n",
    "clf = AdaBoostClassifier(dt_clf,n_estimators=10,learning_rate=0.1)\n",
    "# Fit model to training data\n",
    "train_classifier(clf, X_train_pca, y_train)  # note: using entire training set here\n",
    "print clf\n",
    "\n",
    "train_f1_score = predict_labels(clf, X_train_pca, y_train)\n",
    "print \"F1 score for training set: {}\".format(train_f1_score)\n",
    "\n",
    "# Predict on test data\n",
    "print \"F1 score for test set: {}\".format(predict_labels(clf, X_test_pca, y_test))\n",
    "\n",
    "for i in range(1,11):\n",
    "    test_f1score_matrix['AB'][i-1]=train_predict(clf, X_train_pca[0:90+(20*i)], y_train[0:90+(20*i)],X_test_pca, y_test)\n",
    "#test_f1score_matrix['AB'][1]=train_predict(clf, X_train_pca[0:5], y_train[0:5],X_test_pca, y_test)\n",
    "#test_f1score_matrix['AB'][2]=train_predict(clf, X_train_pca[0:100], y_train[0:100],X_test_pca, y_test)\n",
    "#test_f1score_matrix['AB'][3]=train_predict(clf, X_train_pca[0:200], y_train[0:200],X_test_pca, y_test)\n",
    "#test_f1score_matrix['AB'][4]=train_predict(clf, X_train_pca[0:290], y_train[0:290],X_test_pca, y_test)"
   ]
  },
  {
   "cell_type": "code",
   "execution_count": 586,
   "metadata": {
    "collapsed": false
   },
   "outputs": [
    {
     "name": "stdout",
     "output_type": "stream",
     "text": [
      "Training RandomForestClassifier...\n",
      "Done!\n",
      "Training time (secs): 0.03466\n",
      "RandomForestClassifier(bootstrap=True, class_weight=None, criterion='gini',\n",
      "            max_depth=2, max_features=15, max_leaf_nodes=None,\n",
      "            min_samples_leaf=2, min_samples_split=2,\n",
      "            min_weight_fraction_leaf=0.0, n_estimators=10, n_jobs=1,\n",
      "            oob_score=False, random_state=None, verbose=0,\n",
      "            warm_start=False)\n",
      "Predicting labels using RandomForestClassifier...\n",
      "Done!\n",
      "Prediction time (secs): 0.00113\n",
      "F1 score for training set: 0.838842975207\n",
      "Predicting labels using RandomForestClassifier...\n",
      "Done!\n",
      "Prediction time (secs): 0.00091\n",
      "F1 score for test set: 0.779874213836\n",
      "------------------------------------------\n",
      "Training set size: 110\n",
      "Training RandomForestClassifier...\n",
      "Done!\n",
      "Training time (secs): 0.02515\n",
      "Predicting labels using RandomForestClassifier...\n",
      "Done!\n",
      "Prediction time (secs): 0.00108\n",
      "F1 score for training set: 0.826347305389\n",
      "Predicting labels using RandomForestClassifier...\n",
      "Done!\n",
      "Prediction time (secs): 0.00111\n",
      "F1 score for test set: 0.784810126582\n",
      "------------------------------------------\n",
      "Training set size: 130\n",
      "Training RandomForestClassifier...\n",
      "Done!\n",
      "Training time (secs): 0.02596\n",
      "Predicting labels using RandomForestClassifier...\n",
      "Done!\n",
      "Prediction time (secs): 0.00098\n",
      "F1 score for training set: 0.816326530612\n",
      "Predicting labels using RandomForestClassifier...\n",
      "Done!\n",
      "Prediction time (secs): 0.00102\n",
      "F1 score for test set: 0.781456953642\n",
      "------------------------------------------\n",
      "Training set size: 150\n",
      "Training RandomForestClassifier...\n",
      "Done!\n",
      "Training time (secs): 0.02524\n",
      "Predicting labels using RandomForestClassifier...\n",
      "Done!\n",
      "Prediction time (secs): 0.00111\n",
      "F1 score for training set: 0.843049327354\n",
      "Predicting labels using RandomForestClassifier...\n",
      "Done!\n",
      "Prediction time (secs): 0.00092\n",
      "F1 score for test set: 0.75641025641\n",
      "------------------------------------------\n",
      "Training set size: 170\n",
      "Training RandomForestClassifier...\n",
      "Done!\n",
      "Training time (secs): 0.02691\n",
      "Predicting labels using RandomForestClassifier...\n",
      "Done!\n",
      "Prediction time (secs): 0.00117\n",
      "F1 score for training set: 0.836501901141\n",
      "Predicting labels using RandomForestClassifier...\n",
      "Done!\n",
      "Prediction time (secs): 0.00096\n",
      "F1 score for test set: 0.771241830065\n",
      "------------------------------------------\n",
      "Training set size: 190\n",
      "Training RandomForestClassifier...\n",
      "Done!\n",
      "Training time (secs): 0.02632\n",
      "Predicting labels using RandomForestClassifier...\n",
      "Done!\n",
      "Prediction time (secs): 0.00116\n",
      "F1 score for training set: 0.841379310345\n",
      "Predicting labels using RandomForestClassifier...\n",
      "Done!\n",
      "Prediction time (secs): 0.00112\n",
      "F1 score for test set: 0.771241830065\n",
      "------------------------------------------\n",
      "Training set size: 210\n",
      "Training RandomForestClassifier...\n",
      "Done!\n",
      "Training time (secs): 0.02725\n",
      "Predicting labels using RandomForestClassifier...\n",
      "Done!\n",
      "Prediction time (secs): 0.00101\n",
      "F1 score for training set: 0.852760736196\n",
      "Predicting labels using RandomForestClassifier...\n",
      "Done!\n",
      "Prediction time (secs): 0.00087\n",
      "F1 score for test set: 0.75641025641\n",
      "------------------------------------------\n",
      "Training set size: 230\n",
      "Training RandomForestClassifier...\n",
      "Done!\n",
      "Training time (secs): 0.02755\n",
      "Predicting labels using RandomForestClassifier...\n",
      "Done!\n",
      "Prediction time (secs): 0.00107\n",
      "F1 score for training set: 0.840108401084\n",
      "Predicting labels using RandomForestClassifier...\n",
      "Done!\n",
      "Prediction time (secs): 0.00084\n",
      "F1 score for test set: 0.772151898734\n",
      "------------------------------------------\n",
      "Training set size: 250\n",
      "Training RandomForestClassifier...\n",
      "Done!\n",
      "Training time (secs): 0.02894\n",
      "Predicting labels using RandomForestClassifier...\n",
      "Done!\n",
      "Prediction time (secs): 0.00098\n",
      "F1 score for training set: 0.83950617284\n",
      "Predicting labels using RandomForestClassifier...\n",
      "Done!\n",
      "Prediction time (secs): 0.00090\n",
      "F1 score for test set: 0.789808917197\n",
      "------------------------------------------\n",
      "Training set size: 270\n",
      "Training RandomForestClassifier...\n",
      "Done!\n",
      "Training time (secs): 0.02868\n",
      "Predicting labels using RandomForestClassifier...\n",
      "Done!\n",
      "Prediction time (secs): 0.00110\n",
      "F1 score for training set: 0.847926267281\n",
      "Predicting labels using RandomForestClassifier...\n",
      "Done!\n",
      "Prediction time (secs): 0.00092\n",
      "F1 score for test set: 0.782051282051\n",
      "------------------------------------------\n",
      "Training set size: 290\n",
      "Training RandomForestClassifier...\n",
      "Done!\n",
      "Training time (secs): 0.02861\n",
      "Predicting labels using RandomForestClassifier...\n",
      "Done!\n",
      "Prediction time (secs): 0.00108\n",
      "F1 score for training set: 0.829473684211\n",
      "Predicting labels using RandomForestClassifier...\n",
      "Done!\n",
      "Prediction time (secs): 0.00089\n",
      "F1 score for test set: 0.767295597484\n",
      "          SVC        AB        RF\n",
      "110   0.77027  0.753247   0.78481\n",
      "130   0.77551   0.77707  0.781457\n",
      "150  0.778523   0.75817   0.75641\n",
      "170  0.789474  0.782051  0.771242\n",
      "190  0.797386  0.767296  0.771242\n",
      "210  0.784314    0.7625   0.75641\n",
      "230  0.797386  0.770186  0.772152\n",
      "250  0.807947  0.779874  0.789809\n",
      "270  0.797386  0.754717  0.782051\n",
      "290  0.797386     0.775  0.767296\n",
      "svc  [[0.77027027027027029 0.75324675324675328 0.78481012658227844 110]]\n",
      "values:  Index([u'110', u'130', u'150', u'170', u'190', u'210', u'230', u'250', u'270',\n",
      "       u'290'],\n",
      "      dtype='object')\n",
      "          SVC        AB        RF  count\n",
      "110   0.77027  0.753247   0.78481    110\n",
      "130   0.77551   0.77707  0.781457    130\n",
      "150  0.778523   0.75817   0.75641    150\n",
      "170  0.789474  0.782051  0.771242    170\n",
      "190  0.797386  0.767296  0.771242    190\n",
      "210  0.784314    0.7625   0.75641    210\n",
      "230  0.797386  0.770186  0.772152    230\n",
      "250  0.807947  0.779874  0.789809    250\n",
      "270  0.797386  0.754717  0.782051    270\n",
      "290  0.797386     0.775  0.767296    290\n"
     ]
    },
    {
     "data": {
      "image/png": "[encoded data removed]",
      "text/plain": [
       "<matplotlib.figure.Figure at 0x10a3d7550>"
      ]
     },
     "metadata": {},
     "output_type": "display_data"
    }
   ],
   "source": [
    "# TODO: Train and predict using two other models\n",
    "## Using RandomForest\n",
    "from sklearn.ensemble import RandomForestClassifier\n",
    "\n",
    "clf = RandomForestClassifier(n_estimators=10, max_depth=2,min_samples_leaf=2,max_features=15)\n",
    "# Fit model to training data\n",
    "train_classifier(clf, X_train_pca, y_train)  # note: using entire training set here\n",
    "print clf\n",
    "\n",
    "train_f1_score = predict_labels(clf, X_train_pca, y_train)\n",
    "print \"F1 score for training set: {}\".format(train_f1_score)\n",
    "\n",
    "# Predict on test data\n",
    "print \"F1 score for test set: {}\".format(predict_labels(clf, X_test_pca, y_test))\n",
    "\n",
    "\n",
    "for i in range(1,11):\n",
    "    test_f1score_matrix['RF'][i-1]=train_predict(clf, X_train_pca[0:90+(20*i)], y_train[0:90+(20*i)],X_test_pca, y_test)\n",
    "#test_f1score_matrix['RF'][1]=train_predict(clf, X_train_pca[0:5], y_train[0:5],X_test_pca, y_test)\n",
    "#test_f1score_matrix['RF'][2]=train_predict(clf, X_train_pca[0:100], y_train[0:100],X_test_pca, y_test)\n",
    "#test_f1score_matrix['RF'][3]=train_predict(clf, X_train_pca[0:200], y_train[0:200],X_test_pca, y_test)\n",
    "#test_f1score_matrix['RF'][4]=train_predict(clf, X_train_pca[0:290], y_train[0:290],X_test_pca, y_test)\n",
    "\n",
    "print test_f1score_matrix\n",
    "test_f1score_matrix['count']=[110,130,150,170,190,210,230,250,270,290]\n",
    "print \"svc \", test_f1score_matrix[0:1].values\n",
    "print \"values: \", test_f1score_matrix.index\n",
    "\n",
    "print test_f1score_matrix\n",
    "plt.plot(test_f1score_matrix['count'].values,test_f1score_matrix['SVC'].values,label='SVC')\n",
    "plt.plot(test_f1score_matrix['count'].values,test_f1score_matrix['AB'].values,label='AdaBoost')\n",
    "plt.plot(test_f1score_matrix['count'].values,test_f1score_matrix['RF'].values,label='RandomForest')\n",
    "plt.legend(loc='upper left', shadow=True)\n",
    "plt.show()"
   ]
  },
  {
   "cell_type": "markdown",
   "metadata": {},
   "source": [
    "## 5. Choosing the Best Model\n",
    "\n",
    "- Based on the experiments you performed earlier, in 1-2 paragraphs explain to the board of supervisors what single model you chose as the best model. Which model is generally the most appropriate based on the available data, limited resources, cost, and performance?\n",
    "- In 1-2 paragraphs explain to the board of supervisors in layman's terms how the final model chosen is supposed to work (for example if you chose a Decision Tree or Support Vector Machine, how does it make a prediction).\n",
    "- Fine-tune the model. Use Gridsearch with at least one important parameter tuned and with at least 3 settings. Use the entire training set for this.\n",
    "- What is the model's final F<sub>1</sub> score?"
   ]
  },
  {
   "cell_type": "code",
   "execution_count": 587,
   "metadata": {
    "collapsed": true
   },
   "outputs": [],
   "source": [
    "# TODO: Fine-tune your model and report the best F1 score"
   ]
  }
 ],
 "metadata": {
  "kernelspec": {
   "display_name": "Python 2",
   "language": "python",
   "name": "python2"
  },
  "language_info": {
   "codemirror_mode": {
    "name": "ipython",
    "version": 2
   },
   "file_extension": ".py",
   "mimetype": "text/x-python",
   "name": "python",
   "nbconvert_exporter": "python",
   "pygments_lexer": "ipython2",
   "version": "2.7.10"
  }
 },
 "nbformat": 4,
 "nbformat_minor": 0
}
